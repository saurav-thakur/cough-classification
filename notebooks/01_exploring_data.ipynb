{
 "cells": [
  {
   "cell_type": "markdown",
   "metadata": {},
   "source": [
    "# Importing Libraries"
   ]
  },
  {
   "cell_type": "code",
   "execution_count": 13,
   "metadata": {},
   "outputs": [],
   "source": [
    "import os\n",
    "import shutil\n",
    "\n",
    "import pandas as pd\n",
    "import numpy as np\n",
    "\n",
    "import matplotlib.pylab as plt\n",
    "import seaborn as sns\n",
    "\n",
    "import librosa\n",
    "import librosa.display\n",
    "from sklearn.metrics import accuracy_score,classification_report\n",
    "\n",
    "# !sudo apt-get install p7zip-full"
   ]
  },
  {
   "cell_type": "markdown",
   "metadata": {},
   "source": [
    "# Loading Dataset"
   ]
  },
  {
   "cell_type": "code",
   "execution_count": 3,
   "metadata": {},
   "outputs": [],
   "source": [
    "# sample_rate, data = wavfile.read('../dataset/audio_files/0a03da19-eb19-4f51-9860-78ad95fa8cb5.wav')"
   ]
  },
  {
   "cell_type": "markdown",
   "metadata": {},
   "source": [
    "# Exploring Dataset"
   ]
  },
  {
   "cell_type": "code",
   "execution_count": 4,
   "metadata": {},
   "outputs": [],
   "source": [
    "# sample_rate"
   ]
  },
  {
   "cell_type": "code",
   "execution_count": 5,
   "metadata": {},
   "outputs": [],
   "source": [
    "# data"
   ]
  },
  {
   "cell_type": "code",
   "execution_count": 6,
   "metadata": {},
   "outputs": [],
   "source": [
    "# np.unique(data)"
   ]
  },
  {
   "cell_type": "code",
   "execution_count": 146,
   "metadata": {},
   "outputs": [],
   "source": [
    "def label_cough_frames(time_frames, amp, sf):\n",
    "  y = np.zeros(amp.shape[0])\n",
    "  #print('len', amp.shape[0])\n",
    "  for x in time_frames:\n",
    "    start = int(x[0]*sf)\n",
    "    end = int(x[1]*sf)\n",
    "    y[start:end+1] = 1\n",
    "    #print('start', f'{x[0]} sec ~ pos ', start, 'end', f'{x[1]} sec ~ pos ', end )\n",
    "  return y\n",
    "\n",
    "def get_audio_files_and_cough_timeframe_from_csv(df, audio_file_path, filename_index='uuid', start_end_time_prefix='IN_OUT_', max_start_end_count=16):\n",
    "  \"\"\"\n",
    "  Get file names based on spreadsheet (Dataset workflow.csv) and start end time of cough\n",
    "\n",
    "    Parameters\n",
    "      df (DataFrame): Contains of filenames and start end time values of cough sounds\n",
    "      filenames (list): List of filenames\n",
    "      filename_index (str): Column name of the df that holds values of file names\n",
    "      start_end_time_prefix (str): Optional prefix text in the column names for start and end time of cough sounds\n",
    "      max_start_end_count (int): Maximum number of column names for start and end time of cough sounds\n",
    "  \"\"\"\n",
    "  # get column names for start and end time\n",
    "  col_names = [f'{start_end_time_prefix}{x}' for x in range(1,17)]\n",
    "\n",
    "  extract_uuid = lambda file_path: os.path.splitext(os.path.basename(file_path))[0]\n",
    "\n",
    "  amplitude_and_sampling_freq = lambda file_path: librosa.load(file_path)\n",
    "  #amplitude_and_sampling_freq = lambda file_path: (np.zeros(1),0)\n",
    "\n",
    "  dic = {\"amp\":[], \"amp_original\":[], \"sf\":[], \"sf_original\":[], \"shape\":[], \"shape_original\":[], \"cough_start_end\":[], \"label\":[]}\n",
    "  files = []\n",
    "  for file_name in os.listdir(audio_file_path):\n",
    "    file_path = os.path.join(audio_file_path,file_name)\n",
    "    uuid = extract_uuid(file_path)\n",
    " \n",
    "    times = df[ df[filename_index] == uuid ][col_names].dropna(axis=1).values\n",
    "    frame = []\n",
    "    if len(times) > 0:\n",
    "      frame.extend([list(map(float, x.strip().split(','))) for x in times[0] if len(x.strip().split(',')) == 2])\n",
    "\n",
    "    # if len(times) > 0:\n",
    "    #   for x in times[0]:\n",
    "    #     se = x.strip().split(',')\n",
    "    #     if len(se) == 2:\n",
    "    #       frame.append([float(se[0]),float(se[1])])\n",
    "\n",
    "    #print(uuid, times, frame)\n",
    "    files.append(uuid)\n",
    "    amp, sf = amplitude_and_sampling_freq(file_path)\n",
    "\n",
    "    #resample audio file to 16Khz based on Supervisor Request\n",
    "    sf_resampled = 16000\n",
    "    amp_resampled = librosa.resample(amp, orig_sr=sf, target_sr=sf_resampled)\n",
    "\n",
    "    dic[\"amp\"].append(amp_resampled)\n",
    "    dic[\"amp_original\"].append(amp)\n",
    "    dic[\"sf\"].append(sf_resampled)\n",
    "    dic[\"sf_original\"].append(sf)\n",
    "    dic[\"shape\"].append(amp_resampled.shape)\n",
    "    dic[\"shape_original\"].append(amp.shape)\n",
    "\n",
    "    if len(frame) > 0:\n",
    "      #print(uuid, times)\n",
    "      dic[\"cough_start_end\"].append(frame)\n",
    "      dic[\"label\"].append(label_cough_frames(frame, amp_resampled, sf_resampled))\n",
    "    else:\n",
    "      dic[\"cough_start_end\"].append(np.nan)\n",
    "      #30-May-24\n",
    "      dic[\"label\"].append(label_cough_frames(frame, amp_resampled, sf_resampled))\n",
    "\n",
    "\n",
    "  return pd.DataFrame(dic, index=files)\n",
    "\n",
    "def plot_amp_vs_label(title, visual_set, audio_df2, percent=0):\n",
    "  for i, v in visual_set.items():\n",
    "    if percent > 0:\n",
    "      argmax = np.argmax(audio_df2.loc[v][\"amp\"])\n",
    "      three_percent = len(audio_df2.loc[v][\"amp\"])*percent\n",
    "      start_zoom = int(argmax - three_percent)\n",
    "      end_zoom = int(argmax + three_percent)\n",
    "      print(f'Max value {np.max(audio_df2.loc[v][\"amp\"])} pos {argmax} {start_zoom},{end_zoom}')\n",
    "      pd.Series( audio_df2.loc[v][\"amp\"][start_zoom:end_zoom]).plot(figsize=(16, 4),lw=1, title=f'{i} {title} {v}')\n",
    "      pd.Series( audio_df2.loc[v][\"label\"][start_zoom:end_zoom]).plot(figsize=(16, 4),lw=2)\n",
    "    else:\n",
    "      pd.Series( audio_df2.loc[v][\"amp\"]).plot(figsize=(16, 4),lw=1, title=f'{i} {title} {v}')\n",
    "      pd.Series( audio_df2.loc[v][\"label\"]).plot(figsize=(16, 4),lw=2)\n",
    "\n",
    "    plt.show()"
   ]
  },
  {
   "cell_type": "code",
   "execution_count": 147,
   "metadata": {},
   "outputs": [
    {
     "data": {
      "text/html": [
       "<div>\n",
       "<style scoped>\n",
       "    .dataframe tbody tr th:only-of-type {\n",
       "        vertical-align: middle;\n",
       "    }\n",
       "\n",
       "    .dataframe tbody tr th {\n",
       "        vertical-align: top;\n",
       "    }\n",
       "\n",
       "    .dataframe thead th {\n",
       "        text-align: right;\n",
       "    }\n",
       "</style>\n",
       "<table border=\"1\" class=\"dataframe\">\n",
       "  <thead>\n",
       "    <tr style=\"text-align: right;\">\n",
       "      <th></th>\n",
       "      <th>Unnamed: 0</th>\n",
       "      <th>Unnamed: 1</th>\n",
       "      <th>uuid</th>\n",
       "      <th>age</th>\n",
       "      <th>gender</th>\n",
       "      <th>status</th>\n",
       "      <th>Cough (Yes (1)/No (0))</th>\n",
       "      <th>Training</th>\n",
       "      <th>IN_OUT_1</th>\n",
       "      <th>IN_OUT_2</th>\n",
       "      <th>...</th>\n",
       "      <th>IN_OUT_7</th>\n",
       "      <th>IN_OUT_8</th>\n",
       "      <th>IN_OUT_9</th>\n",
       "      <th>IN_OUT_10</th>\n",
       "      <th>IN_OUT_11</th>\n",
       "      <th>IN_OUT_12</th>\n",
       "      <th>IN_OUT_13</th>\n",
       "      <th>IN_OUT_14</th>\n",
       "      <th>IN_OUT_15</th>\n",
       "      <th>IN_OUT_16</th>\n",
       "    </tr>\n",
       "  </thead>\n",
       "  <tbody>\n",
       "    <tr>\n",
       "      <th>0</th>\n",
       "      <td>1</td>\n",
       "      <td>Warren</td>\n",
       "      <td>0f8d80f9-700e-4069-924d-e15f29d7c19a</td>\n",
       "      <td>16.0</td>\n",
       "      <td>female</td>\n",
       "      <td>COVID-19</td>\n",
       "      <td>1.0</td>\n",
       "      <td>1</td>\n",
       "      <td>0.676663,1.172248</td>\n",
       "      <td>1.964468,2.321861</td>\n",
       "      <td>...</td>\n",
       "      <td>NaN</td>\n",
       "      <td>NaN</td>\n",
       "      <td>NaN</td>\n",
       "      <td>NaN</td>\n",
       "      <td>NaN</td>\n",
       "      <td>NaN</td>\n",
       "      <td>NaN</td>\n",
       "      <td>NaN</td>\n",
       "      <td>NaN</td>\n",
       "      <td>NaN</td>\n",
       "    </tr>\n",
       "    <tr>\n",
       "      <th>1</th>\n",
       "      <td>2</td>\n",
       "      <td>Warren</td>\n",
       "      <td>3278e364-afdd-4c39-9126-b8b4a4caf1c5</td>\n",
       "      <td>39.0</td>\n",
       "      <td>male</td>\n",
       "      <td>healthy</td>\n",
       "      <td>1.0</td>\n",
       "      <td>1</td>\n",
       "      <td>4.059530,4.841149</td>\n",
       "      <td>4.935187,5.410265</td>\n",
       "      <td>...</td>\n",
       "      <td>NaN</td>\n",
       "      <td>NaN</td>\n",
       "      <td>NaN</td>\n",
       "      <td>NaN</td>\n",
       "      <td>NaN</td>\n",
       "      <td>NaN</td>\n",
       "      <td>NaN</td>\n",
       "      <td>NaN</td>\n",
       "      <td>NaN</td>\n",
       "      <td>NaN</td>\n",
       "    </tr>\n",
       "    <tr>\n",
       "      <th>2</th>\n",
       "      <td>3</td>\n",
       "      <td>Warren</td>\n",
       "      <td>6462d540-48bc-410b-b08e-cdf0b45ee118</td>\n",
       "      <td>45.0</td>\n",
       "      <td>male</td>\n",
       "      <td>COVID-19</td>\n",
       "      <td>1.0</td>\n",
       "      <td>1</td>\n",
       "      <td>0.776306,1.765430</td>\n",
       "      <td>2.094332,2.619125</td>\n",
       "      <td>...</td>\n",
       "      <td>NaN</td>\n",
       "      <td>NaN</td>\n",
       "      <td>NaN</td>\n",
       "      <td>NaN</td>\n",
       "      <td>NaN</td>\n",
       "      <td>NaN</td>\n",
       "      <td>NaN</td>\n",
       "      <td>NaN</td>\n",
       "      <td>NaN</td>\n",
       "      <td>NaN</td>\n",
       "    </tr>\n",
       "    <tr>\n",
       "      <th>3</th>\n",
       "      <td>4</td>\n",
       "      <td>Warren</td>\n",
       "      <td>7876c549-066a-4ea1-a82e-45772114f964</td>\n",
       "      <td>44.0</td>\n",
       "      <td>male</td>\n",
       "      <td>symptomatic</td>\n",
       "      <td>1.0</td>\n",
       "      <td>1</td>\n",
       "      <td>1.014883,1.671931</td>\n",
       "      <td>1.671931,2.227612</td>\n",
       "      <td>...</td>\n",
       "      <td>NaN</td>\n",
       "      <td>NaN</td>\n",
       "      <td>NaN</td>\n",
       "      <td>NaN</td>\n",
       "      <td>NaN</td>\n",
       "      <td>NaN</td>\n",
       "      <td>NaN</td>\n",
       "      <td>NaN</td>\n",
       "      <td>NaN</td>\n",
       "      <td>NaN</td>\n",
       "    </tr>\n",
       "    <tr>\n",
       "      <th>4</th>\n",
       "      <td>5</td>\n",
       "      <td>Warren</td>\n",
       "      <td>ccdb32af-58f4-4718-9f6e-eec7e0020382</td>\n",
       "      <td>31.0</td>\n",
       "      <td>male</td>\n",
       "      <td>COVID-19</td>\n",
       "      <td>1.0</td>\n",
       "      <td>1</td>\n",
       "      <td>1.931091,2.374866</td>\n",
       "      <td>2.374866,2.817433</td>\n",
       "      <td>...</td>\n",
       "      <td>NaN</td>\n",
       "      <td>NaN</td>\n",
       "      <td>NaN</td>\n",
       "      <td>NaN</td>\n",
       "      <td>NaN</td>\n",
       "      <td>NaN</td>\n",
       "      <td>NaN</td>\n",
       "      <td>NaN</td>\n",
       "      <td>NaN</td>\n",
       "      <td>NaN</td>\n",
       "    </tr>\n",
       "    <tr>\n",
       "      <th>...</th>\n",
       "      <td>...</td>\n",
       "      <td>...</td>\n",
       "      <td>...</td>\n",
       "      <td>...</td>\n",
       "      <td>...</td>\n",
       "      <td>...</td>\n",
       "      <td>...</td>\n",
       "      <td>...</td>\n",
       "      <td>...</td>\n",
       "      <td>...</td>\n",
       "      <td>...</td>\n",
       "      <td>...</td>\n",
       "      <td>...</td>\n",
       "      <td>...</td>\n",
       "      <td>...</td>\n",
       "      <td>...</td>\n",
       "      <td>...</td>\n",
       "      <td>...</td>\n",
       "      <td>...</td>\n",
       "      <td>...</td>\n",
       "      <td>...</td>\n",
       "    </tr>\n",
       "    <tr>\n",
       "      <th>345</th>\n",
       "      <td>346</td>\n",
       "      <td>NaN</td>\n",
       "      <td>c98b76a0-089e-4552-8649-2804e2d95403</td>\n",
       "      <td>NaN</td>\n",
       "      <td>female</td>\n",
       "      <td>COVID-19</td>\n",
       "      <td>0.0</td>\n",
       "      <td>1</td>\n",
       "      <td>NaN</td>\n",
       "      <td>NaN</td>\n",
       "      <td>...</td>\n",
       "      <td>NaN</td>\n",
       "      <td>NaN</td>\n",
       "      <td>NaN</td>\n",
       "      <td>NaN</td>\n",
       "      <td>NaN</td>\n",
       "      <td>NaN</td>\n",
       "      <td>NaN</td>\n",
       "      <td>NaN</td>\n",
       "      <td>NaN</td>\n",
       "      <td>NaN</td>\n",
       "    </tr>\n",
       "    <tr>\n",
       "      <th>346</th>\n",
       "      <td>347</td>\n",
       "      <td>NaN</td>\n",
       "      <td>ce5ae235-fa9f-4ded-ba7b-623b78cf76a3</td>\n",
       "      <td>NaN</td>\n",
       "      <td>NaN</td>\n",
       "      <td>NaN</td>\n",
       "      <td>0.0</td>\n",
       "      <td>1</td>\n",
       "      <td>NaN</td>\n",
       "      <td>NaN</td>\n",
       "      <td>...</td>\n",
       "      <td>NaN</td>\n",
       "      <td>NaN</td>\n",
       "      <td>NaN</td>\n",
       "      <td>NaN</td>\n",
       "      <td>NaN</td>\n",
       "      <td>NaN</td>\n",
       "      <td>NaN</td>\n",
       "      <td>NaN</td>\n",
       "      <td>NaN</td>\n",
       "      <td>NaN</td>\n",
       "    </tr>\n",
       "    <tr>\n",
       "      <th>347</th>\n",
       "      <td>348</td>\n",
       "      <td>NaN</td>\n",
       "      <td>d43e0849-42db-4442-94bf-ace2056fcffc</td>\n",
       "      <td>23.0</td>\n",
       "      <td>male</td>\n",
       "      <td>healthy</td>\n",
       "      <td>0.0</td>\n",
       "      <td>1</td>\n",
       "      <td>NaN</td>\n",
       "      <td>NaN</td>\n",
       "      <td>...</td>\n",
       "      <td>NaN</td>\n",
       "      <td>NaN</td>\n",
       "      <td>NaN</td>\n",
       "      <td>NaN</td>\n",
       "      <td>NaN</td>\n",
       "      <td>NaN</td>\n",
       "      <td>NaN</td>\n",
       "      <td>NaN</td>\n",
       "      <td>NaN</td>\n",
       "      <td>NaN</td>\n",
       "    </tr>\n",
       "    <tr>\n",
       "      <th>348</th>\n",
       "      <td>349</td>\n",
       "      <td>NaN</td>\n",
       "      <td>01424527-9c3b-4b6e-96f1-9eea3150819b</td>\n",
       "      <td>39.0</td>\n",
       "      <td>female</td>\n",
       "      <td>COVID-19</td>\n",
       "      <td>0.0</td>\n",
       "      <td>1</td>\n",
       "      <td>NaN</td>\n",
       "      <td>NaN</td>\n",
       "      <td>...</td>\n",
       "      <td>NaN</td>\n",
       "      <td>NaN</td>\n",
       "      <td>NaN</td>\n",
       "      <td>NaN</td>\n",
       "      <td>NaN</td>\n",
       "      <td>NaN</td>\n",
       "      <td>NaN</td>\n",
       "      <td>NaN</td>\n",
       "      <td>NaN</td>\n",
       "      <td>NaN</td>\n",
       "    </tr>\n",
       "    <tr>\n",
       "      <th>349</th>\n",
       "      <td>350</td>\n",
       "      <td>NaN</td>\n",
       "      <td>0e989f65-989f-4b9a-beb7-f56e2e8ac468</td>\n",
       "      <td>NaN</td>\n",
       "      <td>female</td>\n",
       "      <td>healthy</td>\n",
       "      <td>0.0</td>\n",
       "      <td>1</td>\n",
       "      <td>NaN</td>\n",
       "      <td>NaN</td>\n",
       "      <td>...</td>\n",
       "      <td>NaN</td>\n",
       "      <td>NaN</td>\n",
       "      <td>NaN</td>\n",
       "      <td>NaN</td>\n",
       "      <td>NaN</td>\n",
       "      <td>NaN</td>\n",
       "      <td>NaN</td>\n",
       "      <td>NaN</td>\n",
       "      <td>NaN</td>\n",
       "      <td>NaN</td>\n",
       "    </tr>\n",
       "  </tbody>\n",
       "</table>\n",
       "<p>300 rows × 24 columns</p>\n",
       "</div>"
      ],
      "text/plain": [
       "     Unnamed: 0 Unnamed: 1                                  uuid   age  \\\n",
       "0             1     Warren  0f8d80f9-700e-4069-924d-e15f29d7c19a  16.0   \n",
       "1             2     Warren  3278e364-afdd-4c39-9126-b8b4a4caf1c5  39.0   \n",
       "2             3     Warren  6462d540-48bc-410b-b08e-cdf0b45ee118  45.0   \n",
       "3             4     Warren  7876c549-066a-4ea1-a82e-45772114f964  44.0   \n",
       "4             5     Warren  ccdb32af-58f4-4718-9f6e-eec7e0020382  31.0   \n",
       "..          ...        ...                                   ...   ...   \n",
       "345         346        NaN  c98b76a0-089e-4552-8649-2804e2d95403   NaN   \n",
       "346         347        NaN  ce5ae235-fa9f-4ded-ba7b-623b78cf76a3   NaN   \n",
       "347         348        NaN  d43e0849-42db-4442-94bf-ace2056fcffc  23.0   \n",
       "348         349        NaN  01424527-9c3b-4b6e-96f1-9eea3150819b  39.0   \n",
       "349         350        NaN  0e989f65-989f-4b9a-beb7-f56e2e8ac468   NaN   \n",
       "\n",
       "     gender       status  Cough (Yes (1)/No (0))  Training           IN_OUT_1  \\\n",
       "0    female     COVID-19                     1.0         1  0.676663,1.172248   \n",
       "1      male      healthy                     1.0         1  4.059530,4.841149   \n",
       "2      male     COVID-19                     1.0         1  0.776306,1.765430   \n",
       "3      male  symptomatic                     1.0         1  1.014883,1.671931   \n",
       "4      male     COVID-19                     1.0         1  1.931091,2.374866   \n",
       "..      ...          ...                     ...       ...                ...   \n",
       "345  female     COVID-19                     0.0         1                NaN   \n",
       "346     NaN          NaN                     0.0         1                NaN   \n",
       "347    male      healthy                     0.0         1                NaN   \n",
       "348  female     COVID-19                     0.0         1                NaN   \n",
       "349  female      healthy                     0.0         1                NaN   \n",
       "\n",
       "              IN_OUT_2  ... IN_OUT_7 IN_OUT_8 IN_OUT_9 IN_OUT_10 IN_OUT_11  \\\n",
       "0    1.964468,2.321861  ...      NaN      NaN      NaN       NaN       NaN   \n",
       "1    4.935187,5.410265  ...      NaN      NaN      NaN       NaN       NaN   \n",
       "2    2.094332,2.619125  ...      NaN      NaN      NaN       NaN       NaN   \n",
       "3    1.671931,2.227612  ...      NaN      NaN      NaN       NaN       NaN   \n",
       "4    2.374866,2.817433  ...      NaN      NaN      NaN       NaN       NaN   \n",
       "..                 ...  ...      ...      ...      ...       ...       ...   \n",
       "345                NaN  ...      NaN      NaN      NaN       NaN       NaN   \n",
       "346                NaN  ...      NaN      NaN      NaN       NaN       NaN   \n",
       "347                NaN  ...      NaN      NaN      NaN       NaN       NaN   \n",
       "348                NaN  ...      NaN      NaN      NaN       NaN       NaN   \n",
       "349                NaN  ...      NaN      NaN      NaN       NaN       NaN   \n",
       "\n",
       "    IN_OUT_12 IN_OUT_13 IN_OUT_14 IN_OUT_15 IN_OUT_16  \n",
       "0         NaN       NaN       NaN       NaN       NaN  \n",
       "1         NaN       NaN       NaN       NaN       NaN  \n",
       "2         NaN       NaN       NaN       NaN       NaN  \n",
       "3         NaN       NaN       NaN       NaN       NaN  \n",
       "4         NaN       NaN       NaN       NaN       NaN  \n",
       "..        ...       ...       ...       ...       ...  \n",
       "345       NaN       NaN       NaN       NaN       NaN  \n",
       "346       NaN       NaN       NaN       NaN       NaN  \n",
       "347       NaN       NaN       NaN       NaN       NaN  \n",
       "348       NaN       NaN       NaN       NaN       NaN  \n",
       "349       NaN       NaN       NaN       NaN       NaN  \n",
       "\n",
       "[300 rows x 24 columns]"
      ]
     },
     "execution_count": 147,
     "metadata": {},
     "output_type": "execute_result"
    }
   ],
   "source": [
    "df = pd.read_csv(\"../dataset/Dataset workflow.csv\")\n",
    "df1 = df[df[\"Training\"] == 1]\n",
    "df1"
   ]
  },
  {
   "cell_type": "code",
   "execution_count": 148,
   "metadata": {},
   "outputs": [],
   "source": [
    "df = pd.read_csv(\"../dataset/Dataset workflow.csv\")\n",
    "audio_file_path = \"../dataset/audio_files/AWS Audio Files\"\n",
    "audio_df = get_audio_files_and_cough_timeframe_from_csv(df1, audio_file_path, filename_index='uuid', start_end_time_prefix='IN_OUT_', max_start_end_count=16)"
   ]
  },
  {
   "cell_type": "code",
   "execution_count": 156,
   "metadata": {},
   "outputs": [
    {
     "data": {
      "text/plain": [
       "300"
      ]
     },
     "execution_count": 156,
     "metadata": {},
     "output_type": "execute_result"
    }
   ],
   "source": [
    "onest = os.listdir(audio_file_path)\n",
    "onest[0].split\n",
    "count = 0\n",
    "for i in os.listdir(audio_file_path):\n",
    "    curr = i.split(\".\")[0]\n",
    "    if curr in df1[\"uuid\"].values:\n",
    "        count += 1\n",
    "\n",
    "count"
   ]
  },
  {
   "cell_type": "code",
   "execution_count": 149,
   "metadata": {},
   "outputs": [
    {
     "data": {
      "text/html": [
       "<div>\n",
       "<style scoped>\n",
       "    .dataframe tbody tr th:only-of-type {\n",
       "        vertical-align: middle;\n",
       "    }\n",
       "\n",
       "    .dataframe tbody tr th {\n",
       "        vertical-align: top;\n",
       "    }\n",
       "\n",
       "    .dataframe thead th {\n",
       "        text-align: right;\n",
       "    }\n",
       "</style>\n",
       "<table border=\"1\" class=\"dataframe\">\n",
       "  <thead>\n",
       "    <tr style=\"text-align: right;\">\n",
       "      <th></th>\n",
       "      <th>amp</th>\n",
       "      <th>amp_original</th>\n",
       "      <th>sf</th>\n",
       "      <th>sf_original</th>\n",
       "      <th>shape</th>\n",
       "      <th>shape_original</th>\n",
       "      <th>cough_start_end</th>\n",
       "      <th>label</th>\n",
       "    </tr>\n",
       "  </thead>\n",
       "  <tbody>\n",
       "    <tr>\n",
       "      <th>0029d048-898a-4c70-89c7-0815cdcf7391</th>\n",
       "      <td>[9.562798e-07, -1.2558273e-06, 1.4575851e-06, ...</td>\n",
       "      <td>[-4.574141e-08, 4.00641e-08, -4.5631047e-08, 3...</td>\n",
       "      <td>16000</td>\n",
       "      <td>22050</td>\n",
       "      <td>(157440,)</td>\n",
       "      <td>(216972,)</td>\n",
       "      <td>[[0.720196, 1.122022], [1.551667, 1.996767], [...</td>\n",
       "      <td>[0.0, 0.0, 0.0, 0.0, 0.0, 0.0, 0.0, 0.0, 0.0, ...</td>\n",
       "    </tr>\n",
       "  </tbody>\n",
       "</table>\n",
       "</div>"
      ],
      "text/plain": [
       "                                                                                    amp  \\\n",
       "0029d048-898a-4c70-89c7-0815cdcf7391  [9.562798e-07, -1.2558273e-06, 1.4575851e-06, ...   \n",
       "\n",
       "                                                                           amp_original  \\\n",
       "0029d048-898a-4c70-89c7-0815cdcf7391  [-4.574141e-08, 4.00641e-08, -4.5631047e-08, 3...   \n",
       "\n",
       "                                         sf  sf_original      shape  \\\n",
       "0029d048-898a-4c70-89c7-0815cdcf7391  16000        22050  (157440,)   \n",
       "\n",
       "                                     shape_original  \\\n",
       "0029d048-898a-4c70-89c7-0815cdcf7391      (216972,)   \n",
       "\n",
       "                                                                        cough_start_end  \\\n",
       "0029d048-898a-4c70-89c7-0815cdcf7391  [[0.720196, 1.122022], [1.551667, 1.996767], [...   \n",
       "\n",
       "                                                                                  label  \n",
       "0029d048-898a-4c70-89c7-0815cdcf7391  [0.0, 0.0, 0.0, 0.0, 0.0, 0.0, 0.0, 0.0, 0.0, ...  "
      ]
     },
     "execution_count": 149,
     "metadata": {},
     "output_type": "execute_result"
    }
   ],
   "source": [
    "audio_df"
   ]
  },
  {
   "cell_type": "code",
   "execution_count": 129,
   "metadata": {},
   "outputs": [
    {
     "name": "stderr",
     "output_type": "stream",
     "text": [
      "C:\\Users\\Saurav\\AppData\\Local\\Temp\\ipykernel_13980\\3360334015.py:27: UserWarning: PySoundFile failed. Trying audioread instead.\n",
      "  amplitude_and_sampling_freq = lambda file_path: librosa.load(file_path)\n",
      "f:\\Data Science and ML\\End To End ML\\CE 903 - Group Project\\23-24_CE903-SU_team06\\venv-team06\\lib\\site-packages\\librosa\\core\\audio.py:184: FutureWarning: librosa.core.audio.__audioread_load\n",
      "\tDeprecated as of librosa version 0.10.0.\n",
      "\tIt will be removed in librosa version 1.0.\n",
      "  y, sr_native = __audioread_load(path, offset, duration, dtype)\n"
     ]
    },
    {
     "ename": "PermissionError",
     "evalue": "[Errno 13] Permission denied: '.'",
     "output_type": "error",
     "traceback": [
      "\u001b[1;31m---------------------------------------------------------------------------\u001b[0m",
      "\u001b[1;31mLibsndfileError\u001b[0m                           Traceback (most recent call last)",
      "File \u001b[1;32mf:\\Data Science and ML\\End To End ML\\CE 903 - Group Project\\23-24_CE903-SU_team06\\venv-team06\\lib\\site-packages\\librosa\\core\\audio.py:176\u001b[0m, in \u001b[0;36mload\u001b[1;34m(path, sr, mono, offset, duration, dtype, res_type)\u001b[0m\n\u001b[0;32m    175\u001b[0m \u001b[38;5;28;01mtry\u001b[39;00m:\n\u001b[1;32m--> 176\u001b[0m     y, sr_native \u001b[38;5;241m=\u001b[39m \u001b[43m__soundfile_load\u001b[49m\u001b[43m(\u001b[49m\u001b[43mpath\u001b[49m\u001b[43m,\u001b[49m\u001b[43m \u001b[49m\u001b[43moffset\u001b[49m\u001b[43m,\u001b[49m\u001b[43m \u001b[49m\u001b[43mduration\u001b[49m\u001b[43m,\u001b[49m\u001b[43m \u001b[49m\u001b[43mdtype\u001b[49m\u001b[43m)\u001b[49m\n\u001b[0;32m    178\u001b[0m \u001b[38;5;28;01mexcept\u001b[39;00m sf\u001b[38;5;241m.\u001b[39mSoundFileRuntimeError \u001b[38;5;28;01mas\u001b[39;00m exc:\n\u001b[0;32m    179\u001b[0m     \u001b[38;5;66;03m# If soundfile failed, try audioread instead\u001b[39;00m\n",
      "File \u001b[1;32mf:\\Data Science and ML\\End To End ML\\CE 903 - Group Project\\23-24_CE903-SU_team06\\venv-team06\\lib\\site-packages\\librosa\\core\\audio.py:209\u001b[0m, in \u001b[0;36m__soundfile_load\u001b[1;34m(path, offset, duration, dtype)\u001b[0m\n\u001b[0;32m    207\u001b[0m \u001b[38;5;28;01melse\u001b[39;00m:\n\u001b[0;32m    208\u001b[0m     \u001b[38;5;66;03m# Otherwise, create the soundfile object\u001b[39;00m\n\u001b[1;32m--> 209\u001b[0m     context \u001b[38;5;241m=\u001b[39m \u001b[43msf\u001b[49m\u001b[38;5;241;43m.\u001b[39;49m\u001b[43mSoundFile\u001b[49m\u001b[43m(\u001b[49m\u001b[43mpath\u001b[49m\u001b[43m)\u001b[49m\n\u001b[0;32m    211\u001b[0m \u001b[38;5;28;01mwith\u001b[39;00m context \u001b[38;5;28;01mas\u001b[39;00m sf_desc:\n",
      "File \u001b[1;32mf:\\Data Science and ML\\End To End ML\\CE 903 - Group Project\\23-24_CE903-SU_team06\\venv-team06\\lib\\site-packages\\soundfile.py:658\u001b[0m, in \u001b[0;36mSoundFile.__init__\u001b[1;34m(self, file, mode, samplerate, channels, subtype, endian, format, closefd)\u001b[0m\n\u001b[0;32m    656\u001b[0m \u001b[38;5;28mself\u001b[39m\u001b[38;5;241m.\u001b[39m_info \u001b[38;5;241m=\u001b[39m _create_info_struct(file, mode, samplerate, channels,\n\u001b[0;32m    657\u001b[0m                                  \u001b[38;5;28mformat\u001b[39m, subtype, endian)\n\u001b[1;32m--> 658\u001b[0m \u001b[38;5;28mself\u001b[39m\u001b[38;5;241m.\u001b[39m_file \u001b[38;5;241m=\u001b[39m \u001b[38;5;28;43mself\u001b[39;49m\u001b[38;5;241;43m.\u001b[39;49m\u001b[43m_open\u001b[49m\u001b[43m(\u001b[49m\u001b[43mfile\u001b[49m\u001b[43m,\u001b[49m\u001b[43m \u001b[49m\u001b[43mmode_int\u001b[49m\u001b[43m,\u001b[49m\u001b[43m \u001b[49m\u001b[43mclosefd\u001b[49m\u001b[43m)\u001b[49m\n\u001b[0;32m    659\u001b[0m \u001b[38;5;28;01mif\u001b[39;00m \u001b[38;5;28mset\u001b[39m(mode)\u001b[38;5;241m.\u001b[39missuperset(\u001b[38;5;124m'\u001b[39m\u001b[38;5;124mr+\u001b[39m\u001b[38;5;124m'\u001b[39m) \u001b[38;5;129;01mand\u001b[39;00m \u001b[38;5;28mself\u001b[39m\u001b[38;5;241m.\u001b[39mseekable():\n\u001b[0;32m    660\u001b[0m     \u001b[38;5;66;03m# Move write position to 0 (like in Python file objects)\u001b[39;00m\n",
      "File \u001b[1;32mf:\\Data Science and ML\\End To End ML\\CE 903 - Group Project\\23-24_CE903-SU_team06\\venv-team06\\lib\\site-packages\\soundfile.py:1216\u001b[0m, in \u001b[0;36mSoundFile._open\u001b[1;34m(self, file, mode_int, closefd)\u001b[0m\n\u001b[0;32m   1215\u001b[0m     err \u001b[38;5;241m=\u001b[39m _snd\u001b[38;5;241m.\u001b[39msf_error(file_ptr)\n\u001b[1;32m-> 1216\u001b[0m     \u001b[38;5;28;01mraise\u001b[39;00m LibsndfileError(err, prefix\u001b[38;5;241m=\u001b[39m\u001b[38;5;124m\"\u001b[39m\u001b[38;5;124mError opening \u001b[39m\u001b[38;5;132;01m{0!r}\u001b[39;00m\u001b[38;5;124m: \u001b[39m\u001b[38;5;124m\"\u001b[39m\u001b[38;5;241m.\u001b[39mformat(\u001b[38;5;28mself\u001b[39m\u001b[38;5;241m.\u001b[39mname))\n\u001b[0;32m   1217\u001b[0m \u001b[38;5;28;01mif\u001b[39;00m mode_int \u001b[38;5;241m==\u001b[39m _snd\u001b[38;5;241m.\u001b[39mSFM_WRITE:\n\u001b[0;32m   1218\u001b[0m     \u001b[38;5;66;03m# Due to a bug in libsndfile version <= 1.0.25, frames != 0\u001b[39;00m\n\u001b[0;32m   1219\u001b[0m     \u001b[38;5;66;03m# when opening a named pipe in SFM_WRITE mode.\u001b[39;00m\n\u001b[0;32m   1220\u001b[0m     \u001b[38;5;66;03m# See http://github.com/erikd/libsndfile/issues/77.\u001b[39;00m\n",
      "\u001b[1;31mLibsndfileError\u001b[0m: Error opening '.': System error.",
      "\nDuring handling of the above exception, another exception occurred:\n",
      "\u001b[1;31mPermissionError\u001b[0m                           Traceback (most recent call last)",
      "Cell \u001b[1;32mIn[129], line 1\u001b[0m\n\u001b[1;32m----> 1\u001b[0m audio_df \u001b[38;5;241m=\u001b[39m \u001b[43mget_audio_files_and_cough_timeframe_from_csv\u001b[49m\u001b[43m(\u001b[49m\u001b[43mdf\u001b[49m\u001b[43m,\u001b[49m\u001b[43m \u001b[49m\u001b[43maudio_file_path\u001b[49m\u001b[43m,\u001b[49m\u001b[43m \u001b[49m\u001b[43mfilename_index\u001b[49m\u001b[38;5;241;43m=\u001b[39;49m\u001b[38;5;124;43m'\u001b[39;49m\u001b[38;5;124;43muuid\u001b[39;49m\u001b[38;5;124;43m'\u001b[39;49m\u001b[43m,\u001b[49m\u001b[43m \u001b[49m\u001b[43mstart_end_time_prefix\u001b[49m\u001b[38;5;241;43m=\u001b[39;49m\u001b[38;5;124;43m'\u001b[39;49m\u001b[38;5;124;43mIN_OUT_\u001b[39;49m\u001b[38;5;124;43m'\u001b[39;49m\u001b[43m,\u001b[49m\u001b[43m \u001b[49m\u001b[43mmax_start_end_count\u001b[49m\u001b[38;5;241;43m=\u001b[39;49m\u001b[38;5;241;43m16\u001b[39;49m\u001b[43m)\u001b[49m\n",
      "Cell \u001b[1;32mIn[127], line 47\u001b[0m, in \u001b[0;36mget_audio_files_and_cough_timeframe_from_csv\u001b[1;34m(df, filenames, filename_index, start_end_time_prefix, max_start_end_count)\u001b[0m\n\u001b[0;32m     39\u001b[0m \u001b[38;5;66;03m# if len(times) > 0:\u001b[39;00m\n\u001b[0;32m     40\u001b[0m \u001b[38;5;66;03m#   for x in times[0]:\u001b[39;00m\n\u001b[0;32m     41\u001b[0m \u001b[38;5;66;03m#     se = x.strip().split(',')\u001b[39;00m\n\u001b[1;32m   (...)\u001b[0m\n\u001b[0;32m     44\u001b[0m \n\u001b[0;32m     45\u001b[0m \u001b[38;5;66;03m#print(uuid, times, frame)\u001b[39;00m\n\u001b[0;32m     46\u001b[0m files\u001b[38;5;241m.\u001b[39mappend(uuid)\n\u001b[1;32m---> 47\u001b[0m amp, sf \u001b[38;5;241m=\u001b[39m \u001b[43mamplitude_and_sampling_freq\u001b[49m\u001b[43m(\u001b[49m\u001b[43mfile_path\u001b[49m\u001b[43m)\u001b[49m\n\u001b[0;32m     49\u001b[0m \u001b[38;5;66;03m#resample audio file to 16Khz based on Supervisor Request\u001b[39;00m\n\u001b[0;32m     50\u001b[0m sf_resampled \u001b[38;5;241m=\u001b[39m \u001b[38;5;241m16000\u001b[39m\n",
      "Cell \u001b[1;32mIn[127], line 27\u001b[0m, in \u001b[0;36mget_audio_files_and_cough_timeframe_from_csv.<locals>.<lambda>\u001b[1;34m(file_path)\u001b[0m\n\u001b[0;32m     23\u001b[0m col_names \u001b[38;5;241m=\u001b[39m [\u001b[38;5;124mf\u001b[39m\u001b[38;5;124m'\u001b[39m\u001b[38;5;132;01m{\u001b[39;00mstart_end_time_prefix\u001b[38;5;132;01m}\u001b[39;00m\u001b[38;5;132;01m{\u001b[39;00mx\u001b[38;5;132;01m}\u001b[39;00m\u001b[38;5;124m'\u001b[39m \u001b[38;5;28;01mfor\u001b[39;00m x \u001b[38;5;129;01min\u001b[39;00m \u001b[38;5;28mrange\u001b[39m(\u001b[38;5;241m1\u001b[39m,\u001b[38;5;241m17\u001b[39m)]\n\u001b[0;32m     25\u001b[0m extract_uuid \u001b[38;5;241m=\u001b[39m \u001b[38;5;28;01mlambda\u001b[39;00m file_path: os\u001b[38;5;241m.\u001b[39mpath\u001b[38;5;241m.\u001b[39msplitext(os\u001b[38;5;241m.\u001b[39mpath\u001b[38;5;241m.\u001b[39mbasename(file_path))[\u001b[38;5;241m0\u001b[39m]\n\u001b[1;32m---> 27\u001b[0m amplitude_and_sampling_freq \u001b[38;5;241m=\u001b[39m \u001b[38;5;28;01mlambda\u001b[39;00m file_path: \u001b[43mlibrosa\u001b[49m\u001b[38;5;241;43m.\u001b[39;49m\u001b[43mload\u001b[49m\u001b[43m(\u001b[49m\u001b[43mfile_path\u001b[49m\u001b[43m)\u001b[49m\n\u001b[0;32m     28\u001b[0m \u001b[38;5;66;03m#amplitude_and_sampling_freq = lambda file_path: (np.zeros(1),0)\u001b[39;00m\n\u001b[0;32m     30\u001b[0m dic \u001b[38;5;241m=\u001b[39m {\u001b[38;5;124m\"\u001b[39m\u001b[38;5;124mamp\u001b[39m\u001b[38;5;124m\"\u001b[39m:[], \u001b[38;5;124m\"\u001b[39m\u001b[38;5;124mamp_original\u001b[39m\u001b[38;5;124m\"\u001b[39m:[], \u001b[38;5;124m\"\u001b[39m\u001b[38;5;124msf\u001b[39m\u001b[38;5;124m\"\u001b[39m:[], \u001b[38;5;124m\"\u001b[39m\u001b[38;5;124msf_original\u001b[39m\u001b[38;5;124m\"\u001b[39m:[], \u001b[38;5;124m\"\u001b[39m\u001b[38;5;124mshape\u001b[39m\u001b[38;5;124m\"\u001b[39m:[], \u001b[38;5;124m\"\u001b[39m\u001b[38;5;124mshape_original\u001b[39m\u001b[38;5;124m\"\u001b[39m:[], \u001b[38;5;124m\"\u001b[39m\u001b[38;5;124mcough_start_end\u001b[39m\u001b[38;5;124m\"\u001b[39m:[], \u001b[38;5;124m\"\u001b[39m\u001b[38;5;124mlabel\u001b[39m\u001b[38;5;124m\"\u001b[39m:[]}\n",
      "File \u001b[1;32mf:\\Data Science and ML\\End To End ML\\CE 903 - Group Project\\23-24_CE903-SU_team06\\venv-team06\\lib\\site-packages\\librosa\\core\\audio.py:184\u001b[0m, in \u001b[0;36mload\u001b[1;34m(path, sr, mono, offset, duration, dtype, res_type)\u001b[0m\n\u001b[0;32m    180\u001b[0m \u001b[38;5;28;01mif\u001b[39;00m \u001b[38;5;28misinstance\u001b[39m(path, (\u001b[38;5;28mstr\u001b[39m, pathlib\u001b[38;5;241m.\u001b[39mPurePath)):\n\u001b[0;32m    181\u001b[0m     warnings\u001b[38;5;241m.\u001b[39mwarn(\n\u001b[0;32m    182\u001b[0m         \u001b[38;5;124m\"\u001b[39m\u001b[38;5;124mPySoundFile failed. Trying audioread instead.\u001b[39m\u001b[38;5;124m\"\u001b[39m, stacklevel\u001b[38;5;241m=\u001b[39m\u001b[38;5;241m2\u001b[39m\n\u001b[0;32m    183\u001b[0m     )\n\u001b[1;32m--> 184\u001b[0m     y, sr_native \u001b[38;5;241m=\u001b[39m \u001b[43m__audioread_load\u001b[49m\u001b[43m(\u001b[49m\u001b[43mpath\u001b[49m\u001b[43m,\u001b[49m\u001b[43m \u001b[49m\u001b[43moffset\u001b[49m\u001b[43m,\u001b[49m\u001b[43m \u001b[49m\u001b[43mduration\u001b[49m\u001b[43m,\u001b[49m\u001b[43m \u001b[49m\u001b[43mdtype\u001b[49m\u001b[43m)\u001b[49m\n\u001b[0;32m    185\u001b[0m \u001b[38;5;28;01melse\u001b[39;00m:\n\u001b[0;32m    186\u001b[0m     \u001b[38;5;28;01mraise\u001b[39;00m exc\n",
      "File \u001b[1;32mf:\\Data Science and ML\\End To End ML\\CE 903 - Group Project\\23-24_CE903-SU_team06\\venv-team06\\lib\\site-packages\\decorator.py:232\u001b[0m, in \u001b[0;36mdecorate.<locals>.fun\u001b[1;34m(*args, **kw)\u001b[0m\n\u001b[0;32m    230\u001b[0m \u001b[38;5;28;01mif\u001b[39;00m \u001b[38;5;129;01mnot\u001b[39;00m kwsyntax:\n\u001b[0;32m    231\u001b[0m     args, kw \u001b[38;5;241m=\u001b[39m fix(args, kw, sig)\n\u001b[1;32m--> 232\u001b[0m \u001b[38;5;28;01mreturn\u001b[39;00m caller(func, \u001b[38;5;241m*\u001b[39m(extras \u001b[38;5;241m+\u001b[39m args), \u001b[38;5;241m*\u001b[39m\u001b[38;5;241m*\u001b[39mkw)\n",
      "File \u001b[1;32mf:\\Data Science and ML\\End To End ML\\CE 903 - Group Project\\23-24_CE903-SU_team06\\venv-team06\\lib\\site-packages\\librosa\\util\\decorators.py:59\u001b[0m, in \u001b[0;36mdeprecated.<locals>.__wrapper\u001b[1;34m(func, *args, **kwargs)\u001b[0m\n\u001b[0;32m     50\u001b[0m \u001b[38;5;250m\u001b[39m\u001b[38;5;124;03m\"\"\"Warn the user, and then proceed.\"\"\"\u001b[39;00m\n\u001b[0;32m     51\u001b[0m warnings\u001b[38;5;241m.\u001b[39mwarn(\n\u001b[0;32m     52\u001b[0m     \u001b[38;5;124m\"\u001b[39m\u001b[38;5;132;01m{:s}\u001b[39;00m\u001b[38;5;124m.\u001b[39m\u001b[38;5;132;01m{:s}\u001b[39;00m\u001b[38;5;130;01m\\n\u001b[39;00m\u001b[38;5;130;01m\\t\u001b[39;00m\u001b[38;5;124mDeprecated as of librosa version \u001b[39m\u001b[38;5;132;01m{:s}\u001b[39;00m\u001b[38;5;124m.\u001b[39m\u001b[38;5;124m\"\u001b[39m\n\u001b[0;32m     53\u001b[0m     \u001b[38;5;124m\"\u001b[39m\u001b[38;5;130;01m\\n\u001b[39;00m\u001b[38;5;130;01m\\t\u001b[39;00m\u001b[38;5;124mIt will be removed in librosa version \u001b[39m\u001b[38;5;132;01m{:s}\u001b[39;00m\u001b[38;5;124m.\u001b[39m\u001b[38;5;124m\"\u001b[39m\u001b[38;5;241m.\u001b[39mformat(\n\u001b[1;32m   (...)\u001b[0m\n\u001b[0;32m     57\u001b[0m     stacklevel\u001b[38;5;241m=\u001b[39m\u001b[38;5;241m3\u001b[39m,  \u001b[38;5;66;03m# Would be 2, but the decorator adds a level\u001b[39;00m\n\u001b[0;32m     58\u001b[0m )\n\u001b[1;32m---> 59\u001b[0m \u001b[38;5;28;01mreturn\u001b[39;00m func(\u001b[38;5;241m*\u001b[39margs, \u001b[38;5;241m*\u001b[39m\u001b[38;5;241m*\u001b[39mkwargs)\n",
      "File \u001b[1;32mf:\\Data Science and ML\\End To End ML\\CE 903 - Group Project\\23-24_CE903-SU_team06\\venv-team06\\lib\\site-packages\\librosa\\core\\audio.py:240\u001b[0m, in \u001b[0;36m__audioread_load\u001b[1;34m(path, offset, duration, dtype)\u001b[0m\n\u001b[0;32m    237\u001b[0m     reader \u001b[38;5;241m=\u001b[39m path\n\u001b[0;32m    238\u001b[0m \u001b[38;5;28;01melse\u001b[39;00m:\n\u001b[0;32m    239\u001b[0m     \u001b[38;5;66;03m# If the input was not an audioread object, try to open it\u001b[39;00m\n\u001b[1;32m--> 240\u001b[0m     reader \u001b[38;5;241m=\u001b[39m \u001b[43maudioread\u001b[49m\u001b[38;5;241;43m.\u001b[39;49m\u001b[43maudio_open\u001b[49m\u001b[43m(\u001b[49m\u001b[43mpath\u001b[49m\u001b[43m)\u001b[49m\n\u001b[0;32m    242\u001b[0m \u001b[38;5;28;01mwith\u001b[39;00m reader \u001b[38;5;28;01mas\u001b[39;00m input_file:\n\u001b[0;32m    243\u001b[0m     sr_native \u001b[38;5;241m=\u001b[39m input_file\u001b[38;5;241m.\u001b[39msamplerate\n",
      "File \u001b[1;32mf:\\Data Science and ML\\End To End ML\\CE 903 - Group Project\\23-24_CE903-SU_team06\\venv-team06\\lib\\site-packages\\audioread\\__init__.py:127\u001b[0m, in \u001b[0;36maudio_open\u001b[1;34m(path, backends)\u001b[0m\n\u001b[0;32m    125\u001b[0m \u001b[38;5;28;01mfor\u001b[39;00m BackendClass \u001b[38;5;129;01min\u001b[39;00m backends:\n\u001b[0;32m    126\u001b[0m     \u001b[38;5;28;01mtry\u001b[39;00m:\n\u001b[1;32m--> 127\u001b[0m         \u001b[38;5;28;01mreturn\u001b[39;00m \u001b[43mBackendClass\u001b[49m\u001b[43m(\u001b[49m\u001b[43mpath\u001b[49m\u001b[43m)\u001b[49m\n\u001b[0;32m    128\u001b[0m     \u001b[38;5;28;01mexcept\u001b[39;00m DecodeError:\n\u001b[0;32m    129\u001b[0m         \u001b[38;5;28;01mpass\u001b[39;00m\n",
      "File \u001b[1;32mf:\\Data Science and ML\\End To End ML\\CE 903 - Group Project\\23-24_CE903-SU_team06\\venv-team06\\lib\\site-packages\\audioread\\rawread.py:59\u001b[0m, in \u001b[0;36mRawAudioFile.__init__\u001b[1;34m(self, filename)\u001b[0m\n\u001b[0;32m     58\u001b[0m \u001b[38;5;28;01mdef\u001b[39;00m \u001b[38;5;21m__init__\u001b[39m(\u001b[38;5;28mself\u001b[39m, filename):\n\u001b[1;32m---> 59\u001b[0m     \u001b[38;5;28mself\u001b[39m\u001b[38;5;241m.\u001b[39m_fh \u001b[38;5;241m=\u001b[39m \u001b[38;5;28;43mopen\u001b[39;49m\u001b[43m(\u001b[49m\u001b[43mfilename\u001b[49m\u001b[43m,\u001b[49m\u001b[43m \u001b[49m\u001b[38;5;124;43m'\u001b[39;49m\u001b[38;5;124;43mrb\u001b[39;49m\u001b[38;5;124;43m'\u001b[39;49m\u001b[43m)\u001b[49m\n\u001b[0;32m     61\u001b[0m     \u001b[38;5;28;01mtry\u001b[39;00m:\n\u001b[0;32m     62\u001b[0m         \u001b[38;5;28mself\u001b[39m\u001b[38;5;241m.\u001b[39m_file \u001b[38;5;241m=\u001b[39m aifc\u001b[38;5;241m.\u001b[39mopen(\u001b[38;5;28mself\u001b[39m\u001b[38;5;241m.\u001b[39m_fh)\n",
      "\u001b[1;31mPermissionError\u001b[0m: [Errno 13] Permission denied: '.'"
     ]
    }
   ],
   "source": [
    "audio_df = get_audio_files_and_cough_timeframe_from_csv(df, audio_file_path, filename_index='uuid', start_end_time_prefix='IN_OUT_', max_start_end_count=16)"
   ]
  },
  {
   "cell_type": "code",
   "execution_count": null,
   "metadata": {},
   "outputs": [],
   "source": [
    "from cough_segmentation.utils.framing import Framing\n"
   ]
  },
  {
   "cell_type": "code",
   "execution_count": 123,
   "metadata": {},
   "outputs": [
    {
     "data": {
      "text/html": [
       "<div>\n",
       "<style scoped>\n",
       "    .dataframe tbody tr th:only-of-type {\n",
       "        vertical-align: middle;\n",
       "    }\n",
       "\n",
       "    .dataframe tbody tr th {\n",
       "        vertical-align: top;\n",
       "    }\n",
       "\n",
       "    .dataframe thead th {\n",
       "        text-align: right;\n",
       "    }\n",
       "</style>\n",
       "<table border=\"1\" class=\"dataframe\">\n",
       "  <thead>\n",
       "    <tr style=\"text-align: right;\">\n",
       "      <th></th>\n",
       "      <th>amp</th>\n",
       "      <th>sf</th>\n",
       "      <th>shape</th>\n",
       "      <th>cough_start_end</th>\n",
       "      <th>label</th>\n",
       "    </tr>\n",
       "  </thead>\n",
       "  <tbody>\n",
       "    <tr>\n",
       "      <th>0029d048-898a-4c70-89c7-0815cdcf7391</th>\n",
       "      <td>[-4.574141e-08, 4.00641e-08, -4.5631047e-08, 3...</td>\n",
       "      <td>22050</td>\n",
       "      <td>(216972,)</td>\n",
       "      <td>[[0.720196, 1.122022], [1.551667, 1.996767], [...</td>\n",
       "      <td>[0.0, 0.0, 0.0, 0.0, 0.0, 0.0, 0.0, 0.0, 0.0, ...</td>\n",
       "    </tr>\n",
       "    <tr>\n",
       "      <th>005b8518-03ba-4bf5-86d2-005541442357</th>\n",
       "      <td>[0.0, 0.0, 0.0, 0.0, 0.0, 0.0, 0.0, 0.0, 0.0, ...</td>\n",
       "      <td>22050</td>\n",
       "      <td>(142884,)</td>\n",
       "      <td>NaN</td>\n",
       "      <td>NaN</td>\n",
       "    </tr>\n",
       "    <tr>\n",
       "      <th>006d8d1c-2bf6-46a6-8ef2-1823898a4733</th>\n",
       "      <td>[0.0, 0.0, 0.0, 0.0, 0.0, 0.0, 0.0, 0.0, 0.0, ...</td>\n",
       "      <td>22050</td>\n",
       "      <td>(219618,)</td>\n",
       "      <td>NaN</td>\n",
       "      <td>NaN</td>\n",
       "    </tr>\n",
       "    <tr>\n",
       "      <th>008ba489-31ad-44d8-856b-fcf72369dc46</th>\n",
       "      <td>[0.0, 0.0, 0.0, 0.0, 0.0, 0.0, 0.0, 0.0, 0.0, ...</td>\n",
       "      <td>22050</td>\n",
       "      <td>(215649,)</td>\n",
       "      <td>[[4.019377, 4.52724], [4.551424, 4.880326], [4...</td>\n",
       "      <td>[0.0, 0.0, 0.0, 0.0, 0.0, 0.0, 0.0, 0.0, 0.0, ...</td>\n",
       "    </tr>\n",
       "    <tr>\n",
       "      <th>008c1c9e-aeef-40c5-846c-24f1b964f884</th>\n",
       "      <td>[-1.1011437e-12, -6.4785234e-12, -4.3936547e-1...</td>\n",
       "      <td>22050</td>\n",
       "      <td>(219618,)</td>\n",
       "      <td>[[2.297893, 2.742448], [2.795401, 3.106958], [...</td>\n",
       "      <td>[0.0, 0.0, 0.0, 0.0, 0.0, 0.0, 0.0, 0.0, 0.0, ...</td>\n",
       "    </tr>\n",
       "    <tr>\n",
       "      <th>...</th>\n",
       "      <td>...</td>\n",
       "      <td>...</td>\n",
       "      <td>...</td>\n",
       "      <td>...</td>\n",
       "      <td>...</td>\n",
       "    </tr>\n",
       "    <tr>\n",
       "      <th>fd7d172d-4106-427a-870b-0384c88f147f</th>\n",
       "      <td>[0.0, 0.0, 0.0, 0.0, 0.0, 0.0, 0.0, 0.0, 0.0, ...</td>\n",
       "      <td>22050</td>\n",
       "      <td>(72765,)</td>\n",
       "      <td>[[0.631714, 1.039029], [1.076743, 1.4256], [1....</td>\n",
       "      <td>[0.0, 0.0, 0.0, 0.0, 0.0, 0.0, 0.0, 0.0, 0.0, ...</td>\n",
       "    </tr>\n",
       "    <tr>\n",
       "      <th>fd849b72-f4bf-4852-9bc2-fd9becc9571e</th>\n",
       "      <td>[0.0, 0.0, 0.0, 0.0, 0.0, 0.0, 0.0, 0.0, 0.0, ...</td>\n",
       "      <td>22050</td>\n",
       "      <td>(100548,)</td>\n",
       "      <td>[[1.759509, 2.532103], [2.58552, 2.751634]]</td>\n",
       "      <td>[0.0, 0.0, 0.0, 0.0, 0.0, 0.0, 0.0, 0.0, 0.0, ...</td>\n",
       "    </tr>\n",
       "    <tr>\n",
       "      <th>fed255ec-4829-4f4a-b22d-9bb23f2dd89f</th>\n",
       "      <td>[0.0, 0.0, 0.0, 0.0, 0.0, 0.0, 0.0, 0.0, 0.0, ...</td>\n",
       "      <td>22050</td>\n",
       "      <td>(218295,)</td>\n",
       "      <td>[[2.6532, 3.0888], [3.173657, 3.580971], [3.58...</td>\n",
       "      <td>[0.0, 0.0, 0.0, 0.0, 0.0, 0.0, 0.0, 0.0, 0.0, ...</td>\n",
       "    </tr>\n",
       "    <tr>\n",
       "      <th>ff1234d7-7837-4ba7-842f-99fdc916baa9</th>\n",
       "      <td>[2.2152083e-12, -2.9893685e-11, 4.2287982e-11,...</td>\n",
       "      <td>22050</td>\n",
       "      <td>(216972,)</td>\n",
       "      <td>[[3.166311, 3.60722], [3.650956, 4.039854], [6...</td>\n",
       "      <td>[0.0, 0.0, 0.0, 0.0, 0.0, 0.0, 0.0, 0.0, 0.0, ...</td>\n",
       "    </tr>\n",
       "    <tr>\n",
       "      <th>ffc99580-678c-46c3-8e3f-c2a19916657d</th>\n",
       "      <td>[0.0, 0.0, 0.0, 0.0, 0.0, 0.0, 0.0, 0.0, 0.0, ...</td>\n",
       "      <td>22050</td>\n",
       "      <td>(107163,)</td>\n",
       "      <td>NaN</td>\n",
       "      <td>NaN</td>\n",
       "    </tr>\n",
       "  </tbody>\n",
       "</table>\n",
       "<p>400 rows × 5 columns</p>\n",
       "</div>"
      ],
      "text/plain": [
       "                                                                                    amp  \\\n",
       "0029d048-898a-4c70-89c7-0815cdcf7391  [-4.574141e-08, 4.00641e-08, -4.5631047e-08, 3...   \n",
       "005b8518-03ba-4bf5-86d2-005541442357  [0.0, 0.0, 0.0, 0.0, 0.0, 0.0, 0.0, 0.0, 0.0, ...   \n",
       "006d8d1c-2bf6-46a6-8ef2-1823898a4733  [0.0, 0.0, 0.0, 0.0, 0.0, 0.0, 0.0, 0.0, 0.0, ...   \n",
       "008ba489-31ad-44d8-856b-fcf72369dc46  [0.0, 0.0, 0.0, 0.0, 0.0, 0.0, 0.0, 0.0, 0.0, ...   \n",
       "008c1c9e-aeef-40c5-846c-24f1b964f884  [-1.1011437e-12, -6.4785234e-12, -4.3936547e-1...   \n",
       "...                                                                                 ...   \n",
       "fd7d172d-4106-427a-870b-0384c88f147f  [0.0, 0.0, 0.0, 0.0, 0.0, 0.0, 0.0, 0.0, 0.0, ...   \n",
       "fd849b72-f4bf-4852-9bc2-fd9becc9571e  [0.0, 0.0, 0.0, 0.0, 0.0, 0.0, 0.0, 0.0, 0.0, ...   \n",
       "fed255ec-4829-4f4a-b22d-9bb23f2dd89f  [0.0, 0.0, 0.0, 0.0, 0.0, 0.0, 0.0, 0.0, 0.0, ...   \n",
       "ff1234d7-7837-4ba7-842f-99fdc916baa9  [2.2152083e-12, -2.9893685e-11, 4.2287982e-11,...   \n",
       "ffc99580-678c-46c3-8e3f-c2a19916657d  [0.0, 0.0, 0.0, 0.0, 0.0, 0.0, 0.0, 0.0, 0.0, ...   \n",
       "\n",
       "                                         sf      shape  \\\n",
       "0029d048-898a-4c70-89c7-0815cdcf7391  22050  (216972,)   \n",
       "005b8518-03ba-4bf5-86d2-005541442357  22050  (142884,)   \n",
       "006d8d1c-2bf6-46a6-8ef2-1823898a4733  22050  (219618,)   \n",
       "008ba489-31ad-44d8-856b-fcf72369dc46  22050  (215649,)   \n",
       "008c1c9e-aeef-40c5-846c-24f1b964f884  22050  (219618,)   \n",
       "...                                     ...        ...   \n",
       "fd7d172d-4106-427a-870b-0384c88f147f  22050   (72765,)   \n",
       "fd849b72-f4bf-4852-9bc2-fd9becc9571e  22050  (100548,)   \n",
       "fed255ec-4829-4f4a-b22d-9bb23f2dd89f  22050  (218295,)   \n",
       "ff1234d7-7837-4ba7-842f-99fdc916baa9  22050  (216972,)   \n",
       "ffc99580-678c-46c3-8e3f-c2a19916657d  22050  (107163,)   \n",
       "\n",
       "                                                                        cough_start_end  \\\n",
       "0029d048-898a-4c70-89c7-0815cdcf7391  [[0.720196, 1.122022], [1.551667, 1.996767], [...   \n",
       "005b8518-03ba-4bf5-86d2-005541442357                                                NaN   \n",
       "006d8d1c-2bf6-46a6-8ef2-1823898a4733                                                NaN   \n",
       "008ba489-31ad-44d8-856b-fcf72369dc46  [[4.019377, 4.52724], [4.551424, 4.880326], [4...   \n",
       "008c1c9e-aeef-40c5-846c-24f1b964f884  [[2.297893, 2.742448], [2.795401, 3.106958], [...   \n",
       "...                                                                                 ...   \n",
       "fd7d172d-4106-427a-870b-0384c88f147f  [[0.631714, 1.039029], [1.076743, 1.4256], [1....   \n",
       "fd849b72-f4bf-4852-9bc2-fd9becc9571e        [[1.759509, 2.532103], [2.58552, 2.751634]]   \n",
       "fed255ec-4829-4f4a-b22d-9bb23f2dd89f  [[2.6532, 3.0888], [3.173657, 3.580971], [3.58...   \n",
       "ff1234d7-7837-4ba7-842f-99fdc916baa9  [[3.166311, 3.60722], [3.650956, 4.039854], [6...   \n",
       "ffc99580-678c-46c3-8e3f-c2a19916657d                                                NaN   \n",
       "\n",
       "                                                                                  label  \n",
       "0029d048-898a-4c70-89c7-0815cdcf7391  [0.0, 0.0, 0.0, 0.0, 0.0, 0.0, 0.0, 0.0, 0.0, ...  \n",
       "005b8518-03ba-4bf5-86d2-005541442357                                                NaN  \n",
       "006d8d1c-2bf6-46a6-8ef2-1823898a4733                                                NaN  \n",
       "008ba489-31ad-44d8-856b-fcf72369dc46  [0.0, 0.0, 0.0, 0.0, 0.0, 0.0, 0.0, 0.0, 0.0, ...  \n",
       "008c1c9e-aeef-40c5-846c-24f1b964f884  [0.0, 0.0, 0.0, 0.0, 0.0, 0.0, 0.0, 0.0, 0.0, ...  \n",
       "...                                                                                 ...  \n",
       "fd7d172d-4106-427a-870b-0384c88f147f  [0.0, 0.0, 0.0, 0.0, 0.0, 0.0, 0.0, 0.0, 0.0, ...  \n",
       "fd849b72-f4bf-4852-9bc2-fd9becc9571e  [0.0, 0.0, 0.0, 0.0, 0.0, 0.0, 0.0, 0.0, 0.0, ...  \n",
       "fed255ec-4829-4f4a-b22d-9bb23f2dd89f  [0.0, 0.0, 0.0, 0.0, 0.0, 0.0, 0.0, 0.0, 0.0, ...  \n",
       "ff1234d7-7837-4ba7-842f-99fdc916baa9  [0.0, 0.0, 0.0, 0.0, 0.0, 0.0, 0.0, 0.0, 0.0, ...  \n",
       "ffc99580-678c-46c3-8e3f-c2a19916657d                                                NaN  \n",
       "\n",
       "[400 rows x 5 columns]"
      ]
     },
     "execution_count": 123,
     "metadata": {},
     "output_type": "execute_result"
    }
   ],
   "source": [
    "audio_df"
   ]
  },
  {
   "cell_type": "code",
   "execution_count": 122,
   "metadata": {},
   "outputs": [
    {
     "name": "stdout",
     "output_type": "stream",
     "text": [
      "<class 'pandas.core.frame.DataFrame'>\n",
      "Index: 400 entries, 0029d048-898a-4c70-89c7-0815cdcf7391 to ffc99580-678c-46c3-8e3f-c2a19916657d\n",
      "Data columns (total 5 columns):\n",
      " #   Column           Non-Null Count  Dtype \n",
      "---  ------           --------------  ----- \n",
      " 0   amp              400 non-null    object\n",
      " 1   sf               400 non-null    int64 \n",
      " 2   shape            400 non-null    object\n",
      " 3   cough_start_end  150 non-null    object\n",
      " 4   label            150 non-null    object\n",
      "dtypes: int64(1), object(4)\n",
      "memory usage: 34.9+ KB\n"
     ]
    }
   ],
   "source": [
    "audio_df.info()"
   ]
  },
  {
   "cell_type": "code",
   "execution_count": 8,
   "metadata": {},
   "outputs": [
    {
     "data": {
      "text/plain": [
       "(array([ 0.        ,  0.        ,  0.        , ..., -0.02018352,\n",
       "        -0.01895304, -0.01745526], dtype=float32),\n",
       " 22050)"
      ]
     },
     "execution_count": 8,
     "metadata": {},
     "output_type": "execute_result"
    }
   ],
   "source": [
    "amplitude_and_sampling_freq = librosa.load(\"../dataset/audio_files/AWS Audio Files/005b8518-03ba-4bf5-86d2-005541442357.wav\")\n",
    "amplitude_and_sampling_freq"
   ]
  },
  {
   "cell_type": "code",
   "execution_count": 9,
   "metadata": {},
   "outputs": [
    {
     "name": "stdout",
     "output_type": "stream",
     "text": [
      "<class 'pandas.core.frame.DataFrame'>\n",
      "Index: 150 entries, 0029d048-898a-4c70-89c7-0815cdcf7391 to ff1234d7-7837-4ba7-842f-99fdc916baa9\n",
      "Data columns (total 5 columns):\n",
      " #   Column           Non-Null Count  Dtype \n",
      "---  ------           --------------  ----- \n",
      " 0   amp              150 non-null    object\n",
      " 1   sf               150 non-null    int64 \n",
      " 2   shape            150 non-null    object\n",
      " 3   cough_start_end  150 non-null    object\n",
      " 4   label            150 non-null    object\n",
      "dtypes: int64(1), object(4)\n",
      "memory usage: 7.0+ KB\n"
     ]
    }
   ],
   "source": [
    "# audio_df2 = audio_df.dropna()\n",
    "# audio_df2.info()"
   ]
  },
  {
   "cell_type": "code",
   "execution_count": 166,
   "metadata": {},
   "outputs": [
    {
     "name": "stdout",
     "output_type": "stream",
     "text": [
      "Frame size 256, hop_length 128, count 226033\n",
      "Frame size 512, hop_length 256, count 112895\n",
      "Frame size 1024, hop_length 512, count 56337\n"
     ]
    },
    {
     "data": {
      "text/html": [
       "<div>\n",
       "<style scoped>\n",
       "    .dataframe tbody tr th:only-of-type {\n",
       "        vertical-align: middle;\n",
       "    }\n",
       "\n",
       "    .dataframe tbody tr th {\n",
       "        vertical-align: top;\n",
       "    }\n",
       "\n",
       "    .dataframe thead th {\n",
       "        text-align: right;\n",
       "    }\n",
       "</style>\n",
       "<table border=\"1\" class=\"dataframe\">\n",
       "  <thead>\n",
       "    <tr style=\"text-align: right;\">\n",
       "      <th></th>\n",
       "      <th>key</th>\n",
       "      <th>sf</th>\n",
       "      <th>start</th>\n",
       "      <th>end</th>\n",
       "      <th>max_amp</th>\n",
       "      <th>frame_index</th>\n",
       "      <th>amp</th>\n",
       "      <th>label</th>\n",
       "    </tr>\n",
       "  </thead>\n",
       "  <tbody>\n",
       "    <tr>\n",
       "      <th>0</th>\n",
       "      <td>0029d048-898a-4c70-89c7-0815cdcf7391</td>\n",
       "      <td>22050</td>\n",
       "      <td>0</td>\n",
       "      <td>1024</td>\n",
       "      <td>0.365307</td>\n",
       "      <td>0</td>\n",
       "      <td>[-4.574141e-08, 4.00641e-08, -4.5631047e-08, 3...</td>\n",
       "      <td>0</td>\n",
       "    </tr>\n",
       "    <tr>\n",
       "      <th>1</th>\n",
       "      <td>0029d048-898a-4c70-89c7-0815cdcf7391</td>\n",
       "      <td>22050</td>\n",
       "      <td>512</td>\n",
       "      <td>1536</td>\n",
       "      <td>0.365307</td>\n",
       "      <td>1</td>\n",
       "      <td>[6.083851e-05, 6.2495135e-05, 4.0901323e-05, 2...</td>\n",
       "      <td>0</td>\n",
       "    </tr>\n",
       "    <tr>\n",
       "      <th>2</th>\n",
       "      <td>0029d048-898a-4c70-89c7-0815cdcf7391</td>\n",
       "      <td>22050</td>\n",
       "      <td>1024</td>\n",
       "      <td>2048</td>\n",
       "      <td>0.062898</td>\n",
       "      <td>2</td>\n",
       "      <td>[-0.21390674, -0.21399471, -0.21432504, -0.213...</td>\n",
       "      <td>0</td>\n",
       "    </tr>\n",
       "    <tr>\n",
       "      <th>3</th>\n",
       "      <td>0029d048-898a-4c70-89c7-0815cdcf7391</td>\n",
       "      <td>22050</td>\n",
       "      <td>1536</td>\n",
       "      <td>2560</td>\n",
       "      <td>0.003421</td>\n",
       "      <td>3</td>\n",
       "      <td>[0.0034214016, 0.002930639, 0.0025067274, 0.00...</td>\n",
       "      <td>0</td>\n",
       "    </tr>\n",
       "    <tr>\n",
       "      <th>4</th>\n",
       "      <td>0029d048-898a-4c70-89c7-0815cdcf7391</td>\n",
       "      <td>22050</td>\n",
       "      <td>2048</td>\n",
       "      <td>3072</td>\n",
       "      <td>0.002464</td>\n",
       "      <td>4</td>\n",
       "      <td>[0.00055328425, 0.00037316832, 0.00033341238, ...</td>\n",
       "      <td>0</td>\n",
       "    </tr>\n",
       "    <tr>\n",
       "      <th>...</th>\n",
       "      <td>...</td>\n",
       "      <td>...</td>\n",
       "      <td>...</td>\n",
       "      <td>...</td>\n",
       "      <td>...</td>\n",
       "      <td>...</td>\n",
       "      <td>...</td>\n",
       "      <td>...</td>\n",
       "    </tr>\n",
       "    <tr>\n",
       "      <th>56332</th>\n",
       "      <td>ff1234d7-7837-4ba7-842f-99fdc916baa9</td>\n",
       "      <td>22050</td>\n",
       "      <td>213504</td>\n",
       "      <td>214528</td>\n",
       "      <td>0.000000</td>\n",
       "      <td>417</td>\n",
       "      <td>[0.0, 0.0, 0.0, 0.0, 0.0, 0.0, 0.0, 0.0, 0.0, ...</td>\n",
       "      <td>0</td>\n",
       "    </tr>\n",
       "    <tr>\n",
       "      <th>56333</th>\n",
       "      <td>ff1234d7-7837-4ba7-842f-99fdc916baa9</td>\n",
       "      <td>22050</td>\n",
       "      <td>214016</td>\n",
       "      <td>215040</td>\n",
       "      <td>0.000000</td>\n",
       "      <td>418</td>\n",
       "      <td>[0.0, 0.0, 0.0, 0.0, 0.0, 0.0, 0.0, 0.0, 0.0, ...</td>\n",
       "      <td>0</td>\n",
       "    </tr>\n",
       "    <tr>\n",
       "      <th>56334</th>\n",
       "      <td>ff1234d7-7837-4ba7-842f-99fdc916baa9</td>\n",
       "      <td>22050</td>\n",
       "      <td>214528</td>\n",
       "      <td>215552</td>\n",
       "      <td>0.000000</td>\n",
       "      <td>419</td>\n",
       "      <td>[0.0, 0.0, 0.0, 0.0, 0.0, 0.0, 0.0, 0.0, 0.0, ...</td>\n",
       "      <td>0</td>\n",
       "    </tr>\n",
       "    <tr>\n",
       "      <th>56335</th>\n",
       "      <td>ff1234d7-7837-4ba7-842f-99fdc916baa9</td>\n",
       "      <td>22050</td>\n",
       "      <td>215040</td>\n",
       "      <td>216064</td>\n",
       "      <td>0.000000</td>\n",
       "      <td>420</td>\n",
       "      <td>[0.0, 0.0, 0.0, 0.0, 0.0, 0.0, 0.0, 0.0, 0.0, ...</td>\n",
       "      <td>0</td>\n",
       "    </tr>\n",
       "    <tr>\n",
       "      <th>56336</th>\n",
       "      <td>ff1234d7-7837-4ba7-842f-99fdc916baa9</td>\n",
       "      <td>22050</td>\n",
       "      <td>215552</td>\n",
       "      <td>216576</td>\n",
       "      <td>0.000000</td>\n",
       "      <td>421</td>\n",
       "      <td>[0.0, 0.0, 0.0, 0.0, 0.0, 0.0, 0.0, 0.0, 0.0, ...</td>\n",
       "      <td>0</td>\n",
       "    </tr>\n",
       "  </tbody>\n",
       "</table>\n",
       "<p>56337 rows × 8 columns</p>\n",
       "</div>"
      ],
      "text/plain": [
       "                                        key     sf   start     end   max_amp  \\\n",
       "0      0029d048-898a-4c70-89c7-0815cdcf7391  22050       0    1024  0.365307   \n",
       "1      0029d048-898a-4c70-89c7-0815cdcf7391  22050     512    1536  0.365307   \n",
       "2      0029d048-898a-4c70-89c7-0815cdcf7391  22050    1024    2048  0.062898   \n",
       "3      0029d048-898a-4c70-89c7-0815cdcf7391  22050    1536    2560  0.003421   \n",
       "4      0029d048-898a-4c70-89c7-0815cdcf7391  22050    2048    3072  0.002464   \n",
       "...                                     ...    ...     ...     ...       ...   \n",
       "56332  ff1234d7-7837-4ba7-842f-99fdc916baa9  22050  213504  214528  0.000000   \n",
       "56333  ff1234d7-7837-4ba7-842f-99fdc916baa9  22050  214016  215040  0.000000   \n",
       "56334  ff1234d7-7837-4ba7-842f-99fdc916baa9  22050  214528  215552  0.000000   \n",
       "56335  ff1234d7-7837-4ba7-842f-99fdc916baa9  22050  215040  216064  0.000000   \n",
       "56336  ff1234d7-7837-4ba7-842f-99fdc916baa9  22050  215552  216576  0.000000   \n",
       "\n",
       "       frame_index                                                amp  label  \n",
       "0                0  [-4.574141e-08, 4.00641e-08, -4.5631047e-08, 3...      0  \n",
       "1                1  [6.083851e-05, 6.2495135e-05, 4.0901323e-05, 2...      0  \n",
       "2                2  [-0.21390674, -0.21399471, -0.21432504, -0.213...      0  \n",
       "3                3  [0.0034214016, 0.002930639, 0.0025067274, 0.00...      0  \n",
       "4                4  [0.00055328425, 0.00037316832, 0.00033341238, ...      0  \n",
       "...            ...                                                ...    ...  \n",
       "56332          417  [0.0, 0.0, 0.0, 0.0, 0.0, 0.0, 0.0, 0.0, 0.0, ...      0  \n",
       "56333          418  [0.0, 0.0, 0.0, 0.0, 0.0, 0.0, 0.0, 0.0, 0.0, ...      0  \n",
       "56334          419  [0.0, 0.0, 0.0, 0.0, 0.0, 0.0, 0.0, 0.0, 0.0, ...      0  \n",
       "56335          420  [0.0, 0.0, 0.0, 0.0, 0.0, 0.0, 0.0, 0.0, 0.0, ...      0  \n",
       "56336          421  [0.0, 0.0, 0.0, 0.0, 0.0, 0.0, 0.0, 0.0, 0.0, ...      0  \n",
       "\n",
       "[56337 rows x 8 columns]"
      ]
     },
     "execution_count": 166,
     "metadata": {},
     "output_type": "execute_result"
    }
   ],
   "source": [
    "def apply_framing(audio_df):\n",
    "  def create_overlapping_frames(key, amp, label, sf, frame_size, hop_length):\n",
    "    # Calculate the total number of frames\n",
    "    if len(amp) == len(label):\n",
    "      total_frames = 1 + int((len(amp) - frame_size) / hop_length)\n",
    "      dic = {\"key\":[], \"sf\":[], \"start\":[], \"end\":[], \"max_amp\":[], \"frame_index\":[], \"amp\":[], \"label\":[]}\n",
    "\n",
    "      # Create overlapping frames\n",
    "      for i in range(total_frames):\n",
    "        dic[\"key\"].append(key)\n",
    "        dic[\"sf\"].append(sf)\n",
    "        dic[\"start\"].append(i * hop_length)\n",
    "        dic[\"end\"].append(i * hop_length + frame_size)\n",
    "        dic[\"max_amp\"].append(np.max(amp[i * hop_length: i * hop_length + frame_size]))\n",
    "        dic[\"frame_index\"].append(i)\n",
    "        dic[\"amp\"].append(amp[i * hop_length: i * hop_length + frame_size])\n",
    "        frames_label_raw = label[i * hop_length: i * hop_length + frame_size]\n",
    "\n",
    "        f_label = 0\n",
    "        if np.sum(frames_label_raw==1) > (len(frames_label_raw) / 2):\n",
    "          f_label = 1\n",
    "        dic[\"label\"].append(f_label)\n",
    "\n",
    "      return dic\n",
    "    else:\n",
    "      print('Error: non matching amp and labels', key, len(amp), len(label))\n",
    "\n",
    "  def create_and_label_frames(audio_df):\n",
    "    return create_overlapping_frames(audio_df.name, audio_df[\"amp\"], audio_df[\"label\"],audio_df[\"sf\"],frame_size, hop_length)\n",
    "\n",
    "  all_frames = {}\n",
    "  for frame_size in [256, 512, 1024]:\n",
    "    hop_length = frame_size // 2\n",
    "\n",
    "    frame_df = pd.DataFrame()\n",
    "    #xx = audio_df.head(1).apply(create_and_label_frames, axis=1)\n",
    "    xx = audio_df.apply(create_and_label_frames, axis=1)\n",
    "    for x in xx:\n",
    "      if len(frame_df) > 0:\n",
    "        frame_df = pd.concat([frame_df, pd.DataFrame(x)], ignore_index=True)\n",
    "      else:\n",
    "        frame_df = pd.DataFrame(x)\n",
    "\n",
    "    all_frames[frame_size] = frame_df\n",
    "    print(f'Frame size {frame_size}, hop_length {hop_length}, count {len(frame_df)}')\n",
    "  return all_frames\n",
    "\n",
    "\n",
    "all_frames = apply_framing(audio_df=audio_df2)\n",
    "framed_df = all_frames[1024]\n",
    "framed_df"
   ]
  },
  {
   "cell_type": "code",
   "execution_count": 171,
   "metadata": {},
   "outputs": [
    {
     "data": {
      "text/plain": [
       "(1024,)"
      ]
     },
     "execution_count": 171,
     "metadata": {},
     "output_type": "execute_result"
    }
   ],
   "source": [
    "framed_df[\"amp\"][3].shape"
   ]
  },
  {
   "cell_type": "code",
   "execution_count": 10,
   "metadata": {},
   "outputs": [],
   "source": [
    "df_to_save = audio_df.copy()\n",
    "df_to_save.reset_index(inplace=True)\n",
    "df_to_save.to_feather(\"../dataset/audio_data_before_framing.feather\")"
   ]
  },
  {
   "cell_type": "code",
   "execution_count": null,
   "metadata": {},
   "outputs": [],
   "source": [
    "df_from_save = pd.read_feather(\"../dataset/audio_data_before_framing.feather\")\n",
    "df_from_save['key'] = df_from_save['index']\n",
    "df_from_save.drop(columns=['index'], inplace=True)\n",
    "df_from_save.set_index('key', inplace=True)\n",
    "df_from_save"
   ]
  },
  {
   "cell_type": "code",
   "execution_count": 21,
   "metadata": {},
   "outputs": [
    {
     "name": "stdout",
     "output_type": "stream",
     "text": [
      "Frame size 256, hop_length 128, count 226033\n",
      "Frame size 512, hop_length 256, count 112895\n",
      "Frame size 1024, hop_length 512, count 56337\n"
     ]
    }
   ],
   "source": [
    "all_frames_from_save = apply_framing(audio_df=audio_df2)"
   ]
  },
  {
   "cell_type": "code",
   "execution_count": null,
   "metadata": {},
   "outputs": [],
   "source": [
    "df_frame_from_save = all_frames_from_save[1024]\n",
    "df_frame_from_save"
   ]
  },
  {
   "cell_type": "code",
   "execution_count": 23,
   "metadata": {},
   "outputs": [
    {
     "data": {
      "text/plain": [
       "(1024,)"
      ]
     },
     "execution_count": 23,
     "metadata": {},
     "output_type": "execute_result"
    }
   ],
   "source": [
    "df_frame_from_save[\"amp\"].values[0].shape\n",
    "df_frame_from_save[\"amp\"].values[1].shape"
   ]
  },
  {
   "cell_type": "code",
   "execution_count": 164,
   "metadata": {},
   "outputs": [
    {
     "data": {
      "text/plain": [
       "(1024,)"
      ]
     },
     "execution_count": 164,
     "metadata": {},
     "output_type": "execute_result"
    }
   ],
   "source": [
    "framed_df[\"amp\"].values[0].shape"
   ]
  },
  {
   "cell_type": "code",
   "execution_count": 165,
   "metadata": {},
   "outputs": [
    {
     "name": "stderr",
     "output_type": "stream",
     "text": [
      "f:\\Data Science and ML\\End To End ML\\CE 903 - Group Project\\23-24_CE903-SU_team06\\venv-team06\\lib\\site-packages\\librosa\\core\\spectrum.py:266: UserWarning: n_fft=2048 is too large for input signal of length=1024\n",
      "  warnings.warn(\n"
     ]
    },
    {
     "data": {
      "text/plain": [
       "(64, 3)"
      ]
     },
     "execution_count": 165,
     "metadata": {},
     "output_type": "execute_result"
    }
   ],
   "source": [
    "sr = 22050\n",
    "# Step 2: Compute the Mel spectrogram\n",
    "# S = librosa.feature.melspectrogram(y=df_frame_from_save[\"amp\"].values[0], sr=sr, n_mels=256)\n",
    "\n",
    "# Step 3: Convert to Decibel scale (log scale)\n",
    "mfccs = librosa.feature.mfcc(y=framed_df[\"amp\"].values[0], sr=sr, n_mfcc=64)\n",
    "# mfccs.shape\n",
    "mfccs_second_derivative = librosa.feature.delta(mfccs, order=2, mode=\"nearest\",width=9)\n",
    "\n",
    "mfccs_second_derivative.shape\n",
    "# mfccs"
   ]
  },
  {
   "cell_type": "code",
   "execution_count": 25,
   "metadata": {},
   "outputs": [
    {
     "data": {
      "text/plain": [
       "array([[ 6.24215078e+00, -3.88640952e+00, -1.28490477e+01],\n",
       "       [ 1.33424312e-01, -6.85519278e-02, -2.49962583e-01],\n",
       "       [ 7.17767656e-01, -1.13600217e-01, -9.10888016e-01],\n",
       "       [ 1.21046215e-01, -1.08464561e-01, -3.05435956e-01],\n",
       "       [ 2.97245950e-01, -1.29995137e-01, -5.18237710e-01],\n",
       "       [ 2.07655579e-01, -8.19296017e-02, -3.46935898e-01],\n",
       "       [ 1.30293891e-01, -1.20247245e-01, -3.34714204e-01],\n",
       "       [ 3.45802724e-01, -1.30102232e-01, -5.66976488e-01],\n",
       "       [-1.51654318e-01, -1.88008007e-02,  1.19692959e-01],\n",
       "       [-9.96573642e-02, -3.76331657e-02,  3.56809832e-02],\n",
       "       [-3.96112770e-01, -5.89364534e-03,  3.86093557e-01],\n",
       "       [-2.59210974e-01, -5.43074384e-02,  1.66888326e-01],\n",
       "       [-3.86992060e-02, -2.66789775e-02, -6.65505603e-03],\n",
       "       [ 2.45813772e-01, -1.91094559e-02, -2.78299838e-01],\n",
       "       [ 2.68773466e-01, -7.01025277e-02, -3.87947738e-01],\n",
       "       [-1.31204739e-01, -6.95563108e-02,  1.29590202e-02],\n",
       "       [-8.04125667e-02, -7.59424195e-02, -4.86895442e-02],\n",
       "       [-6.81658834e-02, -3.54291499e-02,  7.93632586e-03],\n",
       "       [ 4.87728059e-01, -1.25629127e-01, -7.01297581e-01],\n",
       "       [ 1.28019571e-01, -5.92383146e-02, -2.28724703e-01],\n",
       "       [ 3.30561399e-01, -1.36425510e-01, -5.62484741e-01],\n",
       "       [ 1.40785158e-01, -2.60375384e-02, -1.85048968e-01],\n",
       "       [ 4.44747150e-01, -3.93694937e-02, -5.11675298e-01],\n",
       "       [-6.49835691e-02, -3.50881577e-03,  5.90185784e-02],\n",
       "       [-1.28578439e-01, -2.65831314e-02,  8.33871141e-02],\n",
       "       [ 2.07162827e-01, -4.36595008e-02, -2.81383991e-01],\n",
       "       [ 2.15656817e-01, -3.50439996e-02, -2.75231630e-01],\n",
       "       [-4.72263843e-02, -1.42246457e-02,  2.30444856e-02],\n",
       "       [-1.31381646e-01, -2.03325283e-02,  9.68163535e-02],\n",
       "       [-6.50870753e-03,  2.30200887e-02,  4.56428565e-02],\n",
       "       [-3.28729182e-01,  1.32521227e-01,  5.54015219e-01],\n",
       "       [-1.71497628e-01,  5.50732464e-02,  2.65122145e-01],\n",
       "       [ 1.19969621e-01,  3.12683992e-02, -6.68133423e-02],\n",
       "       [-2.18062669e-01,  2.54926179e-02,  2.61400133e-01],\n",
       "       [-8.54888856e-02,  3.46268411e-03,  9.13754478e-02],\n",
       "       [ 1.54879183e-01,  3.60852405e-02, -9.35342833e-02],\n",
       "       [ 6.73379451e-02, -4.56587039e-03, -7.50999302e-02],\n",
       "       [-2.50208706e-01,  8.42544287e-02,  3.93441230e-01],\n",
       "       [ 1.33725375e-01,  2.88759475e-03, -1.28816471e-01],\n",
       "       [ 7.75055140e-02, -3.23553123e-02, -1.32509544e-01],\n",
       "       [ 1.85850918e-01, -1.14261098e-01, -3.80094767e-01],\n",
       "       [ 4.67529632e-02, -7.16954023e-02, -1.68635145e-01],\n",
       "       [ 4.18845490e-02, -9.10369754e-02, -1.96647406e-01],\n",
       "       [-4.29158332e-04, -3.14758606e-02, -5.30798063e-02],\n",
       "       [ 1.23150855e-01, -1.66056585e-02, -1.51380479e-01],\n",
       "       [-1.55591071e-01, -2.18906440e-02,  1.18376978e-01],\n",
       "       [ 6.35231361e-02, -8.15659687e-02, -2.02185273e-01],\n",
       "       [ 6.75497353e-02, -1.01692751e-01, -2.40427405e-01],\n",
       "       [-1.54728377e-02, -6.70972019e-02, -9.85924080e-02],\n",
       "       [ 1.13628216e-01, -3.84261794e-02, -1.78952724e-01],\n",
       "       [-1.14473440e-01,  1.07546290e-02,  1.32756308e-01],\n",
       "       [ 5.97042367e-02,  5.48749305e-02,  3.35831456e-02],\n",
       "       [ 1.98960246e-04,  2.86519416e-02,  4.85093407e-02],\n",
       "       [-1.51891289e-02, -4.65651415e-02, -6.39716089e-02],\n",
       "       [ 2.90153325e-01, -8.81948695e-02, -4.40084606e-01],\n",
       "       [-2.06934974e-01,  1.94982216e-02,  2.40081951e-01],\n",
       "       [-4.37653698e-02,  5.36029153e-02,  1.34890318e-01],\n",
       "       [-6.03969544e-02,  7.15900511e-02,  1.82100028e-01],\n",
       "       [-4.01090682e-02,  3.56463678e-02,  1.00707896e-01],\n",
       "       [-1.48491710e-01,  8.13341513e-02,  2.86759764e-01],\n",
       "       [ 1.52186654e-03, -3.08895912e-02, -5.40341698e-02],\n",
       "       [ 1.46553636e-01, -5.49636818e-02, -2.39991888e-01],\n",
       "       [-9.85384881e-02,  2.22145170e-02,  1.36303172e-01],\n",
       "       [-2.15495303e-01,  5.50997183e-02,  3.09164822e-01],\n",
       "       [ 1.25375185e-02,  2.97058355e-02,  3.79623994e-02],\n",
       "       [-1.63155690e-01,  2.60948483e-02,  2.07516924e-01],\n",
       "       [ 9.89780724e-02, -7.45455325e-02, -2.25705475e-01],\n",
       "       [ 1.29435793e-01, -9.14283097e-02, -2.84863919e-01],\n",
       "       [ 1.67423785e-01, -5.51393330e-02, -2.61160642e-01],\n",
       "       [-3.08116595e-03,  2.69759782e-02,  4.89403307e-02],\n",
       "       [ 4.70718136e-03,  4.20729071e-02,  6.68167621e-02],\n",
       "       [-1.16240628e-01,  5.12688644e-02,  2.03397691e-01],\n",
       "       [-2.00872242e-01,  4.16087583e-02,  2.71607131e-01],\n",
       "       [-5.33202291e-02,  6.50680810e-02,  1.63935974e-01],\n",
       "       [-7.92778060e-02,  2.34392788e-02,  1.19124576e-01],\n",
       "       [ 2.45504733e-02, -1.03040179e-03, -2.63021551e-02],\n",
       "       [ 4.27041054e-02,  2.96411454e-03, -3.76651101e-02],\n",
       "       [ 7.25303963e-03,  3.44011164e-03, -1.40484946e-03],\n",
       "       [ 9.55957845e-02, -4.84934859e-02, -1.78034708e-01],\n",
       "       [ 1.36101320e-01, -8.44478086e-02, -2.79662579e-01],\n",
       "       [ 6.95795268e-02, -6.63938671e-02, -1.82449102e-01],\n",
       "       [-9.76260081e-02,  2.24550571e-02,  1.35799602e-01],\n",
       "       [-2.65592709e-02,  1.74164101e-02,  5.61671667e-02],\n",
       "       [-9.65536237e-02,  4.32584574e-03,  1.03907563e-01],\n",
       "       [ 1.05499607e-02, -1.73260421e-02, -4.00042310e-02],\n",
       "       [-6.17750846e-02, -1.04777487e-02,  4.39629108e-02],\n",
       "       [ 9.15361494e-02, -7.46063795e-03, -1.04219228e-01],\n",
       "       [-1.16356470e-01,  5.53541929e-02,  2.10458592e-01],\n",
       "       [-6.77776709e-02,  4.58411165e-02,  1.45707577e-01],\n",
       "       [-6.58737496e-02,  8.14694632e-03,  7.97235593e-02],\n",
       "       [ 5.66788502e-02,  1.98148079e-02, -2.29936745e-02],\n",
       "       [-8.59099478e-02,  5.51527441e-02,  1.79669619e-01],\n",
       "       [ 1.10051416e-01, -1.40930051e-02, -1.34009525e-01],\n",
       "       [-5.66879064e-02,  1.55394105e-02,  8.31049085e-02],\n",
       "       [-1.16226874e-01,  1.02126859e-01,  2.89842546e-01],\n",
       "       [-1.63453966e-02,  7.51982108e-02,  1.44182354e-01],\n",
       "       [ 8.16299617e-02,  1.36723453e-02, -5.83869778e-02],\n",
       "       [-1.45388264e-02, -3.97573831e-03,  7.78007135e-03],\n",
       "       [ 1.63509902e-02, -3.60156186e-02, -7.75775388e-02],\n",
       "       [-7.02990070e-02,  6.37354283e-03,  8.11340287e-02],\n",
       "       [-2.14238255e-03,  1.06028477e-02,  2.01672241e-02],\n",
       "       [ 4.08332907e-02, -7.75743555e-03, -5.40209338e-02],\n",
       "       [ 3.05654202e-02, -2.30340268e-02, -6.97232634e-02],\n",
       "       [-3.97006087e-02,  4.52265609e-03,  4.73891236e-02],\n",
       "       [-1.19643770e-01, -2.05980353e-02,  8.46271142e-02],\n",
       "       [ 2.79202051e-02, -3.33309807e-02, -8.45828727e-02],\n",
       "       [ 7.92034343e-03, -2.12488864e-02, -4.40434478e-02],\n",
       "       [ 2.44979616e-02, -6.47085067e-03, -3.54984067e-02],\n",
       "       [-3.63333784e-02,  3.15433852e-02,  8.99571329e-02],\n",
       "       [-3.03378813e-02,  2.67432109e-02,  7.58013427e-02],\n",
       "       [ 5.59760369e-02, -2.58222073e-02, -9.98737887e-02],\n",
       "       [ 1.23929538e-01, -2.94910073e-02, -1.74064249e-01],\n",
       "       [ 1.13413716e-02, -3.29696760e-03, -1.69462170e-02],\n",
       "       [-6.99351430e-02,  4.92113717e-02,  1.53594479e-01],\n",
       "       [ 1.73180103e-02,  2.35149101e-03, -1.33204758e-02],\n",
       "       [ 3.02160699e-02,  3.55617306e-03, -2.41705757e-02],\n",
       "       [-8.22428688e-02,  4.93271090e-02,  1.66098952e-01],\n",
       "       [-8.37152526e-02,  2.88127623e-02,  1.32696956e-01],\n",
       "       [-2.56031821e-03, -1.46822911e-02, -2.23995764e-02],\n",
       "       [-8.49563442e-03,  1.15828495e-02,  2.81864777e-02],\n",
       "       [-1.56886317e-02,  2.75594126e-02,  6.25396296e-02],\n",
       "       [ 1.19969696e-02,  2.18943343e-03, -8.27493239e-03],\n",
       "       [-4.85447980e-03,  8.20523221e-03,  1.88033748e-02],\n",
       "       [-2.48076357e-02,  1.49921831e-02,  5.02943471e-02],\n",
       "       [ 1.58694703e-02, -1.32841263e-02, -3.84524837e-02],\n",
       "       [ 6.43654820e-03, -5.01785427e-03, -1.49669005e-02],\n",
       "       [-2.03261059e-02,  1.51570262e-02,  4.60930504e-02],\n",
       "       [ 6.92961290e-02, -1.81412809e-02, -1.00136310e-01]], dtype=float32)"
      ]
     },
     "execution_count": 25,
     "metadata": {},
     "output_type": "execute_result"
    }
   ],
   "source": [
    "mfccs_second_derivative"
   ]
  },
  {
   "cell_type": "code",
   "execution_count": 26,
   "metadata": {},
   "outputs": [
    {
     "data": {
      "text/plain": [
       "(128, 3)"
      ]
     },
     "execution_count": 26,
     "metadata": {},
     "output_type": "execute_result"
    }
   ],
   "source": [
    "mfccs.shape"
   ]
  },
  {
   "cell_type": "code",
   "execution_count": 27,
   "metadata": {},
   "outputs": [
    {
     "data": {
      "text/plain": [
       "array([[-3.86121643e+02, -1.77154587e+02, -1.47739655e+02],\n",
       "       [ 1.01281769e+02,  1.05258896e+02,  1.06068924e+02],\n",
       "       [-1.26125889e+01,  1.79669589e-01,  7.72359800e+00],\n",
       "       [ 2.65064583e+01,  3.16746216e+01,  3.18317223e+01],\n",
       "       [ 1.04343185e+01,  1.85284691e+01,  2.06168442e+01],\n",
       "       [ 7.84082699e+00,  1.31958504e+01,  1.47657261e+01],\n",
       "       [ 8.10751724e+00,  1.37883873e+01,  1.39138346e+01],\n",
       "       [-2.71352673e+00,  5.99053764e+00,  8.68387890e+00],\n",
       "       [ 1.44336033e+01,  1.31738148e+01,  1.10454292e+01],\n",
       "       [ 9.95032120e+00,  9.97469711e+00,  8.26042080e+00],\n",
       "       [ 1.97509727e+01,  1.50036116e+01,  9.98396397e+00],\n",
       "       [ 1.41571884e+01,  1.27514486e+01,  8.83670521e+00],\n",
       "       [ 4.23081398e+00,  4.64703894e+00,  3.83069515e+00]], dtype=float32)"
      ]
     },
     "execution_count": 27,
     "metadata": {},
     "output_type": "execute_result"
    }
   ],
   "source": [
    "mfccs = librosa.feature.mfcc(y=df_frame_from_save[\"amp\"].values[0], sr=sr, n_mfcc=13)\n",
    "mfccs"
   ]
  },
  {
   "cell_type": "code",
   "execution_count": 29,
   "metadata": {},
   "outputs": [
    {
     "data": {
      "text/plain": [
       "array([-3.86121643e+02, -1.77154587e+02, -1.47739655e+02,  1.01281769e+02,\n",
       "        1.05258896e+02,  1.06068924e+02, -1.26125889e+01,  1.79669589e-01,\n",
       "        7.72359800e+00,  2.65064583e+01,  3.16746216e+01,  3.18317223e+01,\n",
       "        1.04343185e+01,  1.85284691e+01,  2.06168442e+01,  7.84082699e+00,\n",
       "        1.31958504e+01,  1.47657261e+01,  8.10751724e+00,  1.37883873e+01,\n",
       "        1.39138346e+01, -2.71352673e+00,  5.99053764e+00,  8.68387890e+00,\n",
       "        1.44336033e+01,  1.31738148e+01,  1.10454292e+01,  9.95032120e+00,\n",
       "        9.97469711e+00,  8.26042080e+00,  1.97509727e+01,  1.50036116e+01,\n",
       "        9.98396397e+00,  1.41571884e+01,  1.27514486e+01,  8.83670521e+00,\n",
       "        4.23081398e+00,  4.64703894e+00,  3.83069515e+00], dtype=float32)"
      ]
     },
     "execution_count": 29,
     "metadata": {},
     "output_type": "execute_result"
    }
   ],
   "source": [
    "mfccs.flatten()"
   ]
  },
  {
   "cell_type": "code",
   "execution_count": 172,
   "metadata": {},
   "outputs": [
    {
     "data": {
      "text/html": [
       "<div>\n",
       "<style scoped>\n",
       "    .dataframe tbody tr th:only-of-type {\n",
       "        vertical-align: middle;\n",
       "    }\n",
       "\n",
       "    .dataframe tbody tr th {\n",
       "        vertical-align: top;\n",
       "    }\n",
       "\n",
       "    .dataframe thead th {\n",
       "        text-align: right;\n",
       "    }\n",
       "</style>\n",
       "<table border=\"1\" class=\"dataframe\">\n",
       "  <thead>\n",
       "    <tr style=\"text-align: right;\">\n",
       "      <th></th>\n",
       "      <th>key</th>\n",
       "      <th>sf</th>\n",
       "      <th>start</th>\n",
       "      <th>end</th>\n",
       "      <th>max_amp</th>\n",
       "      <th>frame_index</th>\n",
       "      <th>amp</th>\n",
       "      <th>label</th>\n",
       "    </tr>\n",
       "  </thead>\n",
       "  <tbody>\n",
       "    <tr>\n",
       "      <th>0</th>\n",
       "      <td>0029d048-898a-4c70-89c7-0815cdcf7391</td>\n",
       "      <td>22050</td>\n",
       "      <td>0</td>\n",
       "      <td>1024</td>\n",
       "      <td>0.365307</td>\n",
       "      <td>0</td>\n",
       "      <td>[-4.574141e-08, 4.00641e-08, -4.5631047e-08, 3...</td>\n",
       "      <td>0</td>\n",
       "    </tr>\n",
       "    <tr>\n",
       "      <th>1</th>\n",
       "      <td>0029d048-898a-4c70-89c7-0815cdcf7391</td>\n",
       "      <td>22050</td>\n",
       "      <td>512</td>\n",
       "      <td>1536</td>\n",
       "      <td>0.365307</td>\n",
       "      <td>1</td>\n",
       "      <td>[6.083851e-05, 6.2495135e-05, 4.0901323e-05, 2...</td>\n",
       "      <td>0</td>\n",
       "    </tr>\n",
       "    <tr>\n",
       "      <th>2</th>\n",
       "      <td>0029d048-898a-4c70-89c7-0815cdcf7391</td>\n",
       "      <td>22050</td>\n",
       "      <td>1024</td>\n",
       "      <td>2048</td>\n",
       "      <td>0.062898</td>\n",
       "      <td>2</td>\n",
       "      <td>[-0.21390674, -0.21399471, -0.21432504, -0.213...</td>\n",
       "      <td>0</td>\n",
       "    </tr>\n",
       "    <tr>\n",
       "      <th>3</th>\n",
       "      <td>0029d048-898a-4c70-89c7-0815cdcf7391</td>\n",
       "      <td>22050</td>\n",
       "      <td>1536</td>\n",
       "      <td>2560</td>\n",
       "      <td>0.003421</td>\n",
       "      <td>3</td>\n",
       "      <td>[0.0034214016, 0.002930639, 0.0025067274, 0.00...</td>\n",
       "      <td>0</td>\n",
       "    </tr>\n",
       "    <tr>\n",
       "      <th>4</th>\n",
       "      <td>0029d048-898a-4c70-89c7-0815cdcf7391</td>\n",
       "      <td>22050</td>\n",
       "      <td>2048</td>\n",
       "      <td>3072</td>\n",
       "      <td>0.002464</td>\n",
       "      <td>4</td>\n",
       "      <td>[0.00055328425, 0.00037316832, 0.00033341238, ...</td>\n",
       "      <td>0</td>\n",
       "    </tr>\n",
       "    <tr>\n",
       "      <th>...</th>\n",
       "      <td>...</td>\n",
       "      <td>...</td>\n",
       "      <td>...</td>\n",
       "      <td>...</td>\n",
       "      <td>...</td>\n",
       "      <td>...</td>\n",
       "      <td>...</td>\n",
       "      <td>...</td>\n",
       "    </tr>\n",
       "    <tr>\n",
       "      <th>56332</th>\n",
       "      <td>ff1234d7-7837-4ba7-842f-99fdc916baa9</td>\n",
       "      <td>22050</td>\n",
       "      <td>213504</td>\n",
       "      <td>214528</td>\n",
       "      <td>0.000000</td>\n",
       "      <td>417</td>\n",
       "      <td>[0.0, 0.0, 0.0, 0.0, 0.0, 0.0, 0.0, 0.0, 0.0, ...</td>\n",
       "      <td>0</td>\n",
       "    </tr>\n",
       "    <tr>\n",
       "      <th>56333</th>\n",
       "      <td>ff1234d7-7837-4ba7-842f-99fdc916baa9</td>\n",
       "      <td>22050</td>\n",
       "      <td>214016</td>\n",
       "      <td>215040</td>\n",
       "      <td>0.000000</td>\n",
       "      <td>418</td>\n",
       "      <td>[0.0, 0.0, 0.0, 0.0, 0.0, 0.0, 0.0, 0.0, 0.0, ...</td>\n",
       "      <td>0</td>\n",
       "    </tr>\n",
       "    <tr>\n",
       "      <th>56334</th>\n",
       "      <td>ff1234d7-7837-4ba7-842f-99fdc916baa9</td>\n",
       "      <td>22050</td>\n",
       "      <td>214528</td>\n",
       "      <td>215552</td>\n",
       "      <td>0.000000</td>\n",
       "      <td>419</td>\n",
       "      <td>[0.0, 0.0, 0.0, 0.0, 0.0, 0.0, 0.0, 0.0, 0.0, ...</td>\n",
       "      <td>0</td>\n",
       "    </tr>\n",
       "    <tr>\n",
       "      <th>56335</th>\n",
       "      <td>ff1234d7-7837-4ba7-842f-99fdc916baa9</td>\n",
       "      <td>22050</td>\n",
       "      <td>215040</td>\n",
       "      <td>216064</td>\n",
       "      <td>0.000000</td>\n",
       "      <td>420</td>\n",
       "      <td>[0.0, 0.0, 0.0, 0.0, 0.0, 0.0, 0.0, 0.0, 0.0, ...</td>\n",
       "      <td>0</td>\n",
       "    </tr>\n",
       "    <tr>\n",
       "      <th>56336</th>\n",
       "      <td>ff1234d7-7837-4ba7-842f-99fdc916baa9</td>\n",
       "      <td>22050</td>\n",
       "      <td>215552</td>\n",
       "      <td>216576</td>\n",
       "      <td>0.000000</td>\n",
       "      <td>421</td>\n",
       "      <td>[0.0, 0.0, 0.0, 0.0, 0.0, 0.0, 0.0, 0.0, 0.0, ...</td>\n",
       "      <td>0</td>\n",
       "    </tr>\n",
       "  </tbody>\n",
       "</table>\n",
       "<p>56337 rows × 8 columns</p>\n",
       "</div>"
      ],
      "text/plain": [
       "                                        key     sf   start     end   max_amp  \\\n",
       "0      0029d048-898a-4c70-89c7-0815cdcf7391  22050       0    1024  0.365307   \n",
       "1      0029d048-898a-4c70-89c7-0815cdcf7391  22050     512    1536  0.365307   \n",
       "2      0029d048-898a-4c70-89c7-0815cdcf7391  22050    1024    2048  0.062898   \n",
       "3      0029d048-898a-4c70-89c7-0815cdcf7391  22050    1536    2560  0.003421   \n",
       "4      0029d048-898a-4c70-89c7-0815cdcf7391  22050    2048    3072  0.002464   \n",
       "...                                     ...    ...     ...     ...       ...   \n",
       "56332  ff1234d7-7837-4ba7-842f-99fdc916baa9  22050  213504  214528  0.000000   \n",
       "56333  ff1234d7-7837-4ba7-842f-99fdc916baa9  22050  214016  215040  0.000000   \n",
       "56334  ff1234d7-7837-4ba7-842f-99fdc916baa9  22050  214528  215552  0.000000   \n",
       "56335  ff1234d7-7837-4ba7-842f-99fdc916baa9  22050  215040  216064  0.000000   \n",
       "56336  ff1234d7-7837-4ba7-842f-99fdc916baa9  22050  215552  216576  0.000000   \n",
       "\n",
       "       frame_index                                                amp  label  \n",
       "0                0  [-4.574141e-08, 4.00641e-08, -4.5631047e-08, 3...      0  \n",
       "1                1  [6.083851e-05, 6.2495135e-05, 4.0901323e-05, 2...      0  \n",
       "2                2  [-0.21390674, -0.21399471, -0.21432504, -0.213...      0  \n",
       "3                3  [0.0034214016, 0.002930639, 0.0025067274, 0.00...      0  \n",
       "4                4  [0.00055328425, 0.00037316832, 0.00033341238, ...      0  \n",
       "...            ...                                                ...    ...  \n",
       "56332          417  [0.0, 0.0, 0.0, 0.0, 0.0, 0.0, 0.0, 0.0, 0.0, ...      0  \n",
       "56333          418  [0.0, 0.0, 0.0, 0.0, 0.0, 0.0, 0.0, 0.0, 0.0, ...      0  \n",
       "56334          419  [0.0, 0.0, 0.0, 0.0, 0.0, 0.0, 0.0, 0.0, 0.0, ...      0  \n",
       "56335          420  [0.0, 0.0, 0.0, 0.0, 0.0, 0.0, 0.0, 0.0, 0.0, ...      0  \n",
       "56336          421  [0.0, 0.0, 0.0, 0.0, 0.0, 0.0, 0.0, 0.0, 0.0, ...      0  \n",
       "\n",
       "[56337 rows x 8 columns]"
      ]
     },
     "execution_count": 172,
     "metadata": {},
     "output_type": "execute_result"
    }
   ],
   "source": [
    "framed_df"
   ]
  },
  {
   "cell_type": "code",
   "execution_count": 157,
   "metadata": {},
   "outputs": [
    {
     "ename": "ParameterError",
     "evalue": "when mode='interp', width=9 cannot exceed data.shape[axis]=3",
     "output_type": "error",
     "traceback": [
      "\u001b[1;31m---------------------------------------------------------------------------\u001b[0m",
      "\u001b[1;31mParameterError\u001b[0m                            Traceback (most recent call last)",
      "Cell \u001b[1;32mIn[157], line 14\u001b[0m\n\u001b[0;32m     10\u001b[0m     mfccs_second_derivative \u001b[38;5;241m=\u001b[39m librosa\u001b[38;5;241m.\u001b[39mfeature\u001b[38;5;241m.\u001b[39mdelta(mfccs, order\u001b[38;5;241m=\u001b[39m\u001b[38;5;241m3\u001b[39m, mode\u001b[38;5;241m=\u001b[39m\u001b[38;5;124m\"\u001b[39m\u001b[38;5;124minterp\u001b[39m\u001b[38;5;124m\"\u001b[39m,width\u001b[38;5;241m=\u001b[39m\u001b[38;5;241m9\u001b[39m)\n\u001b[0;32m     12\u001b[0m     \u001b[38;5;28;01mreturn\u001b[39;00m mfccs_second_derivative\n\u001b[1;32m---> 14\u001b[0m framed_df[\u001b[38;5;124m\"\u001b[39m\u001b[38;5;124mmfccs\u001b[39m\u001b[38;5;124m\"\u001b[39m] \u001b[38;5;241m=\u001b[39m \u001b[43mframed_df\u001b[49m\u001b[43m[\u001b[49m\u001b[38;5;124;43m\"\u001b[39;49m\u001b[38;5;124;43mamp\u001b[39;49m\u001b[38;5;124;43m\"\u001b[39;49m\u001b[43m]\u001b[49m\u001b[38;5;241;43m.\u001b[39;49m\u001b[43mapply\u001b[49m\u001b[43m(\u001b[49m\u001b[38;5;28;43;01mlambda\u001b[39;49;00m\u001b[43m \u001b[49m\u001b[43mx\u001b[49m\u001b[43m:\u001b[49m\u001b[43m \u001b[49m\u001b[43mextract_features\u001b[49m\u001b[43m(\u001b[49m\u001b[43mx\u001b[49m\u001b[43m)\u001b[49m\u001b[43m)\u001b[49m\n\u001b[0;32m     15\u001b[0m framed_df\n",
      "File \u001b[1;32mf:\\Data Science and ML\\End To End ML\\CE 903 - Group Project\\23-24_CE903-SU_team06\\venv-team06\\lib\\site-packages\\pandas\\core\\series.py:4924\u001b[0m, in \u001b[0;36mSeries.apply\u001b[1;34m(self, func, convert_dtype, args, by_row, **kwargs)\u001b[0m\n\u001b[0;32m   4789\u001b[0m \u001b[38;5;28;01mdef\u001b[39;00m \u001b[38;5;21mapply\u001b[39m(\n\u001b[0;32m   4790\u001b[0m     \u001b[38;5;28mself\u001b[39m,\n\u001b[0;32m   4791\u001b[0m     func: AggFuncType,\n\u001b[1;32m   (...)\u001b[0m\n\u001b[0;32m   4796\u001b[0m     \u001b[38;5;241m*\u001b[39m\u001b[38;5;241m*\u001b[39mkwargs,\n\u001b[0;32m   4797\u001b[0m ) \u001b[38;5;241m-\u001b[39m\u001b[38;5;241m>\u001b[39m DataFrame \u001b[38;5;241m|\u001b[39m Series:\n\u001b[0;32m   4798\u001b[0m \u001b[38;5;250m    \u001b[39m\u001b[38;5;124;03m\"\"\"\u001b[39;00m\n\u001b[0;32m   4799\u001b[0m \u001b[38;5;124;03m    Invoke function on values of Series.\u001b[39;00m\n\u001b[0;32m   4800\u001b[0m \n\u001b[1;32m   (...)\u001b[0m\n\u001b[0;32m   4915\u001b[0m \u001b[38;5;124;03m    dtype: float64\u001b[39;00m\n\u001b[0;32m   4916\u001b[0m \u001b[38;5;124;03m    \"\"\"\u001b[39;00m\n\u001b[0;32m   4917\u001b[0m     \u001b[38;5;28;01mreturn\u001b[39;00m \u001b[43mSeriesApply\u001b[49m\u001b[43m(\u001b[49m\n\u001b[0;32m   4918\u001b[0m \u001b[43m        \u001b[49m\u001b[38;5;28;43mself\u001b[39;49m\u001b[43m,\u001b[49m\n\u001b[0;32m   4919\u001b[0m \u001b[43m        \u001b[49m\u001b[43mfunc\u001b[49m\u001b[43m,\u001b[49m\n\u001b[0;32m   4920\u001b[0m \u001b[43m        \u001b[49m\u001b[43mconvert_dtype\u001b[49m\u001b[38;5;241;43m=\u001b[39;49m\u001b[43mconvert_dtype\u001b[49m\u001b[43m,\u001b[49m\n\u001b[0;32m   4921\u001b[0m \u001b[43m        \u001b[49m\u001b[43mby_row\u001b[49m\u001b[38;5;241;43m=\u001b[39;49m\u001b[43mby_row\u001b[49m\u001b[43m,\u001b[49m\n\u001b[0;32m   4922\u001b[0m \u001b[43m        \u001b[49m\u001b[43margs\u001b[49m\u001b[38;5;241;43m=\u001b[39;49m\u001b[43margs\u001b[49m\u001b[43m,\u001b[49m\n\u001b[0;32m   4923\u001b[0m \u001b[43m        \u001b[49m\u001b[43mkwargs\u001b[49m\u001b[38;5;241;43m=\u001b[39;49m\u001b[43mkwargs\u001b[49m\u001b[43m,\u001b[49m\n\u001b[1;32m-> 4924\u001b[0m \u001b[43m    \u001b[49m\u001b[43m)\u001b[49m\u001b[38;5;241;43m.\u001b[39;49m\u001b[43mapply\u001b[49m\u001b[43m(\u001b[49m\u001b[43m)\u001b[49m\n",
      "File \u001b[1;32mf:\\Data Science and ML\\End To End ML\\CE 903 - Group Project\\23-24_CE903-SU_team06\\venv-team06\\lib\\site-packages\\pandas\\core\\apply.py:1427\u001b[0m, in \u001b[0;36mSeriesApply.apply\u001b[1;34m(self)\u001b[0m\n\u001b[0;32m   1424\u001b[0m     \u001b[38;5;28;01mreturn\u001b[39;00m \u001b[38;5;28mself\u001b[39m\u001b[38;5;241m.\u001b[39mapply_compat()\n\u001b[0;32m   1426\u001b[0m \u001b[38;5;66;03m# self.func is Callable\u001b[39;00m\n\u001b[1;32m-> 1427\u001b[0m \u001b[38;5;28;01mreturn\u001b[39;00m \u001b[38;5;28;43mself\u001b[39;49m\u001b[38;5;241;43m.\u001b[39;49m\u001b[43mapply_standard\u001b[49m\u001b[43m(\u001b[49m\u001b[43m)\u001b[49m\n",
      "File \u001b[1;32mf:\\Data Science and ML\\End To End ML\\CE 903 - Group Project\\23-24_CE903-SU_team06\\venv-team06\\lib\\site-packages\\pandas\\core\\apply.py:1507\u001b[0m, in \u001b[0;36mSeriesApply.apply_standard\u001b[1;34m(self)\u001b[0m\n\u001b[0;32m   1501\u001b[0m \u001b[38;5;66;03m# row-wise access\u001b[39;00m\n\u001b[0;32m   1502\u001b[0m \u001b[38;5;66;03m# apply doesn't have a `na_action` keyword and for backward compat reasons\u001b[39;00m\n\u001b[0;32m   1503\u001b[0m \u001b[38;5;66;03m# we need to give `na_action=\"ignore\"` for categorical data.\u001b[39;00m\n\u001b[0;32m   1504\u001b[0m \u001b[38;5;66;03m# TODO: remove the `na_action=\"ignore\"` when that default has been changed in\u001b[39;00m\n\u001b[0;32m   1505\u001b[0m \u001b[38;5;66;03m#  Categorical (GH51645).\u001b[39;00m\n\u001b[0;32m   1506\u001b[0m action \u001b[38;5;241m=\u001b[39m \u001b[38;5;124m\"\u001b[39m\u001b[38;5;124mignore\u001b[39m\u001b[38;5;124m\"\u001b[39m \u001b[38;5;28;01mif\u001b[39;00m \u001b[38;5;28misinstance\u001b[39m(obj\u001b[38;5;241m.\u001b[39mdtype, CategoricalDtype) \u001b[38;5;28;01melse\u001b[39;00m \u001b[38;5;28;01mNone\u001b[39;00m\n\u001b[1;32m-> 1507\u001b[0m mapped \u001b[38;5;241m=\u001b[39m \u001b[43mobj\u001b[49m\u001b[38;5;241;43m.\u001b[39;49m\u001b[43m_map_values\u001b[49m\u001b[43m(\u001b[49m\n\u001b[0;32m   1508\u001b[0m \u001b[43m    \u001b[49m\u001b[43mmapper\u001b[49m\u001b[38;5;241;43m=\u001b[39;49m\u001b[43mcurried\u001b[49m\u001b[43m,\u001b[49m\u001b[43m \u001b[49m\u001b[43mna_action\u001b[49m\u001b[38;5;241;43m=\u001b[39;49m\u001b[43maction\u001b[49m\u001b[43m,\u001b[49m\u001b[43m \u001b[49m\u001b[43mconvert\u001b[49m\u001b[38;5;241;43m=\u001b[39;49m\u001b[38;5;28;43mself\u001b[39;49m\u001b[38;5;241;43m.\u001b[39;49m\u001b[43mconvert_dtype\u001b[49m\n\u001b[0;32m   1509\u001b[0m \u001b[43m\u001b[49m\u001b[43m)\u001b[49m\n\u001b[0;32m   1511\u001b[0m \u001b[38;5;28;01mif\u001b[39;00m \u001b[38;5;28mlen\u001b[39m(mapped) \u001b[38;5;129;01mand\u001b[39;00m \u001b[38;5;28misinstance\u001b[39m(mapped[\u001b[38;5;241m0\u001b[39m], ABCSeries):\n\u001b[0;32m   1512\u001b[0m     \u001b[38;5;66;03m# GH#43986 Need to do list(mapped) in order to get treated as nested\u001b[39;00m\n\u001b[0;32m   1513\u001b[0m     \u001b[38;5;66;03m#  See also GH#25959 regarding EA support\u001b[39;00m\n\u001b[0;32m   1514\u001b[0m     \u001b[38;5;28;01mreturn\u001b[39;00m obj\u001b[38;5;241m.\u001b[39m_constructor_expanddim(\u001b[38;5;28mlist\u001b[39m(mapped), index\u001b[38;5;241m=\u001b[39mobj\u001b[38;5;241m.\u001b[39mindex)\n",
      "File \u001b[1;32mf:\\Data Science and ML\\End To End ML\\CE 903 - Group Project\\23-24_CE903-SU_team06\\venv-team06\\lib\\site-packages\\pandas\\core\\base.py:921\u001b[0m, in \u001b[0;36mIndexOpsMixin._map_values\u001b[1;34m(self, mapper, na_action, convert)\u001b[0m\n\u001b[0;32m    918\u001b[0m \u001b[38;5;28;01mif\u001b[39;00m \u001b[38;5;28misinstance\u001b[39m(arr, ExtensionArray):\n\u001b[0;32m    919\u001b[0m     \u001b[38;5;28;01mreturn\u001b[39;00m arr\u001b[38;5;241m.\u001b[39mmap(mapper, na_action\u001b[38;5;241m=\u001b[39mna_action)\n\u001b[1;32m--> 921\u001b[0m \u001b[38;5;28;01mreturn\u001b[39;00m \u001b[43malgorithms\u001b[49m\u001b[38;5;241;43m.\u001b[39;49m\u001b[43mmap_array\u001b[49m\u001b[43m(\u001b[49m\u001b[43marr\u001b[49m\u001b[43m,\u001b[49m\u001b[43m \u001b[49m\u001b[43mmapper\u001b[49m\u001b[43m,\u001b[49m\u001b[43m \u001b[49m\u001b[43mna_action\u001b[49m\u001b[38;5;241;43m=\u001b[39;49m\u001b[43mna_action\u001b[49m\u001b[43m,\u001b[49m\u001b[43m \u001b[49m\u001b[43mconvert\u001b[49m\u001b[38;5;241;43m=\u001b[39;49m\u001b[43mconvert\u001b[49m\u001b[43m)\u001b[49m\n",
      "File \u001b[1;32mf:\\Data Science and ML\\End To End ML\\CE 903 - Group Project\\23-24_CE903-SU_team06\\venv-team06\\lib\\site-packages\\pandas\\core\\algorithms.py:1743\u001b[0m, in \u001b[0;36mmap_array\u001b[1;34m(arr, mapper, na_action, convert)\u001b[0m\n\u001b[0;32m   1741\u001b[0m values \u001b[38;5;241m=\u001b[39m arr\u001b[38;5;241m.\u001b[39mastype(\u001b[38;5;28mobject\u001b[39m, copy\u001b[38;5;241m=\u001b[39m\u001b[38;5;28;01mFalse\u001b[39;00m)\n\u001b[0;32m   1742\u001b[0m \u001b[38;5;28;01mif\u001b[39;00m na_action \u001b[38;5;129;01mis\u001b[39;00m \u001b[38;5;28;01mNone\u001b[39;00m:\n\u001b[1;32m-> 1743\u001b[0m     \u001b[38;5;28;01mreturn\u001b[39;00m \u001b[43mlib\u001b[49m\u001b[38;5;241;43m.\u001b[39;49m\u001b[43mmap_infer\u001b[49m\u001b[43m(\u001b[49m\u001b[43mvalues\u001b[49m\u001b[43m,\u001b[49m\u001b[43m \u001b[49m\u001b[43mmapper\u001b[49m\u001b[43m,\u001b[49m\u001b[43m \u001b[49m\u001b[43mconvert\u001b[49m\u001b[38;5;241;43m=\u001b[39;49m\u001b[43mconvert\u001b[49m\u001b[43m)\u001b[49m\n\u001b[0;32m   1744\u001b[0m \u001b[38;5;28;01melse\u001b[39;00m:\n\u001b[0;32m   1745\u001b[0m     \u001b[38;5;28;01mreturn\u001b[39;00m lib\u001b[38;5;241m.\u001b[39mmap_infer_mask(\n\u001b[0;32m   1746\u001b[0m         values, mapper, mask\u001b[38;5;241m=\u001b[39misna(values)\u001b[38;5;241m.\u001b[39mview(np\u001b[38;5;241m.\u001b[39muint8), convert\u001b[38;5;241m=\u001b[39mconvert\n\u001b[0;32m   1747\u001b[0m     )\n",
      "File \u001b[1;32mlib.pyx:2972\u001b[0m, in \u001b[0;36mpandas._libs.lib.map_infer\u001b[1;34m()\u001b[0m\n",
      "Cell \u001b[1;32mIn[157], line 14\u001b[0m, in \u001b[0;36m<lambda>\u001b[1;34m(x)\u001b[0m\n\u001b[0;32m     10\u001b[0m     mfccs_second_derivative \u001b[38;5;241m=\u001b[39m librosa\u001b[38;5;241m.\u001b[39mfeature\u001b[38;5;241m.\u001b[39mdelta(mfccs, order\u001b[38;5;241m=\u001b[39m\u001b[38;5;241m3\u001b[39m, mode\u001b[38;5;241m=\u001b[39m\u001b[38;5;124m\"\u001b[39m\u001b[38;5;124minterp\u001b[39m\u001b[38;5;124m\"\u001b[39m,width\u001b[38;5;241m=\u001b[39m\u001b[38;5;241m9\u001b[39m)\n\u001b[0;32m     12\u001b[0m     \u001b[38;5;28;01mreturn\u001b[39;00m mfccs_second_derivative\n\u001b[1;32m---> 14\u001b[0m framed_df[\u001b[38;5;124m\"\u001b[39m\u001b[38;5;124mmfccs\u001b[39m\u001b[38;5;124m\"\u001b[39m] \u001b[38;5;241m=\u001b[39m framed_df[\u001b[38;5;124m\"\u001b[39m\u001b[38;5;124mamp\u001b[39m\u001b[38;5;124m\"\u001b[39m]\u001b[38;5;241m.\u001b[39mapply(\u001b[38;5;28;01mlambda\u001b[39;00m x: \u001b[43mextract_features\u001b[49m\u001b[43m(\u001b[49m\u001b[43mx\u001b[49m\u001b[43m)\u001b[49m)\n\u001b[0;32m     15\u001b[0m framed_df\n",
      "Cell \u001b[1;32mIn[157], line 10\u001b[0m, in \u001b[0;36mextract_features\u001b[1;34m(amplitude)\u001b[0m\n\u001b[0;32m      5\u001b[0m \u001b[38;5;66;03m# Step 2: Compute the Mel spectrogram\u001b[39;00m\n\u001b[0;32m      6\u001b[0m \u001b[38;5;66;03m# S = librosa.feature.melspectrogram(y=amplitude, sr=sr, n_mels=256)\u001b[39;00m\n\u001b[0;32m      7\u001b[0m \n\u001b[0;32m      8\u001b[0m \u001b[38;5;66;03m# Step 3: Convert to Decibel scale (log scale)\u001b[39;00m\n\u001b[0;32m      9\u001b[0m mfccs \u001b[38;5;241m=\u001b[39m librosa\u001b[38;5;241m.\u001b[39mfeature\u001b[38;5;241m.\u001b[39mmfcc(y\u001b[38;5;241m=\u001b[39mamplitude, sr\u001b[38;5;241m=\u001b[39msr, n_mfcc\u001b[38;5;241m=\u001b[39m\u001b[38;5;241m64\u001b[39m,n_fft\u001b[38;5;241m=\u001b[39m\u001b[38;5;241m1024\u001b[39m)\n\u001b[1;32m---> 10\u001b[0m mfccs_second_derivative \u001b[38;5;241m=\u001b[39m \u001b[43mlibrosa\u001b[49m\u001b[38;5;241;43m.\u001b[39;49m\u001b[43mfeature\u001b[49m\u001b[38;5;241;43m.\u001b[39;49m\u001b[43mdelta\u001b[49m\u001b[43m(\u001b[49m\u001b[43mmfccs\u001b[49m\u001b[43m,\u001b[49m\u001b[43m \u001b[49m\u001b[43morder\u001b[49m\u001b[38;5;241;43m=\u001b[39;49m\u001b[38;5;241;43m3\u001b[39;49m\u001b[43m,\u001b[49m\u001b[43m \u001b[49m\u001b[43mmode\u001b[49m\u001b[38;5;241;43m=\u001b[39;49m\u001b[38;5;124;43m\"\u001b[39;49m\u001b[38;5;124;43minterp\u001b[39;49m\u001b[38;5;124;43m\"\u001b[39;49m\u001b[43m,\u001b[49m\u001b[43mwidth\u001b[49m\u001b[38;5;241;43m=\u001b[39;49m\u001b[38;5;241;43m9\u001b[39;49m\u001b[43m)\u001b[49m\n\u001b[0;32m     12\u001b[0m \u001b[38;5;28;01mreturn\u001b[39;00m mfccs_second_derivative\n",
      "File \u001b[1;32mf:\\Data Science and ML\\End To End ML\\CE 903 - Group Project\\23-24_CE903-SU_team06\\venv-team06\\lib\\site-packages\\librosa\\feature\\utils.py:109\u001b[0m, in \u001b[0;36mdelta\u001b[1;34m(data, width, order, axis, mode, **kwargs)\u001b[0m\n\u001b[0;32m    106\u001b[0m data \u001b[38;5;241m=\u001b[39m np\u001b[38;5;241m.\u001b[39matleast_1d(data)\n\u001b[0;32m    108\u001b[0m \u001b[38;5;28;01mif\u001b[39;00m mode \u001b[38;5;241m==\u001b[39m \u001b[38;5;124m\"\u001b[39m\u001b[38;5;124minterp\u001b[39m\u001b[38;5;124m\"\u001b[39m \u001b[38;5;129;01mand\u001b[39;00m width \u001b[38;5;241m>\u001b[39m data\u001b[38;5;241m.\u001b[39mshape[axis]:\n\u001b[1;32m--> 109\u001b[0m     \u001b[38;5;28;01mraise\u001b[39;00m ParameterError(\n\u001b[0;32m    110\u001b[0m         \u001b[38;5;124mf\u001b[39m\u001b[38;5;124m\"\u001b[39m\u001b[38;5;124mwhen mode=\u001b[39m\u001b[38;5;124m'\u001b[39m\u001b[38;5;124minterp\u001b[39m\u001b[38;5;124m'\u001b[39m\u001b[38;5;124m, width=\u001b[39m\u001b[38;5;132;01m{\u001b[39;00mwidth\u001b[38;5;132;01m}\u001b[39;00m\u001b[38;5;124m \u001b[39m\u001b[38;5;124m\"\u001b[39m\n\u001b[0;32m    111\u001b[0m         \u001b[38;5;124mf\u001b[39m\u001b[38;5;124m\"\u001b[39m\u001b[38;5;124mcannot exceed data.shape[axis]=\u001b[39m\u001b[38;5;132;01m{\u001b[39;00mdata\u001b[38;5;241m.\u001b[39mshape[axis]\u001b[38;5;132;01m}\u001b[39;00m\u001b[38;5;124m\"\u001b[39m\n\u001b[0;32m    112\u001b[0m     )\n\u001b[0;32m    114\u001b[0m \u001b[38;5;28;01mif\u001b[39;00m width \u001b[38;5;241m<\u001b[39m \u001b[38;5;241m3\u001b[39m \u001b[38;5;129;01mor\u001b[39;00m np\u001b[38;5;241m.\u001b[39mmod(width, \u001b[38;5;241m2\u001b[39m) \u001b[38;5;241m!=\u001b[39m \u001b[38;5;241m1\u001b[39m:\n\u001b[0;32m    115\u001b[0m     \u001b[38;5;28;01mraise\u001b[39;00m ParameterError(\u001b[38;5;124m\"\u001b[39m\u001b[38;5;124mwidth must be an odd integer >= 3\u001b[39m\u001b[38;5;124m\"\u001b[39m)\n",
      "\u001b[1;31mParameterError\u001b[0m: when mode='interp', width=9 cannot exceed data.shape[axis]=3"
     ]
    }
   ],
   "source": [
    "# y, sr = librosa.load(file_path, sr=22050)  # sr=22050 is the default sampling rate\n",
    "\n",
    "def extract_features(amplitude):\n",
    "    sr = 22050\n",
    "    # Step 2: Compute the Mel spectrogram\n",
    "    # S = librosa.feature.melspectrogram(y=amplitude, sr=sr, n_mels=256)\n",
    "\n",
    "    # Step 3: Convert to Decibel scale (log scale)\n",
    "    mfccs = librosa.feature.mfcc(y=amplitude, sr=sr, n_mfcc=64,n_fft=64)\n",
    "    \n",
    "    mfccs_second_derivative = librosa.feature.delta(mfccs, order=3, mode=\"interp\",width=9)\n",
    "    \n",
    "    return mfccs_second_derivative\n",
    "\n",
    "framed_df[\"mfccs\"] = framed_df[\"amp\"].apply(lambda x: extract_features(x))\n",
    "framed_df"
   ]
  },
  {
   "cell_type": "code",
   "execution_count": 33,
   "metadata": {},
   "outputs": [],
   "source": [
    "# df_frame_from_save[\"mfccs\"].to_csv(\"test.csv\",index=False)"
   ]
  },
  {
   "cell_type": "code",
   "execution_count": 62,
   "metadata": {},
   "outputs": [
    {
     "data": {
      "text/plain": [
       "(128, 3)"
      ]
     },
     "execution_count": 62,
     "metadata": {},
     "output_type": "execute_result"
    }
   ],
   "source": [
    "framed_df[\"mfccs\"][0].shape"
   ]
  },
  {
   "cell_type": "code",
   "execution_count": 15,
   "metadata": {},
   "outputs": [
    {
     "data": {
      "text/plain": [
       "(192,)"
      ]
     },
     "execution_count": 15,
     "metadata": {},
     "output_type": "execute_result"
    }
   ],
   "source": [
    "framed_df[\"mfccs\"][0].reshape(-1).shape"
   ]
  },
  {
   "cell_type": "code",
   "execution_count": 16,
   "metadata": {},
   "outputs": [],
   "source": [
    "# preparing data for ml\n",
    "data = []\n",
    "for i in range(len(framed_df)):\n",
    "    data.append(framed_df[\"mfccs\"][i].reshape(-1))\n",
    "X = np.array(data)"
   ]
  },
  {
   "cell_type": "code",
   "execution_count": 17,
   "metadata": {},
   "outputs": [
    {
     "data": {
      "text/plain": [
       "(192,)"
      ]
     },
     "execution_count": 17,
     "metadata": {},
     "output_type": "execute_result"
    }
   ],
   "source": [
    "X[0].shape"
   ]
  },
  {
   "cell_type": "code",
   "execution_count": 18,
   "metadata": {},
   "outputs": [
    {
     "data": {
      "text/plain": [
       "(56337, 192)"
      ]
     },
     "execution_count": 18,
     "metadata": {},
     "output_type": "execute_result"
    }
   ],
   "source": [
    "X.shape"
   ]
  },
  {
   "cell_type": "markdown",
   "metadata": {},
   "source": [
    "# Model Building"
   ]
  },
  {
   "cell_type": "code",
   "execution_count": 19,
   "metadata": {},
   "outputs": [],
   "source": [
    "from xgboost import XGBClassifier\n",
    "from sklearn.linear_model import LogisticRegression"
   ]
  },
  {
   "cell_type": "code",
   "execution_count": 20,
   "metadata": {},
   "outputs": [],
   "source": [
    "# X = df_frame_from_save[\"mfccs\"]\n",
    "y = framed_df[\"label\"]"
   ]
  },
  {
   "cell_type": "code",
   "execution_count": 21,
   "metadata": {},
   "outputs": [
    {
     "data": {
      "text/plain": [
       "0        0\n",
       "1        0\n",
       "2        0\n",
       "3        0\n",
       "4        0\n",
       "        ..\n",
       "56332    0\n",
       "56333    0\n",
       "56334    0\n",
       "56335    0\n",
       "56336    0\n",
       "Name: label, Length: 56337, dtype: int64"
      ]
     },
     "execution_count": 21,
     "metadata": {},
     "output_type": "execute_result"
    }
   ],
   "source": [
    "y"
   ]
  },
  {
   "cell_type": "code",
   "execution_count": 22,
   "metadata": {},
   "outputs": [
    {
     "data": {
      "text/plain": [
       "label\n",
       "0    44249\n",
       "1    12088\n",
       "Name: count, dtype: int64"
      ]
     },
     "execution_count": 22,
     "metadata": {},
     "output_type": "execute_result"
    }
   ],
   "source": [
    "y.value_counts()"
   ]
  },
  {
   "cell_type": "code",
   "execution_count": 23,
   "metadata": {},
   "outputs": [
    {
     "data": {
      "text/plain": [
       "label\n",
       "0    0.785434\n",
       "1    0.214566\n",
       "Name: count, dtype: float64"
      ]
     },
     "execution_count": 23,
     "metadata": {},
     "output_type": "execute_result"
    }
   ],
   "source": [
    "y.value_counts()/y.shape"
   ]
  },
  {
   "cell_type": "code",
   "execution_count": 24,
   "metadata": {},
   "outputs": [],
   "source": [
    "from sklearn.model_selection import train_test_split\n",
    "\n",
    "X_train,X_test,y_train,y_test = train_test_split(X,y,test_size=0.2,random_state=42)"
   ]
  },
  {
   "cell_type": "code",
   "execution_count": 25,
   "metadata": {},
   "outputs": [
    {
     "data": {
      "text/plain": [
       "(192,)"
      ]
     },
     "execution_count": 25,
     "metadata": {},
     "output_type": "execute_result"
    }
   ],
   "source": [
    "X_train[0].shape"
   ]
  },
  {
   "cell_type": "markdown",
   "metadata": {},
   "source": [
    "# Logistic Regression"
   ]
  },
  {
   "cell_type": "code",
   "execution_count": 26,
   "metadata": {},
   "outputs": [],
   "source": [
    "lr = LogisticRegression(penalty=\"elasticnet\",verbose=1,l1_ratio=0.4,solver=\"saga\")"
   ]
  },
  {
   "cell_type": "code",
   "execution_count": 27,
   "metadata": {},
   "outputs": [
    {
     "name": "stdout",
     "output_type": "stream",
     "text": [
      "max_iter reached after 19 seconds\n"
     ]
    },
    {
     "name": "stderr",
     "output_type": "stream",
     "text": [
      "f:\\Data Science and ML\\End To End ML\\CE 903 - Group Project\\23-24_CE903-SU_team06\\venv-team06\\lib\\site-packages\\sklearn\\linear_model\\_sag.py:349: ConvergenceWarning: The max_iter was reached which means the coef_ did not converge\n",
      "  warnings.warn(\n"
     ]
    }
   ],
   "source": [
    "lr.fit(X_train,y_train)\n",
    "y_pred = lr.predict(X_test)\n"
   ]
  },
  {
   "cell_type": "code",
   "execution_count": 28,
   "metadata": {},
   "outputs": [
    {
     "data": {
      "text/plain": [
       "0.8774405395811147"
      ]
     },
     "execution_count": 28,
     "metadata": {},
     "output_type": "execute_result"
    }
   ],
   "source": [
    "accuracy_score(y_test,y_pred)"
   ]
  },
  {
   "cell_type": "code",
   "execution_count": 29,
   "metadata": {},
   "outputs": [
    {
     "name": "stdout",
     "output_type": "stream",
     "text": [
      "              precision    recall  f1-score   support\n",
      "\n",
      "           0       0.90      0.94      0.92      8803\n",
      "           1       0.76      0.64      0.69      2465\n",
      "\n",
      "    accuracy                           0.88     11268\n",
      "   macro avg       0.83      0.79      0.81     11268\n",
      "weighted avg       0.87      0.88      0.87     11268\n",
      "\n"
     ]
    }
   ],
   "source": [
    "print(classification_report(y_test,y_pred))"
   ]
  },
  {
   "cell_type": "code",
   "execution_count": null,
   "metadata": {},
   "outputs": [],
   "source": []
  },
  {
   "cell_type": "code",
   "execution_count": null,
   "metadata": {},
   "outputs": [],
   "source": []
  },
  {
   "cell_type": "markdown",
   "metadata": {},
   "source": [
    "# XGBoost"
   ]
  },
  {
   "cell_type": "code",
   "execution_count": 32,
   "metadata": {},
   "outputs": [],
   "source": [
    "xgb = XGBClassifier()\n",
    "xgb.fit(X_train,y_train)\n",
    "y_pred = xgb.predict(X_test)\n"
   ]
  },
  {
   "cell_type": "code",
   "execution_count": 33,
   "metadata": {},
   "outputs": [
    {
     "data": {
      "text/plain": [
       "0.8775292864749734"
      ]
     },
     "execution_count": 33,
     "metadata": {},
     "output_type": "execute_result"
    }
   ],
   "source": [
    "accuracy_score(y_test,y_pred)"
   ]
  },
  {
   "cell_type": "code",
   "execution_count": 34,
   "metadata": {},
   "outputs": [
    {
     "name": "stdout",
     "output_type": "stream",
     "text": [
      "              precision    recall  f1-score   support\n",
      "\n",
      "           0       0.91      0.94      0.92      8803\n",
      "           1       0.75      0.66      0.70      2465\n",
      "\n",
      "    accuracy                           0.88     11268\n",
      "   macro avg       0.83      0.80      0.81     11268\n",
      "weighted avg       0.87      0.88      0.87     11268\n",
      "\n"
     ]
    }
   ],
   "source": [
    "print(classification_report(y_test,y_pred))"
   ]
  },
  {
   "cell_type": "markdown",
   "metadata": {},
   "source": [
    "# Preparing Data for CNN"
   ]
  },
  {
   "cell_type": "code",
   "execution_count": 113,
   "metadata": {},
   "outputs": [
    {
     "data": {
      "text/plain": [
       "(56337, 64, 1, 3)"
      ]
     },
     "execution_count": 113,
     "metadata": {},
     "output_type": "execute_result"
    }
   ],
   "source": [
    "# preparing data for cnn\n",
    "data = []\n",
    "for i in range(len(framed_df)):\n",
    "    data.append(framed_df[\"mfccs\"][i].reshape(64,1,3))\n",
    "X = np.array(data)\n",
    "X.shape"
   ]
  },
  {
   "cell_type": "code",
   "execution_count": 98,
   "metadata": {},
   "outputs": [],
   "source": [
    "from tensorflow.keras.models import Sequential\n",
    "from tensorflow.keras.layers import Conv2D, MaxPooling2D, Flatten, Dense, Dropout\n",
    "from tensorflow.keras.utils import to_categorical\n",
    "from imblearn.over_sampling import SMOTE"
   ]
  },
  {
   "cell_type": "code",
   "execution_count": 94,
   "metadata": {},
   "outputs": [
    {
     "data": {
      "text/plain": [
       "(64, 3)"
      ]
     },
     "execution_count": 94,
     "metadata": {},
     "output_type": "execute_result"
    }
   ],
   "source": [
    "X[0].shape"
   ]
  },
  {
   "cell_type": "code",
   "execution_count": 117,
   "metadata": {},
   "outputs": [
    {
     "name": "stdout",
     "output_type": "stream",
     "text": [
      "Model: \"sequential_21\"\n",
      "_________________________________________________________________\n",
      " Layer (type)                Output Shape              Param #   \n",
      "=================================================================\n",
      " conv2d_28 (Conv2D)          (None, 64, 1, 64)         832       \n",
      "                                                                 \n",
      " flatten_21 (Flatten)        (None, 4096)              0         \n",
      "                                                                 \n",
      " dense_48 (Dense)            (None, 128)               524416    \n",
      "                                                                 \n",
      " dense_49 (Dense)            (None, 1)                 129       \n",
      "                                                                 \n",
      "=================================================================\n",
      "Total params: 525,377\n",
      "Trainable params: 525,377\n",
      "Non-trainable params: 0\n",
      "_________________________________________________________________\n"
     ]
    }
   ],
   "source": [
    "def create_cnn_model(input_shape):\n",
    "    model = Sequential([\n",
    "        Conv2D(64, kernel_size=(2, 2), activation='relu', input_shape=input_shape,padding=\"same\"),\n",
    "        # Conv2D(128, kernel_size=(2, 2), activation='relu', input_shape=input_shape,padding=\"same\"),\n",
    "        # MaxPooling2D(pool_size=(2,2)),\n",
    "        Flatten(),\n",
    "        Dense(128, activation='relu'),\n",
    "        # Dense(8, activation='relu'),\n",
    "        Dense(1, activation='sigmoid')\n",
    "    ])\n",
    "    model.compile(optimizer='adam', loss='binary_crossentropy', metrics=['accuracy'])\n",
    "    return model\n",
    "\n",
    "model = create_cnn_model(input_shape=X[0].shape)\n",
    "model.summary()"
   ]
  },
  {
   "cell_type": "code",
   "execution_count": 102,
   "metadata": {},
   "outputs": [],
   "source": [
    "num_samples, height, width = X.shape\n",
    "X_reshaped = X.reshape((num_samples, height * width))"
   ]
  },
  {
   "cell_type": "code",
   "execution_count": 118,
   "metadata": {},
   "outputs": [],
   "source": [
    "from sklearn.model_selection import train_test_split\n",
    "\n",
    "X_train,X_test,y_train,y_test = train_test_split(X,y,test_size=0.2,random_state=42)"
   ]
  },
  {
   "cell_type": "code",
   "execution_count": 104,
   "metadata": {},
   "outputs": [
    {
     "data": {
      "text/plain": [
       "(45069, 192)"
      ]
     },
     "execution_count": 104,
     "metadata": {},
     "output_type": "execute_result"
    }
   ],
   "source": [
    "X_train.shape"
   ]
  },
  {
   "cell_type": "code",
   "execution_count": 105,
   "metadata": {},
   "outputs": [],
   "source": [
    "smote = SMOTE(random_state=42)\n",
    "X_train_resampled, y_train_resampled = smote.fit_resample(X_train, y_train)\n"
   ]
  },
  {
   "cell_type": "code",
   "execution_count": 106,
   "metadata": {},
   "outputs": [],
   "source": [
    "X_train_resampled_reshaped = X_train_resampled.reshape((-1, height, width))\n"
   ]
  },
  {
   "cell_type": "code",
   "execution_count": 108,
   "metadata": {},
   "outputs": [
    {
     "data": {
      "text/plain": [
       "(70892, 64, 3)"
      ]
     },
     "execution_count": 108,
     "metadata": {},
     "output_type": "execute_result"
    }
   ],
   "source": [
    "X_train_resampled_reshaped.shape"
   ]
  },
  {
   "cell_type": "code",
   "execution_count": 119,
   "metadata": {},
   "outputs": [
    {
     "name": "stdout",
     "output_type": "stream",
     "text": [
      "Epoch 1/4\n",
      "1409/1409 [==============================] - 22s 14ms/step - loss: 0.2808 - accuracy: 0.8789 - val_loss: 0.2535 - val_accuracy: 0.8949\n",
      "Epoch 2/4\n",
      "1409/1409 [==============================] - 20s 14ms/step - loss: 0.2423 - accuracy: 0.8979 - val_loss: 0.2454 - val_accuracy: 0.9008\n",
      "Epoch 3/4\n",
      "1409/1409 [==============================] - 20s 14ms/step - loss: 0.2294 - accuracy: 0.9041 - val_loss: 0.2447 - val_accuracy: 0.8986\n",
      "Epoch 4/4\n",
      "1409/1409 [==============================] - 20s 14ms/step - loss: 0.2159 - accuracy: 0.9102 - val_loss: 0.2403 - val_accuracy: 0.9015\n"
     ]
    }
   ],
   "source": [
    "history = model.fit(X_train, y_train, epochs=4, batch_size=32, validation_data=(X_test,y_test))\n"
   ]
  },
  {
   "cell_type": "code",
   "execution_count": 120,
   "metadata": {},
   "outputs": [],
   "source": [
    "from cough_segmentation.utils.sono_cross_val import CrossValSplit"
   ]
  },
  {
   "cell_type": "code",
   "execution_count": null,
   "metadata": {},
   "outputs": [],
   "source": [
    "cv = CrossValSplit(framed_df,)"
   ]
  }
 ],
 "metadata": {
  "kernelspec": {
   "display_name": ".venv",
   "language": "python",
   "name": "python3"
  },
  "language_info": {
   "codemirror_mode": {
    "name": "ipython",
    "version": 3
   },
   "file_extension": ".py",
   "mimetype": "text/x-python",
   "name": "python",
   "nbconvert_exporter": "python",
   "pygments_lexer": "ipython3",
   "version": "3.10.0"
  }
 },
 "nbformat": 4,
 "nbformat_minor": 2
}
