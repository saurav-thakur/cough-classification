{
 "cells": [
  {
   "cell_type": "markdown",
   "metadata": {},
   "source": [
    "# Importing Libraries"
   ]
  },
  {
   "cell_type": "code",
   "execution_count": 1,
   "metadata": {},
   "outputs": [],
   "source": [
    "import os\n",
    "import shutil\n",
    "\n",
    "import pandas as pd\n",
    "import numpy as np\n",
    "\n",
    "import matplotlib.pylab as plt\n",
    "import seaborn as sns\n",
    "\n",
    "import librosa\n",
    "import librosa.display\n",
    "from sklearn.metrics import accuracy_score,classification_report\n",
    "from cough_segmentation.utils.sono_cross_val import CrossValSplit\n",
    "\n",
    "# !sudo apt-get install p7zip-full"
   ]
  },
  {
   "cell_type": "markdown",
   "metadata": {},
   "source": [
    "# Loading Dataset"
   ]
  },
  {
   "cell_type": "code",
   "execution_count": 5,
   "metadata": {},
   "outputs": [],
   "source": [
    "# sample_rate, data = wavfile.read('../dataset/audio_files/0a03da19-eb19-4f51-9860-78ad95fa8cb5.wav')"
   ]
  },
  {
   "cell_type": "markdown",
   "metadata": {},
   "source": [
    "# Exploring Dataset"
   ]
  },
  {
   "cell_type": "code",
   "execution_count": 6,
   "metadata": {},
   "outputs": [],
   "source": [
    "# sample_rate"
   ]
  },
  {
   "cell_type": "code",
   "execution_count": 7,
   "metadata": {},
   "outputs": [],
   "source": [
    "# data"
   ]
  },
  {
   "cell_type": "code",
   "execution_count": 8,
   "metadata": {},
   "outputs": [],
   "source": [
    "# np.unique(data)"
   ]
  },
  {
   "cell_type": "code",
   "execution_count": 2,
   "metadata": {},
   "outputs": [],
   "source": [
    "def label_cough_frames(time_frames, amp, sf):\n",
    "  y = np.zeros(amp.shape[0])\n",
    "  #print('len', amp.shape[0])\n",
    "  for x in time_frames:\n",
    "    start = int(x[0]*sf)\n",
    "    end = int(x[1]*sf)\n",
    "    y[start:end+1] = 1\n",
    "    #print('start', f'{x[0]} sec ~ pos ', start, 'end', f'{x[1]} sec ~ pos ', end )\n",
    "  return y\n",
    "\n",
    "def get_audio_files_and_cough_timeframe_from_csv(df, audio_file_path, filename_index='uuid', start_end_time_prefix='IN_OUT_', max_start_end_count=16):\n",
    "  \"\"\"\n",
    "  Get file names based on spreadsheet (Dataset workflow.csv) and start end time of cough\n",
    "\n",
    "    Parameters\n",
    "      df (DataFrame): Contains of filenames and start end time values of cough sounds\n",
    "      filenames (list): List of filenames\n",
    "      filename_index (str): Column name of the df that holds values of file names\n",
    "      start_end_time_prefix (str): Optional prefix text in the column names for start and end time of cough sounds\n",
    "      max_start_end_count (int): Maximum number of column names for start and end time of cough sounds\n",
    "  \"\"\"\n",
    "  # get column names for start and end time\n",
    "  col_names = [f'{start_end_time_prefix}{x}' for x in range(1,17)]\n",
    "\n",
    "  extract_uuid = lambda file_path: os.path.splitext(os.path.basename(file_path))[0]\n",
    "\n",
    "  amplitude_and_sampling_freq = lambda file_path: librosa.load(file_path)\n",
    "  #amplitude_and_sampling_freq = lambda file_path: (np.zeros(1),0)\n",
    "\n",
    "  dic = {\"amp\":[], \"amp_original\":[], \"sf\":[], \"sf_original\":[], \"shape\":[], \"shape_original\":[], \"cough_start_end\":[], \"label\":[]}\n",
    "  files = []\n",
    "  for file_name in os.listdir(audio_file_path):\n",
    "    file_path = os.path.join(audio_file_path,file_name)\n",
    "    uuid = extract_uuid(file_path)\n",
    "\n",
    "    times = df[ df[filename_index] == uuid ][col_names].dropna(axis=1).values\n",
    "    frame = []\n",
    "    if len(times) > 0:\n",
    "      frame.extend([list(map(float, x.strip().split(','))) for x in times[0] if len(x.strip().split(',')) == 2])\n",
    "\n",
    "\n",
    "    files.append(uuid)\n",
    "    amp, sf = amplitude_and_sampling_freq(file_path)\n",
    "\n",
    "    #resample audio file to 16Khz based on Supervisor Request\n",
    "    sf_resampled = 16000\n",
    "    amp_resampled = librosa.resample(amp, orig_sr=sf, target_sr=sf_resampled)\n",
    "\n",
    "    dic[\"amp\"].append(amp_resampled)\n",
    "    dic[\"amp_original\"].append(amp)\n",
    "    dic[\"sf\"].append(sf_resampled)\n",
    "    dic[\"sf_original\"].append(sf)\n",
    "    dic[\"shape\"].append(amp_resampled.shape)\n",
    "    dic[\"shape_original\"].append(amp.shape)\n",
    "\n",
    "    if len(frame) > 0:\n",
    "      #print(uuid, times)\n",
    "      dic[\"cough_start_end\"].append(frame)\n",
    "      dic[\"label\"].append(label_cough_frames(frame, amp_resampled, sf_resampled))\n",
    "    else:\n",
    "      dic[\"cough_start_end\"].append(np.nan)\n",
    "      #30-May-24\n",
    "      dic[\"label\"].append(label_cough_frames(frame, amp_resampled, sf_resampled))\n",
    "\n",
    "\n",
    "  return pd.DataFrame(dic, index=files)\n",
    "\n",
    "def plot_amp_vs_label(title, visual_set, audio_df2, percent=0):\n",
    "  for i, v in visual_set.items():\n",
    "    if percent > 0:\n",
    "      argmax = np.argmax(audio_df2.loc[v][\"amp\"])\n",
    "      three_percent = len(audio_df2.loc[v][\"amp\"])*percent\n",
    "      start_zoom = int(argmax - three_percent)\n",
    "      end_zoom = int(argmax + three_percent)\n",
    "      print(f'Max value {np.max(audio_df2.loc[v][\"amp\"])} pos {argmax} {start_zoom},{end_zoom}')\n",
    "      pd.Series( audio_df2.loc[v][\"amp\"][start_zoom:end_zoom]).plot(figsize=(16, 4),lw=1, title=f'{i} {title} {v}')\n",
    "      pd.Series( audio_df2.loc[v][\"label\"][start_zoom:end_zoom]).plot(figsize=(16, 4),lw=2)\n",
    "    else:\n",
    "      pd.Series( audio_df2.loc[v][\"amp\"]).plot(figsize=(16, 4),lw=1, title=f'{i} {title} {v}')\n",
    "      pd.Series( audio_df2.loc[v][\"label\"]).plot(figsize=(16, 4),lw=2)\n",
    "\n",
    "    plt.show()"
   ]
  },
  {
   "cell_type": "code",
   "execution_count": 3,
   "metadata": {},
   "outputs": [
    {
     "data": {
      "text/html": [
       "<div>\n",
       "<style scoped>\n",
       "    .dataframe tbody tr th:only-of-type {\n",
       "        vertical-align: middle;\n",
       "    }\n",
       "\n",
       "    .dataframe tbody tr th {\n",
       "        vertical-align: top;\n",
       "    }\n",
       "\n",
       "    .dataframe thead th {\n",
       "        text-align: right;\n",
       "    }\n",
       "</style>\n",
       "<table border=\"1\" class=\"dataframe\">\n",
       "  <thead>\n",
       "    <tr style=\"text-align: right;\">\n",
       "      <th></th>\n",
       "      <th>amp</th>\n",
       "      <th>amp_original</th>\n",
       "      <th>sf</th>\n",
       "      <th>sf_original</th>\n",
       "      <th>shape</th>\n",
       "      <th>shape_original</th>\n",
       "      <th>cough_start_end</th>\n",
       "      <th>label</th>\n",
       "    </tr>\n",
       "  </thead>\n",
       "  <tbody>\n",
       "    <tr>\n",
       "      <th>0f8d80f9-700e-4069-924d-e15f29d7c19a</th>\n",
       "      <td>[0.0, 0.0, 0.0, 0.0, 0.0, 0.0, 0.0, 0.0, 0.0, ...</td>\n",
       "      <td>[0.0, 0.0, 0.0, 0.0, 0.0, 0.0, 0.0, 0.0, 0.0, ...</td>\n",
       "      <td>16000</td>\n",
       "      <td>22050</td>\n",
       "      <td>(63360,)</td>\n",
       "      <td>(87318,)</td>\n",
       "      <td>[[0.676663, 1.172248], [1.964468, 2.321861], [...</td>\n",
       "      <td>[0.0, 0.0, 0.0, 0.0, 0.0, 0.0, 0.0, 0.0, 0.0, ...</td>\n",
       "    </tr>\n",
       "    <tr>\n",
       "      <th>3278e364-afdd-4c39-9126-b8b4a4caf1c5</th>\n",
       "      <td>[1.0490051e-18, 2.7095826e-19, -7.016333e-19, ...</td>\n",
       "      <td>[0.0, 0.0, 0.0, 0.0, 0.0, 0.0, 0.0, 0.0, 0.0, ...</td>\n",
       "      <td>16000</td>\n",
       "      <td>22050</td>\n",
       "      <td>(156480,)</td>\n",
       "      <td>(215649,)</td>\n",
       "      <td>[[4.05953, 4.841149], [4.935187, 5.410265], [5...</td>\n",
       "      <td>[0.0, 0.0, 0.0, 0.0, 0.0, 0.0, 0.0, 0.0, 0.0, ...</td>\n",
       "    </tr>\n",
       "    <tr>\n",
       "      <th>6462d540-48bc-410b-b08e-cdf0b45ee118</th>\n",
       "      <td>[2.0940916e-11, -2.2022635e-12, 1.4001382e-10,...</td>\n",
       "      <td>[-4.4392138e-12, -4.821251e-11, 2.6800558e-11,...</td>\n",
       "      <td>16000</td>\n",
       "      <td>22050</td>\n",
       "      <td>(156480,)</td>\n",
       "      <td>(215649,)</td>\n",
       "      <td>[[0.776306, 1.76543], [2.094332, 2.619125]]</td>\n",
       "      <td>[0.0, 0.0, 0.0, 0.0, 0.0, 0.0, 0.0, 0.0, 0.0, ...</td>\n",
       "    </tr>\n",
       "    <tr>\n",
       "      <th>7876c549-066a-4ea1-a82e-45772114f964</th>\n",
       "      <td>[0.0, 0.0, 0.0, 0.0, 0.0, 0.0, 0.0, 0.0, 0.0, ...</td>\n",
       "      <td>[0.0, 0.0, 0.0, 0.0, 0.0, 0.0, 0.0, 0.0, 0.0, ...</td>\n",
       "      <td>16000</td>\n",
       "      <td>22050</td>\n",
       "      <td>(92160,)</td>\n",
       "      <td>(127008,)</td>\n",
       "      <td>[[1.014883, 1.671931], [1.671931, 2.227612]]</td>\n",
       "      <td>[0.0, 0.0, 0.0, 0.0, 0.0, 0.0, 0.0, 0.0, 0.0, ...</td>\n",
       "    </tr>\n",
       "    <tr>\n",
       "      <th>ccdb32af-58f4-4718-9f6e-eec7e0020382</th>\n",
       "      <td>[1.4889504e-13, -3.1595468e-12, 8.560125e-12, ...</td>\n",
       "      <td>[-2.8291443e-14, -1.2351532e-11, 3.1303011e-12...</td>\n",
       "      <td>16000</td>\n",
       "      <td>22050</td>\n",
       "      <td>(156480,)</td>\n",
       "      <td>(215649,)</td>\n",
       "      <td>[[1.931091, 2.374866], [2.374866, 2.817433]]</td>\n",
       "      <td>[0.0, 0.0, 0.0, 0.0, 0.0, 0.0, 0.0, 0.0, 0.0, ...</td>\n",
       "    </tr>\n",
       "    <tr>\n",
       "      <th>...</th>\n",
       "      <td>...</td>\n",
       "      <td>...</td>\n",
       "      <td>...</td>\n",
       "      <td>...</td>\n",
       "      <td>...</td>\n",
       "      <td>...</td>\n",
       "      <td>...</td>\n",
       "      <td>...</td>\n",
       "    </tr>\n",
       "    <tr>\n",
       "      <th>c98b76a0-089e-4552-8649-2804e2d95403</th>\n",
       "      <td>[-1.583348e-11, 1.2545295e-11, 1.750478e-11, -...</td>\n",
       "      <td>[-5.5933556e-12, 7.474474e-12, -1.630101e-11, ...</td>\n",
       "      <td>16000</td>\n",
       "      <td>22050</td>\n",
       "      <td>(157440,)</td>\n",
       "      <td>(216972,)</td>\n",
       "      <td>NaN</td>\n",
       "      <td>[0.0, 0.0, 0.0, 0.0, 0.0, 0.0, 0.0, 0.0, 0.0, ...</td>\n",
       "    </tr>\n",
       "    <tr>\n",
       "      <th>ce5ae235-fa9f-4ded-ba7b-623b78cf76a3</th>\n",
       "      <td>[2.8344516e-10, 6.834763e-10, 3.7078565e-10, 3...</td>\n",
       "      <td>[1.1145103e-10, 1.7554866e-10, 5.9984917e-10, ...</td>\n",
       "      <td>16000</td>\n",
       "      <td>22050</td>\n",
       "      <td>(21120,)</td>\n",
       "      <td>(29106,)</td>\n",
       "      <td>NaN</td>\n",
       "      <td>[0.0, 0.0, 0.0, 0.0, 0.0, 0.0, 0.0, 0.0, 0.0, ...</td>\n",
       "    </tr>\n",
       "    <tr>\n",
       "      <th>d43e0849-42db-4442-94bf-ace2056fcffc</th>\n",
       "      <td>[0.0, 0.0, 0.0, 0.0, 0.0, 0.0, 0.0, 0.0, 0.0, ...</td>\n",
       "      <td>[0.0, 0.0, 0.0, 0.0, 0.0, 0.0, 0.0, 0.0, 0.0, ...</td>\n",
       "      <td>16000</td>\n",
       "      <td>22050</td>\n",
       "      <td>(157440,)</td>\n",
       "      <td>(216972,)</td>\n",
       "      <td>NaN</td>\n",
       "      <td>[0.0, 0.0, 0.0, 0.0, 0.0, 0.0, 0.0, 0.0, 0.0, ...</td>\n",
       "    </tr>\n",
       "    <tr>\n",
       "      <th>01424527-9c3b-4b6e-96f1-9eea3150819b</th>\n",
       "      <td>[-2.4598084e-12, 3.4625614e-12, -2.1481796e-12...</td>\n",
       "      <td>[8.637051e-13, -2.1826378e-12, 1.930946e-12, -...</td>\n",
       "      <td>16000</td>\n",
       "      <td>22050</td>\n",
       "      <td>(157440,)</td>\n",
       "      <td>(216972,)</td>\n",
       "      <td>NaN</td>\n",
       "      <td>[0.0, 0.0, 0.0, 0.0, 0.0, 0.0, 0.0, 0.0, 0.0, ...</td>\n",
       "    </tr>\n",
       "    <tr>\n",
       "      <th>0e989f65-989f-4b9a-beb7-f56e2e8ac468</th>\n",
       "      <td>[4.1877965e-10, 1.2271589e-10, 1.4040918e-10, ...</td>\n",
       "      <td>[-1.476554e-10, -1.2128203e-10, -1.781073e-10,...</td>\n",
       "      <td>16000</td>\n",
       "      <td>22050</td>\n",
       "      <td>(157440,)</td>\n",
       "      <td>(216972,)</td>\n",
       "      <td>NaN</td>\n",
       "      <td>[0.0, 0.0, 0.0, 0.0, 0.0, 0.0, 0.0, 0.0, 0.0, ...</td>\n",
       "    </tr>\n",
       "  </tbody>\n",
       "</table>\n",
       "<p>300 rows × 8 columns</p>\n",
       "</div>"
      ],
      "text/plain": [
       "                                                                                    amp  \\\n",
       "0f8d80f9-700e-4069-924d-e15f29d7c19a  [0.0, 0.0, 0.0, 0.0, 0.0, 0.0, 0.0, 0.0, 0.0, ...   \n",
       "3278e364-afdd-4c39-9126-b8b4a4caf1c5  [1.0490051e-18, 2.7095826e-19, -7.016333e-19, ...   \n",
       "6462d540-48bc-410b-b08e-cdf0b45ee118  [2.0940916e-11, -2.2022635e-12, 1.4001382e-10,...   \n",
       "7876c549-066a-4ea1-a82e-45772114f964  [0.0, 0.0, 0.0, 0.0, 0.0, 0.0, 0.0, 0.0, 0.0, ...   \n",
       "ccdb32af-58f4-4718-9f6e-eec7e0020382  [1.4889504e-13, -3.1595468e-12, 8.560125e-12, ...   \n",
       "...                                                                                 ...   \n",
       "c98b76a0-089e-4552-8649-2804e2d95403  [-1.583348e-11, 1.2545295e-11, 1.750478e-11, -...   \n",
       "ce5ae235-fa9f-4ded-ba7b-623b78cf76a3  [2.8344516e-10, 6.834763e-10, 3.7078565e-10, 3...   \n",
       "d43e0849-42db-4442-94bf-ace2056fcffc  [0.0, 0.0, 0.0, 0.0, 0.0, 0.0, 0.0, 0.0, 0.0, ...   \n",
       "01424527-9c3b-4b6e-96f1-9eea3150819b  [-2.4598084e-12, 3.4625614e-12, -2.1481796e-12...   \n",
       "0e989f65-989f-4b9a-beb7-f56e2e8ac468  [4.1877965e-10, 1.2271589e-10, 1.4040918e-10, ...   \n",
       "\n",
       "                                                                           amp_original  \\\n",
       "0f8d80f9-700e-4069-924d-e15f29d7c19a  [0.0, 0.0, 0.0, 0.0, 0.0, 0.0, 0.0, 0.0, 0.0, ...   \n",
       "3278e364-afdd-4c39-9126-b8b4a4caf1c5  [0.0, 0.0, 0.0, 0.0, 0.0, 0.0, 0.0, 0.0, 0.0, ...   \n",
       "6462d540-48bc-410b-b08e-cdf0b45ee118  [-4.4392138e-12, -4.821251e-11, 2.6800558e-11,...   \n",
       "7876c549-066a-4ea1-a82e-45772114f964  [0.0, 0.0, 0.0, 0.0, 0.0, 0.0, 0.0, 0.0, 0.0, ...   \n",
       "ccdb32af-58f4-4718-9f6e-eec7e0020382  [-2.8291443e-14, -1.2351532e-11, 3.1303011e-12...   \n",
       "...                                                                                 ...   \n",
       "c98b76a0-089e-4552-8649-2804e2d95403  [-5.5933556e-12, 7.474474e-12, -1.630101e-11, ...   \n",
       "ce5ae235-fa9f-4ded-ba7b-623b78cf76a3  [1.1145103e-10, 1.7554866e-10, 5.9984917e-10, ...   \n",
       "d43e0849-42db-4442-94bf-ace2056fcffc  [0.0, 0.0, 0.0, 0.0, 0.0, 0.0, 0.0, 0.0, 0.0, ...   \n",
       "01424527-9c3b-4b6e-96f1-9eea3150819b  [8.637051e-13, -2.1826378e-12, 1.930946e-12, -...   \n",
       "0e989f65-989f-4b9a-beb7-f56e2e8ac468  [-1.476554e-10, -1.2128203e-10, -1.781073e-10,...   \n",
       "\n",
       "                                         sf  sf_original      shape  \\\n",
       "0f8d80f9-700e-4069-924d-e15f29d7c19a  16000        22050   (63360,)   \n",
       "3278e364-afdd-4c39-9126-b8b4a4caf1c5  16000        22050  (156480,)   \n",
       "6462d540-48bc-410b-b08e-cdf0b45ee118  16000        22050  (156480,)   \n",
       "7876c549-066a-4ea1-a82e-45772114f964  16000        22050   (92160,)   \n",
       "ccdb32af-58f4-4718-9f6e-eec7e0020382  16000        22050  (156480,)   \n",
       "...                                     ...          ...        ...   \n",
       "c98b76a0-089e-4552-8649-2804e2d95403  16000        22050  (157440,)   \n",
       "ce5ae235-fa9f-4ded-ba7b-623b78cf76a3  16000        22050   (21120,)   \n",
       "d43e0849-42db-4442-94bf-ace2056fcffc  16000        22050  (157440,)   \n",
       "01424527-9c3b-4b6e-96f1-9eea3150819b  16000        22050  (157440,)   \n",
       "0e989f65-989f-4b9a-beb7-f56e2e8ac468  16000        22050  (157440,)   \n",
       "\n",
       "                                     shape_original  \\\n",
       "0f8d80f9-700e-4069-924d-e15f29d7c19a       (87318,)   \n",
       "3278e364-afdd-4c39-9126-b8b4a4caf1c5      (215649,)   \n",
       "6462d540-48bc-410b-b08e-cdf0b45ee118      (215649,)   \n",
       "7876c549-066a-4ea1-a82e-45772114f964      (127008,)   \n",
       "ccdb32af-58f4-4718-9f6e-eec7e0020382      (215649,)   \n",
       "...                                             ...   \n",
       "c98b76a0-089e-4552-8649-2804e2d95403      (216972,)   \n",
       "ce5ae235-fa9f-4ded-ba7b-623b78cf76a3       (29106,)   \n",
       "d43e0849-42db-4442-94bf-ace2056fcffc      (216972,)   \n",
       "01424527-9c3b-4b6e-96f1-9eea3150819b      (216972,)   \n",
       "0e989f65-989f-4b9a-beb7-f56e2e8ac468      (216972,)   \n",
       "\n",
       "                                                                        cough_start_end  \\\n",
       "0f8d80f9-700e-4069-924d-e15f29d7c19a  [[0.676663, 1.172248], [1.964468, 2.321861], [...   \n",
       "3278e364-afdd-4c39-9126-b8b4a4caf1c5  [[4.05953, 4.841149], [4.935187, 5.410265], [5...   \n",
       "6462d540-48bc-410b-b08e-cdf0b45ee118        [[0.776306, 1.76543], [2.094332, 2.619125]]   \n",
       "7876c549-066a-4ea1-a82e-45772114f964       [[1.014883, 1.671931], [1.671931, 2.227612]]   \n",
       "ccdb32af-58f4-4718-9f6e-eec7e0020382       [[1.931091, 2.374866], [2.374866, 2.817433]]   \n",
       "...                                                                                 ...   \n",
       "c98b76a0-089e-4552-8649-2804e2d95403                                                NaN   \n",
       "ce5ae235-fa9f-4ded-ba7b-623b78cf76a3                                                NaN   \n",
       "d43e0849-42db-4442-94bf-ace2056fcffc                                                NaN   \n",
       "01424527-9c3b-4b6e-96f1-9eea3150819b                                                NaN   \n",
       "0e989f65-989f-4b9a-beb7-f56e2e8ac468                                                NaN   \n",
       "\n",
       "                                                                                  label  \n",
       "0f8d80f9-700e-4069-924d-e15f29d7c19a  [0.0, 0.0, 0.0, 0.0, 0.0, 0.0, 0.0, 0.0, 0.0, ...  \n",
       "3278e364-afdd-4c39-9126-b8b4a4caf1c5  [0.0, 0.0, 0.0, 0.0, 0.0, 0.0, 0.0, 0.0, 0.0, ...  \n",
       "6462d540-48bc-410b-b08e-cdf0b45ee118  [0.0, 0.0, 0.0, 0.0, 0.0, 0.0, 0.0, 0.0, 0.0, ...  \n",
       "7876c549-066a-4ea1-a82e-45772114f964  [0.0, 0.0, 0.0, 0.0, 0.0, 0.0, 0.0, 0.0, 0.0, ...  \n",
       "ccdb32af-58f4-4718-9f6e-eec7e0020382  [0.0, 0.0, 0.0, 0.0, 0.0, 0.0, 0.0, 0.0, 0.0, ...  \n",
       "...                                                                                 ...  \n",
       "c98b76a0-089e-4552-8649-2804e2d95403  [0.0, 0.0, 0.0, 0.0, 0.0, 0.0, 0.0, 0.0, 0.0, ...  \n",
       "ce5ae235-fa9f-4ded-ba7b-623b78cf76a3  [0.0, 0.0, 0.0, 0.0, 0.0, 0.0, 0.0, 0.0, 0.0, ...  \n",
       "d43e0849-42db-4442-94bf-ace2056fcffc  [0.0, 0.0, 0.0, 0.0, 0.0, 0.0, 0.0, 0.0, 0.0, ...  \n",
       "01424527-9c3b-4b6e-96f1-9eea3150819b  [0.0, 0.0, 0.0, 0.0, 0.0, 0.0, 0.0, 0.0, 0.0, ...  \n",
       "0e989f65-989f-4b9a-beb7-f56e2e8ac468  [0.0, 0.0, 0.0, 0.0, 0.0, 0.0, 0.0, 0.0, 0.0, ...  \n",
       "\n",
       "[300 rows x 8 columns]"
      ]
     },
     "execution_count": 3,
     "metadata": {},
     "output_type": "execute_result"
    }
   ],
   "source": [
    "\n",
    "df = pd.read_csv(\"../dataset/Dataset workflow.csv\")\n",
    "files = df[\"uuid\"][df[\"Training\"] == 1].values\n",
    "audio_file_path = \"../dataset/audio_files/AWS Audio Files\"\n",
    "audio_df = get_audio_files_and_cough_timeframe_from_csv(df, audio_file_path ,filename_index='uuid', start_end_time_prefix='IN_OUT_', max_start_end_count=16)\n",
    "audio_df = audio_df.loc[files]\n",
    "audio_df"
   ]
  },
  {
   "cell_type": "code",
   "execution_count": 4,
   "metadata": {},
   "outputs": [
    {
     "name": "stdout",
     "output_type": "stream",
     "text": [
      "<class 'pandas.core.frame.DataFrame'>\n",
      "Index: 300 entries, 0f8d80f9-700e-4069-924d-e15f29d7c19a to 0e989f65-989f-4b9a-beb7-f56e2e8ac468\n",
      "Data columns (total 8 columns):\n",
      " #   Column           Non-Null Count  Dtype \n",
      "---  ------           --------------  ----- \n",
      " 0   amp              300 non-null    object\n",
      " 1   amp_original     300 non-null    object\n",
      " 2   sf               300 non-null    int64 \n",
      " 3   sf_original      300 non-null    int64 \n",
      " 4   shape            300 non-null    object\n",
      " 5   shape_original   300 non-null    object\n",
      " 6   cough_start_end  150 non-null    object\n",
      " 7   label            300 non-null    object\n",
      "dtypes: int64(2), object(6)\n",
      "memory usage: 21.1+ KB\n"
     ]
    }
   ],
   "source": [
    "audio_df.info()"
   ]
  },
  {
   "cell_type": "code",
   "execution_count": 5,
   "metadata": {},
   "outputs": [],
   "source": [
    "# audio_df2 = audio_df.dropna()\n",
    "# audio_df2.info()"
   ]
  },
  {
   "cell_type": "code",
   "execution_count": 6,
   "metadata": {},
   "outputs": [
    {
     "name": "stdout",
     "output_type": "stream",
     "text": [
      "Frame size 256, hop_length 128, count 333215\n",
      "Frame size 512, hop_length 256, count 166399\n",
      "Frame size 1024, hop_length 512, count 82957\n"
     ]
    },
    {
     "data": {
      "text/html": [
       "<div>\n",
       "<style scoped>\n",
       "    .dataframe tbody tr th:only-of-type {\n",
       "        vertical-align: middle;\n",
       "    }\n",
       "\n",
       "    .dataframe tbody tr th {\n",
       "        vertical-align: top;\n",
       "    }\n",
       "\n",
       "    .dataframe thead th {\n",
       "        text-align: right;\n",
       "    }\n",
       "</style>\n",
       "<table border=\"1\" class=\"dataframe\">\n",
       "  <thead>\n",
       "    <tr style=\"text-align: right;\">\n",
       "      <th></th>\n",
       "      <th>key</th>\n",
       "      <th>sf</th>\n",
       "      <th>start</th>\n",
       "      <th>end</th>\n",
       "      <th>max_amp</th>\n",
       "      <th>frame_index</th>\n",
       "      <th>amp</th>\n",
       "      <th>label</th>\n",
       "    </tr>\n",
       "  </thead>\n",
       "  <tbody>\n",
       "    <tr>\n",
       "      <th>0</th>\n",
       "      <td>0f8d80f9-700e-4069-924d-e15f29d7c19a</td>\n",
       "      <td>16000</td>\n",
       "      <td>0</td>\n",
       "      <td>1024</td>\n",
       "      <td>0.000000e+00</td>\n",
       "      <td>0</td>\n",
       "      <td>[0.0, 0.0, 0.0, 0.0, 0.0, 0.0, 0.0, 0.0, 0.0, ...</td>\n",
       "      <td>0</td>\n",
       "    </tr>\n",
       "    <tr>\n",
       "      <th>1</th>\n",
       "      <td>0f8d80f9-700e-4069-924d-e15f29d7c19a</td>\n",
       "      <td>16000</td>\n",
       "      <td>512</td>\n",
       "      <td>1536</td>\n",
       "      <td>0.000000e+00</td>\n",
       "      <td>1</td>\n",
       "      <td>[0.0, 0.0, 0.0, 0.0, 0.0, 0.0, 0.0, 0.0, 0.0, ...</td>\n",
       "      <td>0</td>\n",
       "    </tr>\n",
       "    <tr>\n",
       "      <th>2</th>\n",
       "      <td>0f8d80f9-700e-4069-924d-e15f29d7c19a</td>\n",
       "      <td>16000</td>\n",
       "      <td>1024</td>\n",
       "      <td>2048</td>\n",
       "      <td>0.000000e+00</td>\n",
       "      <td>2</td>\n",
       "      <td>[0.0, 0.0, 0.0, 0.0, 0.0, 0.0, 0.0, 0.0, 0.0, ...</td>\n",
       "      <td>0</td>\n",
       "    </tr>\n",
       "    <tr>\n",
       "      <th>3</th>\n",
       "      <td>0f8d80f9-700e-4069-924d-e15f29d7c19a</td>\n",
       "      <td>16000</td>\n",
       "      <td>1536</td>\n",
       "      <td>2560</td>\n",
       "      <td>1.606821e-18</td>\n",
       "      <td>3</td>\n",
       "      <td>[0.0, 0.0, 0.0, 0.0, 0.0, 0.0, 0.0, 0.0, 0.0, ...</td>\n",
       "      <td>0</td>\n",
       "    </tr>\n",
       "    <tr>\n",
       "      <th>4</th>\n",
       "      <td>0f8d80f9-700e-4069-924d-e15f29d7c19a</td>\n",
       "      <td>16000</td>\n",
       "      <td>2048</td>\n",
       "      <td>3072</td>\n",
       "      <td>1.252836e-05</td>\n",
       "      <td>4</td>\n",
       "      <td>[0.0, 0.0, 0.0, 0.0, 0.0, 0.0, 0.0, 0.0, 0.0, ...</td>\n",
       "      <td>0</td>\n",
       "    </tr>\n",
       "    <tr>\n",
       "      <th>...</th>\n",
       "      <td>...</td>\n",
       "      <td>...</td>\n",
       "      <td>...</td>\n",
       "      <td>...</td>\n",
       "      <td>...</td>\n",
       "      <td>...</td>\n",
       "      <td>...</td>\n",
       "      <td>...</td>\n",
       "    </tr>\n",
       "    <tr>\n",
       "      <th>82952</th>\n",
       "      <td>0e989f65-989f-4b9a-beb7-f56e2e8ac468</td>\n",
       "      <td>16000</td>\n",
       "      <td>154112</td>\n",
       "      <td>155136</td>\n",
       "      <td>1.326591e-04</td>\n",
       "      <td>301</td>\n",
       "      <td>[-2.9675384e-06, -4.063487e-05, -3.302071e-05,...</td>\n",
       "      <td>0</td>\n",
       "    </tr>\n",
       "    <tr>\n",
       "      <th>82953</th>\n",
       "      <td>0e989f65-989f-4b9a-beb7-f56e2e8ac468</td>\n",
       "      <td>16000</td>\n",
       "      <td>154624</td>\n",
       "      <td>155648</td>\n",
       "      <td>9.876763e-05</td>\n",
       "      <td>302</td>\n",
       "      <td>[-3.2297816e-05, 2.7146225e-06, -2.2797496e-05...</td>\n",
       "      <td>0</td>\n",
       "    </tr>\n",
       "    <tr>\n",
       "      <th>82954</th>\n",
       "      <td>0e989f65-989f-4b9a-beb7-f56e2e8ac468</td>\n",
       "      <td>16000</td>\n",
       "      <td>155136</td>\n",
       "      <td>156160</td>\n",
       "      <td>1.095975e-04</td>\n",
       "      <td>303</td>\n",
       "      <td>[-2.1411723e-05, -3.5203106e-05, 4.4704484e-07...</td>\n",
       "      <td>0</td>\n",
       "    </tr>\n",
       "    <tr>\n",
       "      <th>82955</th>\n",
       "      <td>0e989f65-989f-4b9a-beb7-f56e2e8ac468</td>\n",
       "      <td>16000</td>\n",
       "      <td>155648</td>\n",
       "      <td>156672</td>\n",
       "      <td>1.095975e-04</td>\n",
       "      <td>304</td>\n",
       "      <td>[-2.8520342e-05, -1.2514673e-05, 7.0754875e-05...</td>\n",
       "      <td>0</td>\n",
       "    </tr>\n",
       "    <tr>\n",
       "      <th>82956</th>\n",
       "      <td>0e989f65-989f-4b9a-beb7-f56e2e8ac468</td>\n",
       "      <td>16000</td>\n",
       "      <td>156160</td>\n",
       "      <td>157184</td>\n",
       "      <td>9.861618e-05</td>\n",
       "      <td>305</td>\n",
       "      <td>[-6.457863e-06, -7.454909e-05, -7.332708e-05, ...</td>\n",
       "      <td>0</td>\n",
       "    </tr>\n",
       "  </tbody>\n",
       "</table>\n",
       "<p>82957 rows × 8 columns</p>\n",
       "</div>"
      ],
      "text/plain": [
       "                                        key     sf   start     end  \\\n",
       "0      0f8d80f9-700e-4069-924d-e15f29d7c19a  16000       0    1024   \n",
       "1      0f8d80f9-700e-4069-924d-e15f29d7c19a  16000     512    1536   \n",
       "2      0f8d80f9-700e-4069-924d-e15f29d7c19a  16000    1024    2048   \n",
       "3      0f8d80f9-700e-4069-924d-e15f29d7c19a  16000    1536    2560   \n",
       "4      0f8d80f9-700e-4069-924d-e15f29d7c19a  16000    2048    3072   \n",
       "...                                     ...    ...     ...     ...   \n",
       "82952  0e989f65-989f-4b9a-beb7-f56e2e8ac468  16000  154112  155136   \n",
       "82953  0e989f65-989f-4b9a-beb7-f56e2e8ac468  16000  154624  155648   \n",
       "82954  0e989f65-989f-4b9a-beb7-f56e2e8ac468  16000  155136  156160   \n",
       "82955  0e989f65-989f-4b9a-beb7-f56e2e8ac468  16000  155648  156672   \n",
       "82956  0e989f65-989f-4b9a-beb7-f56e2e8ac468  16000  156160  157184   \n",
       "\n",
       "            max_amp  frame_index  \\\n",
       "0      0.000000e+00            0   \n",
       "1      0.000000e+00            1   \n",
       "2      0.000000e+00            2   \n",
       "3      1.606821e-18            3   \n",
       "4      1.252836e-05            4   \n",
       "...             ...          ...   \n",
       "82952  1.326591e-04          301   \n",
       "82953  9.876763e-05          302   \n",
       "82954  1.095975e-04          303   \n",
       "82955  1.095975e-04          304   \n",
       "82956  9.861618e-05          305   \n",
       "\n",
       "                                                     amp  label  \n",
       "0      [0.0, 0.0, 0.0, 0.0, 0.0, 0.0, 0.0, 0.0, 0.0, ...      0  \n",
       "1      [0.0, 0.0, 0.0, 0.0, 0.0, 0.0, 0.0, 0.0, 0.0, ...      0  \n",
       "2      [0.0, 0.0, 0.0, 0.0, 0.0, 0.0, 0.0, 0.0, 0.0, ...      0  \n",
       "3      [0.0, 0.0, 0.0, 0.0, 0.0, 0.0, 0.0, 0.0, 0.0, ...      0  \n",
       "4      [0.0, 0.0, 0.0, 0.0, 0.0, 0.0, 0.0, 0.0, 0.0, ...      0  \n",
       "...                                                  ...    ...  \n",
       "82952  [-2.9675384e-06, -4.063487e-05, -3.302071e-05,...      0  \n",
       "82953  [-3.2297816e-05, 2.7146225e-06, -2.2797496e-05...      0  \n",
       "82954  [-2.1411723e-05, -3.5203106e-05, 4.4704484e-07...      0  \n",
       "82955  [-2.8520342e-05, -1.2514673e-05, 7.0754875e-05...      0  \n",
       "82956  [-6.457863e-06, -7.454909e-05, -7.332708e-05, ...      0  \n",
       "\n",
       "[82957 rows x 8 columns]"
      ]
     },
     "execution_count": 6,
     "metadata": {},
     "output_type": "execute_result"
    }
   ],
   "source": [
    "def apply_framing(audio_df):\n",
    "  def create_overlapping_frames(key, amp, label, sf, frame_size, hop_length):\n",
    "    # Calculate the total number of frames\n",
    "    if len(amp) == len(label):\n",
    "      total_frames = 1 + int((len(amp) - frame_size) / hop_length)\n",
    "      dic = {\"key\":[], \"sf\":[], \"start\":[], \"end\":[], \"max_amp\":[], \"frame_index\":[], \"amp\":[], \"label\":[]}\n",
    "\n",
    "      # Create overlapping frames\n",
    "      for i in range(total_frames):\n",
    "        dic[\"key\"].append(key)\n",
    "        dic[\"sf\"].append(sf)\n",
    "        dic[\"start\"].append(i * hop_length)\n",
    "        dic[\"end\"].append(i * hop_length + frame_size)\n",
    "        dic[\"max_amp\"].append(np.max(amp[i * hop_length: i * hop_length + frame_size]))\n",
    "        dic[\"frame_index\"].append(i)\n",
    "        dic[\"amp\"].append(amp[i * hop_length: i * hop_length + frame_size])\n",
    "        frames_label_raw = label[i * hop_length: i * hop_length + frame_size]\n",
    "\n",
    "        f_label = 0\n",
    "        if np.sum(frames_label_raw==1) > (len(frames_label_raw) / 2):\n",
    "          f_label = 1\n",
    "        dic[\"label\"].append(f_label)\n",
    "\n",
    "      return dic\n",
    "    else:\n",
    "      print('Error: non matching amp and labels', key, len(amp), len(label))\n",
    "\n",
    "  def create_and_label_frames(audio_df):\n",
    "    return create_overlapping_frames(audio_df.name, audio_df[\"amp\"], audio_df[\"label\"],audio_df[\"sf\"],frame_size, hop_length)\n",
    "\n",
    "  all_frames = {}\n",
    "  for frame_size in [256, 512, 1024]:\n",
    "    hop_length = frame_size // 2\n",
    "\n",
    "    frame_df = pd.DataFrame()\n",
    "    #xx = audio_df.head(1).apply(create_and_label_frames, axis=1)\n",
    "    xx = audio_df.apply(create_and_label_frames, axis=1)\n",
    "    for x in xx:\n",
    "      if len(frame_df) > 0:\n",
    "        frame_df = pd.concat([frame_df, pd.DataFrame(x)], ignore_index=True)\n",
    "      else:\n",
    "        frame_df = pd.DataFrame(x)\n",
    "\n",
    "    all_frames[frame_size] = frame_df\n",
    "    print(f'Frame size {frame_size}, hop_length {hop_length}, count {len(frame_df)}')\n",
    "  return all_frames\n",
    "\n",
    "\n",
    "all_frames = apply_framing(audio_df=audio_df)\n",
    "framed_df = all_frames[1024]\n",
    "framed_df"
   ]
  },
  {
   "cell_type": "code",
   "execution_count": 7,
   "metadata": {},
   "outputs": [
    {
     "data": {
      "text/html": [
       "<div>\n",
       "<style scoped>\n",
       "    .dataframe tbody tr th:only-of-type {\n",
       "        vertical-align: middle;\n",
       "    }\n",
       "\n",
       "    .dataframe tbody tr th {\n",
       "        vertical-align: top;\n",
       "    }\n",
       "\n",
       "    .dataframe thead th {\n",
       "        text-align: right;\n",
       "    }\n",
       "</style>\n",
       "<table border=\"1\" class=\"dataframe\">\n",
       "  <thead>\n",
       "    <tr style=\"text-align: right;\">\n",
       "      <th></th>\n",
       "      <th>mfcc</th>\n",
       "      <th>mfcc_shape</th>\n",
       "      <th>key</th>\n",
       "      <th>sf</th>\n",
       "      <th>start</th>\n",
       "      <th>end</th>\n",
       "      <th>max_amp</th>\n",
       "      <th>frame_index</th>\n",
       "      <th>amp</th>\n",
       "      <th>label</th>\n",
       "    </tr>\n",
       "  </thead>\n",
       "  <tbody>\n",
       "    <tr>\n",
       "      <th>0</th>\n",
       "      <td>[[-1131.3708, -1131.3708, -1131.3708, -1131.37...</td>\n",
       "      <td>(64, 16)</td>\n",
       "      <td>0f8d80f9-700e-4069-924d-e15f29d7c19a</td>\n",
       "      <td>16000</td>\n",
       "      <td>0</td>\n",
       "      <td>1024</td>\n",
       "      <td>0.000000e+00</td>\n",
       "      <td>0</td>\n",
       "      <td>[0.0, 0.0, 0.0, 0.0, 0.0, 0.0, 0.0, 0.0, 0.0, ...</td>\n",
       "      <td>0</td>\n",
       "    </tr>\n",
       "    <tr>\n",
       "      <th>1</th>\n",
       "      <td>[[-1131.3708, -1131.3708, -1131.3708, -1131.37...</td>\n",
       "      <td>(64, 16)</td>\n",
       "      <td>0f8d80f9-700e-4069-924d-e15f29d7c19a</td>\n",
       "      <td>16000</td>\n",
       "      <td>512</td>\n",
       "      <td>1536</td>\n",
       "      <td>0.000000e+00</td>\n",
       "      <td>1</td>\n",
       "      <td>[0.0, 0.0, 0.0, 0.0, 0.0, 0.0, 0.0, 0.0, 0.0, ...</td>\n",
       "      <td>0</td>\n",
       "    </tr>\n",
       "    <tr>\n",
       "      <th>2</th>\n",
       "      <td>[[-1131.3708, -1131.3708, -1131.3708, -1131.37...</td>\n",
       "      <td>(64, 16)</td>\n",
       "      <td>0f8d80f9-700e-4069-924d-e15f29d7c19a</td>\n",
       "      <td>16000</td>\n",
       "      <td>1024</td>\n",
       "      <td>2048</td>\n",
       "      <td>0.000000e+00</td>\n",
       "      <td>2</td>\n",
       "      <td>[0.0, 0.0, 0.0, 0.0, 0.0, 0.0, 0.0, 0.0, 0.0, ...</td>\n",
       "      <td>0</td>\n",
       "    </tr>\n",
       "    <tr>\n",
       "      <th>3</th>\n",
       "      <td>[[-1131.3708, -1131.3708, -1131.3708, -1131.37...</td>\n",
       "      <td>(64, 16)</td>\n",
       "      <td>0f8d80f9-700e-4069-924d-e15f29d7c19a</td>\n",
       "      <td>16000</td>\n",
       "      <td>1536</td>\n",
       "      <td>2560</td>\n",
       "      <td>1.606821e-18</td>\n",
       "      <td>3</td>\n",
       "      <td>[0.0, 0.0, 0.0, 0.0, 0.0, 0.0, 0.0, 0.0, 0.0, ...</td>\n",
       "      <td>0</td>\n",
       "    </tr>\n",
       "    <tr>\n",
       "      <th>4</th>\n",
       "      <td>[[-1131.3708, -1131.3708, -1131.3708, -1131.37...</td>\n",
       "      <td>(64, 16)</td>\n",
       "      <td>0f8d80f9-700e-4069-924d-e15f29d7c19a</td>\n",
       "      <td>16000</td>\n",
       "      <td>2048</td>\n",
       "      <td>3072</td>\n",
       "      <td>1.252836e-05</td>\n",
       "      <td>4</td>\n",
       "      <td>[0.0, 0.0, 0.0, 0.0, 0.0, 0.0, 0.0, 0.0, 0.0, ...</td>\n",
       "      <td>0</td>\n",
       "    </tr>\n",
       "    <tr>\n",
       "      <th>...</th>\n",
       "      <td>...</td>\n",
       "      <td>...</td>\n",
       "      <td>...</td>\n",
       "      <td>...</td>\n",
       "      <td>...</td>\n",
       "      <td>...</td>\n",
       "      <td>...</td>\n",
       "      <td>...</td>\n",
       "      <td>...</td>\n",
       "      <td>...</td>\n",
       "    </tr>\n",
       "    <tr>\n",
       "      <th>82952</th>\n",
       "      <td>[[-853.1956, -836.8685, -826.01086, -819.73444...</td>\n",
       "      <td>(64, 16)</td>\n",
       "      <td>0e989f65-989f-4b9a-beb7-f56e2e8ac468</td>\n",
       "      <td>16000</td>\n",
       "      <td>154112</td>\n",
       "      <td>155136</td>\n",
       "      <td>1.326591e-04</td>\n",
       "      <td>301</td>\n",
       "      <td>[-2.9675384e-06, -4.063487e-05, -3.302071e-05,...</td>\n",
       "      <td>0</td>\n",
       "    </tr>\n",
       "    <tr>\n",
       "      <th>82953</th>\n",
       "      <td>[[-853.5937, -836.3044, -824.3947, -816.85254,...</td>\n",
       "      <td>(64, 16)</td>\n",
       "      <td>0e989f65-989f-4b9a-beb7-f56e2e8ac468</td>\n",
       "      <td>16000</td>\n",
       "      <td>154624</td>\n",
       "      <td>155648</td>\n",
       "      <td>9.876763e-05</td>\n",
       "      <td>302</td>\n",
       "      <td>[-3.2297816e-05, 2.7146225e-06, -2.2797496e-05...</td>\n",
       "      <td>0</td>\n",
       "    </tr>\n",
       "    <tr>\n",
       "      <th>82954</th>\n",
       "      <td>[[-851.40625, -835.4931, -825.09375, -819.2154...</td>\n",
       "      <td>(64, 16)</td>\n",
       "      <td>0e989f65-989f-4b9a-beb7-f56e2e8ac468</td>\n",
       "      <td>16000</td>\n",
       "      <td>155136</td>\n",
       "      <td>156160</td>\n",
       "      <td>1.095975e-04</td>\n",
       "      <td>303</td>\n",
       "      <td>[-2.1411723e-05, -3.5203106e-05, 4.4704484e-07...</td>\n",
       "      <td>0</td>\n",
       "    </tr>\n",
       "    <tr>\n",
       "      <th>82955</th>\n",
       "      <td>[[-845.3573, -831.26227, -822.6367, -818.4535,...</td>\n",
       "      <td>(64, 16)</td>\n",
       "      <td>0e989f65-989f-4b9a-beb7-f56e2e8ac468</td>\n",
       "      <td>16000</td>\n",
       "      <td>155648</td>\n",
       "      <td>156672</td>\n",
       "      <td>1.095975e-04</td>\n",
       "      <td>304</td>\n",
       "      <td>[-2.8520342e-05, -1.2514673e-05, 7.0754875e-05...</td>\n",
       "      <td>0</td>\n",
       "    </tr>\n",
       "    <tr>\n",
       "      <th>82956</th>\n",
       "      <td>[[-855.7969, -840.2261, -829.8444, -823.7043, ...</td>\n",
       "      <td>(64, 16)</td>\n",
       "      <td>0e989f65-989f-4b9a-beb7-f56e2e8ac468</td>\n",
       "      <td>16000</td>\n",
       "      <td>156160</td>\n",
       "      <td>157184</td>\n",
       "      <td>9.861618e-05</td>\n",
       "      <td>305</td>\n",
       "      <td>[-6.457863e-06, -7.454909e-05, -7.332708e-05, ...</td>\n",
       "      <td>0</td>\n",
       "    </tr>\n",
       "  </tbody>\n",
       "</table>\n",
       "<p>82957 rows × 10 columns</p>\n",
       "</div>"
      ],
      "text/plain": [
       "                                                    mfcc mfcc_shape  \\\n",
       "0      [[-1131.3708, -1131.3708, -1131.3708, -1131.37...   (64, 16)   \n",
       "1      [[-1131.3708, -1131.3708, -1131.3708, -1131.37...   (64, 16)   \n",
       "2      [[-1131.3708, -1131.3708, -1131.3708, -1131.37...   (64, 16)   \n",
       "3      [[-1131.3708, -1131.3708, -1131.3708, -1131.37...   (64, 16)   \n",
       "4      [[-1131.3708, -1131.3708, -1131.3708, -1131.37...   (64, 16)   \n",
       "...                                                  ...        ...   \n",
       "82952  [[-853.1956, -836.8685, -826.01086, -819.73444...   (64, 16)   \n",
       "82953  [[-853.5937, -836.3044, -824.3947, -816.85254,...   (64, 16)   \n",
       "82954  [[-851.40625, -835.4931, -825.09375, -819.2154...   (64, 16)   \n",
       "82955  [[-845.3573, -831.26227, -822.6367, -818.4535,...   (64, 16)   \n",
       "82956  [[-855.7969, -840.2261, -829.8444, -823.7043, ...   (64, 16)   \n",
       "\n",
       "                                        key     sf   start     end  \\\n",
       "0      0f8d80f9-700e-4069-924d-e15f29d7c19a  16000       0    1024   \n",
       "1      0f8d80f9-700e-4069-924d-e15f29d7c19a  16000     512    1536   \n",
       "2      0f8d80f9-700e-4069-924d-e15f29d7c19a  16000    1024    2048   \n",
       "3      0f8d80f9-700e-4069-924d-e15f29d7c19a  16000    1536    2560   \n",
       "4      0f8d80f9-700e-4069-924d-e15f29d7c19a  16000    2048    3072   \n",
       "...                                     ...    ...     ...     ...   \n",
       "82952  0e989f65-989f-4b9a-beb7-f56e2e8ac468  16000  154112  155136   \n",
       "82953  0e989f65-989f-4b9a-beb7-f56e2e8ac468  16000  154624  155648   \n",
       "82954  0e989f65-989f-4b9a-beb7-f56e2e8ac468  16000  155136  156160   \n",
       "82955  0e989f65-989f-4b9a-beb7-f56e2e8ac468  16000  155648  156672   \n",
       "82956  0e989f65-989f-4b9a-beb7-f56e2e8ac468  16000  156160  157184   \n",
       "\n",
       "            max_amp  frame_index  \\\n",
       "0      0.000000e+00            0   \n",
       "1      0.000000e+00            1   \n",
       "2      0.000000e+00            2   \n",
       "3      1.606821e-18            3   \n",
       "4      1.252836e-05            4   \n",
       "...             ...          ...   \n",
       "82952  1.326591e-04          301   \n",
       "82953  9.876763e-05          302   \n",
       "82954  1.095975e-04          303   \n",
       "82955  1.095975e-04          304   \n",
       "82956  9.861618e-05          305   \n",
       "\n",
       "                                                     amp  label  \n",
       "0      [0.0, 0.0, 0.0, 0.0, 0.0, 0.0, 0.0, 0.0, 0.0, ...      0  \n",
       "1      [0.0, 0.0, 0.0, 0.0, 0.0, 0.0, 0.0, 0.0, 0.0, ...      0  \n",
       "2      [0.0, 0.0, 0.0, 0.0, 0.0, 0.0, 0.0, 0.0, 0.0, ...      0  \n",
       "3      [0.0, 0.0, 0.0, 0.0, 0.0, 0.0, 0.0, 0.0, 0.0, ...      0  \n",
       "4      [0.0, 0.0, 0.0, 0.0, 0.0, 0.0, 0.0, 0.0, 0.0, ...      0  \n",
       "...                                                  ...    ...  \n",
       "82952  [-2.9675384e-06, -4.063487e-05, -3.302071e-05,...      0  \n",
       "82953  [-3.2297816e-05, 2.7146225e-06, -2.2797496e-05...      0  \n",
       "82954  [-2.1411723e-05, -3.5203106e-05, 4.4704484e-07...      0  \n",
       "82955  [-2.8520342e-05, -1.2514673e-05, 7.0754875e-05...      0  \n",
       "82956  [-6.457863e-06, -7.454909e-05, -7.332708e-05, ...      0  \n",
       "\n",
       "[82957 rows x 10 columns]"
      ]
     },
     "execution_count": 7,
     "metadata": {},
     "output_type": "execute_result"
    }
   ],
   "source": [
    "\n",
    "def compute_mfcc(pd_df_audio_data):\n",
    "    # Extract audio data and sample rates\n",
    "    audio_frames = pd_df_audio_data[\"amp\"].apply(lambda x: np.array(x) if not isinstance(x, np.ndarray) else x)\n",
    "    sample_rates = pd_df_audio_data[\"sf\"].values\n",
    "\n",
    "    mfccs = []\n",
    "    mfccs_shapes = []\n",
    "    for audio_frame, sr in zip(audio_frames, sample_rates):\n",
    "\n",
    "        data_mfcc = librosa.feature.mfcc(y=audio_frame, sr=sr, n_fft=1024, win_length=1024, hop_length=68, n_mfcc=64)\n",
    "        mfccs.append(data_mfcc)\n",
    "        mfccs_shapes.append(data_mfcc.shape)\n",
    "\n",
    "    mfccs_df = pd.DataFrame({\n",
    "        \"mfcc\": mfccs,\n",
    "        \"mfcc_shape\": mfccs_shapes\n",
    "    }, index=pd_df_audio_data.index)\n",
    "\n",
    "    # Concatenate additional columns from audio files dataframe\n",
    "    columns_to_add = [\"key\", \"sf\", \"start\", \"end\", \"max_amp\", \"frame_index\", \"amp\", \"label\"]\n",
    "    mfccs_df = pd.concat([mfccs_df, pd_df_audio_data[columns_to_add]], axis=1)\n",
    "\n",
    "    return mfccs_df\n",
    "\n",
    "audio_df_with_mfccs = compute_mfcc(framed_df)\n",
    "audio_df_with_mfccs"
   ]
  },
  {
   "cell_type": "code",
   "execution_count": null,
   "metadata": {},
   "outputs": [],
   "source": []
  },
  {
   "cell_type": "code",
   "execution_count": 92,
   "metadata": {},
   "outputs": [
    {
     "data": {
      "text/plain": [
       "(64, 16)"
      ]
     },
     "execution_count": 92,
     "metadata": {},
     "output_type": "execute_result"
    }
   ],
   "source": [
    "one_data = audio_df_with_mfccs[\"mfcc\"][10]\n",
    "one_data.shape"
   ]
  },
  {
   "cell_type": "code",
   "execution_count": 95,
   "metadata": {},
   "outputs": [
    {
     "data": {
      "image/png": "[encoded data removed]",
      "text/plain": [
       "<Figure size 1000x600 with 2 Axes>"
      ]
     },
     "metadata": {},
     "output_type": "display_data"
    }
   ],
   "source": [
    "def plot_mfcc_spectrogram(mfcc_data, sr, title=\"MFCC\"):\n",
    "    plt.figure(figsize=(10, 6))\n",
    "    librosa.display.specshow(mfcc_data, sr=sr, x_axis='time', hop_length=10)\n",
    "    plt.colorbar(format='%+2.0f dB')\n",
    "    plt.title(title)\n",
    "    plt.xlabel(\"Time\")\n",
    "    plt.ylabel(\"MFCC Coefficients\")\n",
    "    plt.tight_layout()\n",
    "    plt.show()\n",
    "plot_mfcc_spectrogram(one_data, sr=16000, title=\"MFCC\")"
   ]
  },
  {
   "cell_type": "code",
   "execution_count": 9,
   "metadata": {},
   "outputs": [
    {
     "data": {
      "text/plain": [
       "(64, 16)"
      ]
     },
     "execution_count": 9,
     "metadata": {},
     "output_type": "execute_result"
    }
   ],
   "source": [
    "\n",
    "mfccs_second_derivative = librosa.feature.delta(one_data, order=3, mode=\"nearest\",width=9)\n",
    "mfccs_second_derivative.shape"
   ]
  },
  {
   "cell_type": "code",
   "execution_count": 79,
   "metadata": {},
   "outputs": [
    {
     "data": {
      "text/plain": [
       "(82957, 64, 16, 3)"
      ]
     },
     "execution_count": 79,
     "metadata": {},
     "output_type": "execute_result"
    }
   ],
   "source": [
    "def compute_mfcc_and_deltas(mfcc,order):\n",
    "    final_mfcc = []\n",
    "    for i in range(1,order+1):\n",
    "        mfcc_delta = librosa.feature.delta(mfcc,order=order)\n",
    "\n",
    "        if i == 1:\n",
    "            mfcc_derivative = mfcc_delta\n",
    "        else:\n",
    "            mfcc_derivative = np.dstack((mfcc_derivative,mfcc_delta))\n",
    "\n",
    "    final_mfcc.append(mfcc_derivative)\n",
    "\n",
    "    final_mfcc = np.array(final_mfcc)\n",
    "    return mfcc_derivative\n",
    "\n",
    "\n",
    "final_mfcc_data = []\n",
    "for i in audio_df_with_mfccs[\"mfcc\"].values:\n",
    "    mfcc_derivative = compute_mfcc_and_deltas(i,order=3)\n",
    "    final_mfcc_data.append(mfcc_derivative)\n",
    "\n",
    "final_mfcc_data = np.array(final_mfcc_data)\n",
    "final_mfcc_data.shape"
   ]
  },
  {
   "cell_type": "code",
   "execution_count": 62,
   "metadata": {},
   "outputs": [
    {
     "data": {
      "text/plain": [
       "(128, 3)"
      ]
     },
     "execution_count": 62,
     "metadata": {},
     "output_type": "execute_result"
    }
   ],
   "source": [
    "framed_df[\"mfccs\"][0].shape"
   ]
  },
  {
   "cell_type": "code",
   "execution_count": 15,
   "metadata": {},
   "outputs": [
    {
     "data": {
      "text/plain": [
       "(192,)"
      ]
     },
     "execution_count": 15,
     "metadata": {},
     "output_type": "execute_result"
    }
   ],
   "source": [
    "framed_df[\"mfccs\"][0].reshape(-1).shape"
   ]
  },
  {
   "cell_type": "code",
   "execution_count": 16,
   "metadata": {},
   "outputs": [],
   "source": [
    "# # preparing data for ml\n",
    "# data = []\n",
    "# for i in range(len(framed_df)):\n",
    "#     data.append(framed_df[\"mfccs\"][i].reshape(-1))\n",
    "# X = np.array(data)"
   ]
  },
  {
   "cell_type": "code",
   "execution_count": 17,
   "metadata": {},
   "outputs": [
    {
     "data": {
      "text/plain": [
       "(192,)"
      ]
     },
     "execution_count": 17,
     "metadata": {},
     "output_type": "execute_result"
    }
   ],
   "source": [
    "X[0].shape"
   ]
  },
  {
   "cell_type": "code",
   "execution_count": 18,
   "metadata": {},
   "outputs": [
    {
     "data": {
      "text/plain": [
       "(56337, 192)"
      ]
     },
     "execution_count": 18,
     "metadata": {},
     "output_type": "execute_result"
    }
   ],
   "source": [
    "X.shape"
   ]
  },
  {
   "cell_type": "markdown",
   "metadata": {},
   "source": [
    "# Model Building"
   ]
  },
  {
   "cell_type": "code",
   "execution_count": 19,
   "metadata": {},
   "outputs": [],
   "source": [
    "from xgboost import XGBClassifier\n",
    "from sklearn.linear_model import LogisticRegression"
   ]
  },
  {
   "cell_type": "code",
   "execution_count": 88,
   "metadata": {},
   "outputs": [],
   "source": [
    "# X = df_frame_from_save[\"mfccs\"]\n",
    "y = framed_df[\"label\"]"
   ]
  },
  {
   "cell_type": "code",
   "execution_count": 89,
   "metadata": {},
   "outputs": [
    {
     "data": {
      "text/plain": [
       "0        0\n",
       "1        0\n",
       "2        0\n",
       "3        0\n",
       "4        0\n",
       "        ..\n",
       "82952    0\n",
       "82953    0\n",
       "82954    0\n",
       "82955    0\n",
       "82956    0\n",
       "Name: label, Length: 82957, dtype: int64"
      ]
     },
     "execution_count": 89,
     "metadata": {},
     "output_type": "execute_result"
    }
   ],
   "source": [
    "y"
   ]
  },
  {
   "cell_type": "code",
   "execution_count": 22,
   "metadata": {},
   "outputs": [
    {
     "data": {
      "text/plain": [
       "label\n",
       "0    44249\n",
       "1    12088\n",
       "Name: count, dtype: int64"
      ]
     },
     "execution_count": 22,
     "metadata": {},
     "output_type": "execute_result"
    }
   ],
   "source": [
    "y.value_counts()"
   ]
  },
  {
   "cell_type": "code",
   "execution_count": 23,
   "metadata": {},
   "outputs": [
    {
     "data": {
      "text/plain": [
       "label\n",
       "0    0.785434\n",
       "1    0.214566\n",
       "Name: count, dtype: float64"
      ]
     },
     "execution_count": 23,
     "metadata": {},
     "output_type": "execute_result"
    }
   ],
   "source": [
    "y.value_counts()/y.shape"
   ]
  },
  {
   "cell_type": "code",
   "execution_count": 24,
   "metadata": {},
   "outputs": [],
   "source": [
    "from sklearn.model_selection import train_test_split\n",
    "\n",
    "X_train,X_test,y_train,y_test = train_test_split(X,y,test_size=0.2,random_state=42)"
   ]
  },
  {
   "cell_type": "code",
   "execution_count": 25,
   "metadata": {},
   "outputs": [
    {
     "data": {
      "text/plain": [
       "(192,)"
      ]
     },
     "execution_count": 25,
     "metadata": {},
     "output_type": "execute_result"
    }
   ],
   "source": [
    "X_train[0].shape"
   ]
  },
  {
   "cell_type": "markdown",
   "metadata": {},
   "source": [
    "# Logistic Regression"
   ]
  },
  {
   "cell_type": "code",
   "execution_count": 26,
   "metadata": {},
   "outputs": [],
   "source": [
    "lr = LogisticRegression(penalty=\"elasticnet\",verbose=1,l1_ratio=0.4,solver=\"saga\")"
   ]
  },
  {
   "cell_type": "code",
   "execution_count": 27,
   "metadata": {},
   "outputs": [
    {
     "name": "stdout",
     "output_type": "stream",
     "text": [
      "max_iter reached after 19 seconds\n"
     ]
    },
    {
     "name": "stderr",
     "output_type": "stream",
     "text": [
      "f:\\Data Science and ML\\End To End ML\\CE 903 - Group Project\\23-24_CE903-SU_team06\\venv-team06\\lib\\site-packages\\sklearn\\linear_model\\_sag.py:349: ConvergenceWarning: The max_iter was reached which means the coef_ did not converge\n",
      "  warnings.warn(\n"
     ]
    }
   ],
   "source": [
    "lr.fit(X_train,y_train)\n",
    "y_pred = lr.predict(X_test)\n"
   ]
  },
  {
   "cell_type": "code",
   "execution_count": 28,
   "metadata": {},
   "outputs": [
    {
     "data": {
      "text/plain": [
       "0.8774405395811147"
      ]
     },
     "execution_count": 28,
     "metadata": {},
     "output_type": "execute_result"
    }
   ],
   "source": [
    "accuracy_score(y_test,y_pred)"
   ]
  },
  {
   "cell_type": "code",
   "execution_count": 29,
   "metadata": {},
   "outputs": [
    {
     "name": "stdout",
     "output_type": "stream",
     "text": [
      "              precision    recall  f1-score   support\n",
      "\n",
      "           0       0.90      0.94      0.92      8803\n",
      "           1       0.76      0.64      0.69      2465\n",
      "\n",
      "    accuracy                           0.88     11268\n",
      "   macro avg       0.83      0.79      0.81     11268\n",
      "weighted avg       0.87      0.88      0.87     11268\n",
      "\n"
     ]
    }
   ],
   "source": [
    "print(classification_report(y_test,y_pred))"
   ]
  },
  {
   "cell_type": "markdown",
   "metadata": {},
   "source": [
    "# XGBoost"
   ]
  },
  {
   "cell_type": "code",
   "execution_count": 32,
   "metadata": {},
   "outputs": [],
   "source": [
    "xgb = XGBClassifier()\n",
    "xgb.fit(X_train,y_train)\n",
    "y_pred = xgb.predict(X_test)\n"
   ]
  },
  {
   "cell_type": "code",
   "execution_count": 33,
   "metadata": {},
   "outputs": [
    {
     "data": {
      "text/plain": [
       "0.8775292864749734"
      ]
     },
     "execution_count": 33,
     "metadata": {},
     "output_type": "execute_result"
    }
   ],
   "source": [
    "accuracy_score(y_test,y_pred)"
   ]
  },
  {
   "cell_type": "code",
   "execution_count": 34,
   "metadata": {},
   "outputs": [
    {
     "name": "stdout",
     "output_type": "stream",
     "text": [
      "              precision    recall  f1-score   support\n",
      "\n",
      "           0       0.91      0.94      0.92      8803\n",
      "           1       0.75      0.66      0.70      2465\n",
      "\n",
      "    accuracy                           0.88     11268\n",
      "   macro avg       0.83      0.80      0.81     11268\n",
      "weighted avg       0.87      0.88      0.87     11268\n",
      "\n"
     ]
    }
   ],
   "source": [
    "print(classification_report(y_test,y_pred))"
   ]
  },
  {
   "cell_type": "markdown",
   "metadata": {},
   "source": [
    "# Preparing Data for CNN"
   ]
  },
  {
   "cell_type": "code",
   "execution_count": 10,
   "metadata": {},
   "outputs": [],
   "source": [
    "from tensorflow.keras.models import Sequential\n",
    "from tensorflow.keras.layers import Conv2D, MaxPooling2D, Flatten, Dense, Dropout\n",
    "from tensorflow.keras import metrics"
   ]
  },
  {
   "cell_type": "code",
   "execution_count": 76,
   "metadata": {},
   "outputs": [
    {
     "name": "stdout",
     "output_type": "stream",
     "text": [
      "Model: \"sequential_13\"\n",
      "_________________________________________________________________\n",
      " Layer (type)                Output Shape              Param #   \n",
      "=================================================================\n",
      " conv2d_26 (Conv2D)          (None, 64, 14, 64)        320       \n",
      "                                                                 \n",
      " max_pooling2d_26 (MaxPoolin  (None, 32, 7, 64)        0         \n",
      " g2D)                                                            \n",
      "                                                                 \n",
      " dropout (Dropout)           (None, 32, 7, 64)         0         \n",
      "                                                                 \n",
      " conv2d_27 (Conv2D)          (None, 32, 7, 128)        32896     \n",
      "                                                                 \n",
      " max_pooling2d_27 (MaxPoolin  (None, 16, 3, 128)       0         \n",
      " g2D)                                                            \n",
      "                                                                 \n",
      " flatten_13 (Flatten)        (None, 6144)              0         \n",
      "                                                                 \n",
      " dense_39 (Dense)            (None, 128)               786560    \n",
      "                                                                 \n",
      " dropout_1 (Dropout)         (None, 128)               0         \n",
      "                                                                 \n",
      " dense_40 (Dense)            (None, 8)                 1032      \n",
      "                                                                 \n",
      " dense_41 (Dense)            (None, 1)                 9         \n",
      "                                                                 \n",
      "=================================================================\n",
      "Total params: 820,817\n",
      "Trainable params: 820,817\n",
      "Non-trainable params: 0\n",
      "_________________________________________________________________\n"
     ]
    }
   ],
   "source": [
    "def create_cnn_model(input_shape):\n",
    "    model = Sequential([\n",
    "        Conv2D(64, kernel_size=(2, 2), activation='relu', input_shape=input_shape,padding=\"same\"),\n",
    "        MaxPooling2D(pool_size=(2,2)),\n",
    "        Dropout(0.2),\n",
    "        Conv2D(128, kernel_size=(2, 2), activation='relu', input_shape=input_shape,padding=\"same\"),\n",
    "        MaxPooling2D(pool_size=(2,2)),\n",
    "        Flatten(),\n",
    "        Dense(128, activation='relu'),\n",
    "        Dropout(0.2),\n",
    "        Dense(8, activation='relu'),\n",
    "        Dense(1, activation='sigmoid')\n",
    "    ])\n",
    "    model.compile(loss=\"binary_crossentropy\", optimizer=\"adam\",\n",
    "    metrics=[\n",
    "            \"accuracy\",\n",
    "            metrics.Precision(name='precision'),\n",
    "            metrics.Recall(name='recall'),\n",
    "            metrics.AUC(name='auc_roc', curve='ROC'),\n",
    "            metrics.AUC(name='auc_pr', curve='PR'),\n",
    "            metrics.TruePositives(name='true_positives'),\n",
    "            metrics.FalsePositives(name='false_positives'),\n",
    "            metrics.TrueNegatives(name='true_negatives'),\n",
    "            metrics.FalseNegatives(name='false_negatives'),\n",
    "])\n",
    "    return model\n",
    "\n",
    "model = create_cnn_model(input_shape=(64,14,1))\n",
    "model.summary()"
   ]
  },
  {
   "cell_type": "code",
   "execution_count": 25,
   "metadata": {},
   "outputs": [
    {
     "data": {
      "text/plain": [
       "(82957, 64, 16, 1)"
      ]
     },
     "execution_count": 25,
     "metadata": {},
     "output_type": "execute_result"
    }
   ],
   "source": [
    "audio_mfcc = []\n",
    "for i in audio_df_with_mfccs[\"mfcc\"].values:\n",
    "    audio_mfcc.append(i)\n",
    "audio_mfcc = np.array(audio_mfcc).reshape(-1,64,16,1)\n",
    "\n",
    "audio_mfcc.shape\n"
   ]
  },
  {
   "cell_type": "code",
   "execution_count": 28,
   "metadata": {},
   "outputs": [
    {
     "name": "stdout",
     "output_type": "stream",
     "text": [
      "Sono Cross Val Split\n",
      " StratifiedKFold(n_splits=5, random_state=6, shuffle=True) \tTotal Audio Files: 300\n"
     ]
    },
    {
     "data": {
      "image/png": "[encoded data removed]",
      "text/plain": [
       "<Figure size 1600x600 with 1 Axes>"
      ]
     },
     "metadata": {},
     "output_type": "display_data"
    },
    {
     "name": "stdout",
     "output_type": "stream",
     "text": [
      "1 fold started\n",
      "Epoch 1/6\n",
      "1979/1979 [==============================] - 122s 61ms/step - loss: 0.1743 - accuracy: 0.9362 - precision: 0.7661 - recall: 0.5883 - auc_roc: 0.9466 - auc_pr: 0.6888 - true_positives: 4019.0000 - false_positives: 1227.0000 - true_negatives: 55256.0000 - false_negatives: 2813.0000 - val_loss: 0.1569 - val_accuracy: 0.9388 - val_precision: 0.7510 - val_recall: 0.5786 - val_auc_roc: 0.9460 - val_auc_pr: 0.7187 - val_true_positives: 1134.0000 - val_false_positives: 376.0000 - val_true_negatives: 17306.0000 - val_false_negatives: 826.0000\n",
      "Epoch 2/6\n",
      "1979/1979 [==============================] - 132s 67ms/step - loss: 0.1344 - accuracy: 0.9477 - precision: 0.7967 - recall: 0.6922 - auc_roc: 0.9645 - auc_pr: 0.8147 - true_positives: 4729.0000 - false_positives: 1207.0000 - true_negatives: 55276.0000 - false_negatives: 2103.0000 - val_loss: 0.1527 - val_accuracy: 0.9421 - val_precision: 0.8032 - val_recall: 0.5561 - val_auc_roc: 0.9489 - val_auc_pr: 0.7591 - val_true_positives: 1090.0000 - val_false_positives: 267.0000 - val_true_negatives: 17415.0000 - val_false_negatives: 870.0000\n",
      "Epoch 3/6\n",
      "1979/1979 [==============================] - 140s 71ms/step - loss: 0.1250 - accuracy: 0.9519 - precision: 0.8128 - recall: 0.7198 - auc_roc: 0.9695 - auc_pr: 0.8394 - true_positives: 4918.0000 - false_positives: 1133.0000 - true_negatives: 55350.0000 - false_negatives: 1914.0000 - val_loss: 0.1470 - val_accuracy: 0.9425 - val_precision: 0.7451 - val_recall: 0.6444 - val_auc_roc: 0.9522 - val_auc_pr: 0.7608 - val_true_positives: 1263.0000 - val_false_positives: 432.0000 - val_true_negatives: 17250.0000 - val_false_negatives: 697.0000\n",
      "Epoch 4/6\n",
      "1979/1979 [==============================] - 140s 71ms/step - loss: 0.1141 - accuracy: 0.9553 - precision: 0.8210 - recall: 0.7493 - auc_roc: 0.9743 - auc_pr: 0.8681 - true_positives: 5119.0000 - false_positives: 1116.0000 - true_negatives: 55367.0000 - false_negatives: 1713.0000 - val_loss: 0.1628 - val_accuracy: 0.9404 - val_precision: 0.7292 - val_recall: 0.6403 - val_auc_roc: 0.9462 - val_auc_pr: 0.7387 - val_true_positives: 1255.0000 - val_false_positives: 466.0000 - val_true_negatives: 17216.0000 - val_false_negatives: 705.0000\n",
      "Epoch 5/6\n",
      "1979/1979 [==============================] - 156s 79ms/step - loss: 0.1044 - accuracy: 0.9598 - precision: 0.8383 - recall: 0.7777 - auc_roc: 0.9779 - auc_pr: 0.8887 - true_positives: 5313.0000 - false_positives: 1025.0000 - true_negatives: 55458.0000 - false_negatives: 1519.0000 - val_loss: 0.1542 - val_accuracy: 0.9400 - val_precision: 0.7487 - val_recall: 0.6005 - val_auc_roc: 0.9518 - val_auc_pr: 0.7407 - val_true_positives: 1177.0000 - val_false_positives: 395.0000 - val_true_negatives: 17287.0000 - val_false_negatives: 783.0000\n",
      "Epoch 6/6\n",
      "1979/1979 [==============================] - 149s 75ms/step - loss: 0.0945 - accuracy: 0.9640 - precision: 0.8516 - recall: 0.8071 - auc_roc: 0.9814 - auc_pr: 0.9075 - true_positives: 5514.0000 - false_positives: 961.0000 - true_negatives: 55522.0000 - false_negatives: 1318.0000 - val_loss: 0.1863 - val_accuracy: 0.9311 - val_precision: 0.6640 - val_recall: 0.6270 - val_auc_roc: 0.9377 - val_auc_pr: 0.6866 - val_true_positives: 1229.0000 - val_false_positives: 622.0000 - val_true_negatives: 17060.0000 - val_false_negatives: 731.0000\n",
      "2 fold started\n",
      "Epoch 1/6\n",
      "2127/2127 [==============================] - 160s 74ms/step - loss: 0.1608 - accuracy: 0.9419 - precision: 0.7696 - recall: 0.6193 - auc_roc: 0.9491 - auc_pr: 0.7532 - true_positives: 4326.0000 - false_positives: 1295.0000 - true_negatives: 59764.0000 - false_negatives: 2659.0000 - val_loss: 0.1868 - val_accuracy: 0.9283 - val_precision: 0.7850 - val_recall: 0.5617 - val_auc_roc: 0.9532 - val_auc_pr: 0.7734 - val_true_positives: 1015.0000 - val_false_positives: 278.0000 - val_true_negatives: 12828.0000 - val_false_negatives: 792.0000\n",
      "Epoch 2/6\n",
      "2127/2127 [==============================] - 155s 73ms/step - loss: 0.1283 - accuracy: 0.9499 - precision: 0.7923 - recall: 0.6935 - auc_roc: 0.9656 - auc_pr: 0.8199 - true_positives: 4844.0000 - false_positives: 1270.0000 - true_negatives: 59789.0000 - false_negatives: 2141.0000 - val_loss: 0.1907 - val_accuracy: 0.9186 - val_precision: 0.6251 - val_recall: 0.8201 - val_auc_roc: 0.9591 - val_auc_pr: 0.7677 - val_true_positives: 1482.0000 - val_false_positives: 889.0000 - val_true_negatives: 12217.0000 - val_false_negatives: 325.0000\n",
      "Epoch 3/6\n",
      "2127/2127 [==============================] - 161s 75ms/step - loss: 0.1189 - accuracy: 0.9542 - precision: 0.8077 - recall: 0.7268 - auc_roc: 0.9706 - auc_pr: 0.8420 - true_positives: 5077.0000 - false_positives: 1209.0000 - true_negatives: 59850.0000 - false_negatives: 1908.0000 - val_loss: 0.1682 - val_accuracy: 0.9278 - val_precision: 0.6977 - val_recall: 0.7128 - val_auc_roc: 0.9594 - val_auc_pr: 0.7749 - val_true_positives: 1288.0000 - val_false_positives: 558.0000 - val_true_negatives: 12548.0000 - val_false_negatives: 519.0000\n",
      "Epoch 4/6\n",
      "2127/2127 [==============================] - 169s 79ms/step - loss: 0.1131 - accuracy: 0.9569 - precision: 0.8204 - recall: 0.7424 - auc_roc: 0.9731 - auc_pr: 0.8572 - true_positives: 5186.0000 - false_positives: 1135.0000 - true_negatives: 59924.0000 - false_negatives: 1799.0000 - val_loss: 0.1861 - val_accuracy: 0.9258 - val_precision: 0.6797 - val_recall: 0.7338 - val_auc_roc: 0.9584 - val_auc_pr: 0.7664 - val_true_positives: 1326.0000 - val_false_positives: 625.0000 - val_true_negatives: 12481.0000 - val_false_negatives: 481.0000\n",
      "Epoch 5/6\n",
      "2127/2127 [==============================] - 171s 80ms/step - loss: 0.1049 - accuracy: 0.9591 - precision: 0.8223 - recall: 0.7674 - auc_roc: 0.9771 - auc_pr: 0.8753 - true_positives: 5360.0000 - false_positives: 1158.0000 - true_negatives: 59901.0000 - false_negatives: 1625.0000 - val_loss: 0.1714 - val_accuracy: 0.9279 - val_precision: 0.6865 - val_recall: 0.7454 - val_auc_roc: 0.9556 - val_auc_pr: 0.7803 - val_true_positives: 1347.0000 - val_false_positives: 615.0000 - val_true_negatives: 12491.0000 - val_false_negatives: 460.0000\n",
      "Epoch 6/6\n",
      "2127/2127 [==============================] - 196s 92ms/step - loss: 0.0988 - accuracy: 0.9619 - precision: 0.8355 - recall: 0.7830 - auc_roc: 0.9790 - auc_pr: 0.8903 - true_positives: 5469.0000 - false_positives: 1077.0000 - true_negatives: 59982.0000 - false_negatives: 1516.0000 - val_loss: 0.2068 - val_accuracy: 0.9225 - val_precision: 0.6677 - val_recall: 0.7172 - val_auc_roc: 0.9527 - val_auc_pr: 0.7200 - val_true_positives: 1296.0000 - val_false_positives: 645.0000 - val_true_negatives: 12461.0000 - val_false_negatives: 511.0000\n",
      "3 fold started\n",
      "Epoch 1/6\n",
      "2158/2158 [==============================] - 219s 100ms/step - loss: 0.1831 - accuracy: 0.9274 - precision: 0.7473 - recall: 0.4299 - auc_roc: 0.9337 - auc_pr: 0.6575 - true_positives: 3010.0000 - false_positives: 1018.0000 - true_negatives: 61021.0000 - false_negatives: 3991.0000 - val_loss: 0.1729 - val_accuracy: 0.9348 - val_precision: 0.8622 - val_recall: 0.5868 - val_auc_roc: 0.9635 - val_auc_pr: 0.8258 - val_true_positives: 1051.0000 - val_false_positives: 168.0000 - val_true_negatives: 11958.0000 - val_false_negatives: 740.0000\n",
      "Epoch 2/6\n",
      "2158/2158 [==============================] - 200s 93ms/step - loss: 0.1317 - accuracy: 0.9482 - precision: 0.7746 - recall: 0.6903 - auc_roc: 0.9628 - auc_pr: 0.8084 - true_positives: 4833.0000 - false_positives: 1406.0000 - true_negatives: 60633.0000 - false_negatives: 2168.0000 - val_loss: 0.1644 - val_accuracy: 0.9349 - val_precision: 0.8433 - val_recall: 0.6069 - val_auc_roc: 0.9629 - val_auc_pr: 0.8230 - val_true_positives: 1087.0000 - val_false_positives: 202.0000 - val_true_negatives: 11924.0000 - val_false_negatives: 704.0000\n",
      "Epoch 3/6\n",
      "2158/2158 [==============================] - 224s 104ms/step - loss: 0.1216 - accuracy: 0.9531 - precision: 0.7931 - recall: 0.7266 - auc_roc: 0.9688 - auc_pr: 0.8347 - true_positives: 5087.0000 - false_positives: 1327.0000 - true_negatives: 60712.0000 - false_negatives: 1914.0000 - val_loss: 0.1490 - val_accuracy: 0.9419 - val_precision: 0.8201 - val_recall: 0.7024 - val_auc_roc: 0.9673 - val_auc_pr: 0.8319 - val_true_positives: 1258.0000 - val_false_positives: 276.0000 - val_true_negatives: 11850.0000 - val_false_negatives: 533.0000\n",
      "Epoch 4/6\n",
      "2158/2158 [==============================] - 218s 101ms/step - loss: 0.1123 - accuracy: 0.9562 - precision: 0.8061 - recall: 0.7478 - auc_roc: 0.9730 - auc_pr: 0.8570 - true_positives: 5235.0000 - false_positives: 1259.0000 - true_negatives: 60780.0000 - false_negatives: 1766.0000 - val_loss: 0.1463 - val_accuracy: 0.9457 - val_precision: 0.8079 - val_recall: 0.7582 - val_auc_roc: 0.9688 - val_auc_pr: 0.8431 - val_true_positives: 1358.0000 - val_false_positives: 323.0000 - val_true_negatives: 11803.0000 - val_false_negatives: 433.0000\n",
      "Epoch 5/6\n",
      "2158/2158 [==============================] - 221s 102ms/step - loss: 0.1030 - accuracy: 0.9594 - precision: 0.8173 - recall: 0.7725 - auc_roc: 0.9774 - auc_pr: 0.8780 - true_positives: 5408.0000 - false_positives: 1209.0000 - true_negatives: 60830.0000 - false_negatives: 1593.0000 - val_loss: 0.1505 - val_accuracy: 0.9438 - val_precision: 0.8105 - val_recall: 0.7353 - val_auc_roc: 0.9667 - val_auc_pr: 0.8414 - val_true_positives: 1317.0000 - val_false_positives: 308.0000 - val_true_negatives: 11818.0000 - val_false_negatives: 474.0000\n",
      "Epoch 6/6\n",
      "2158/2158 [==============================] - 228s 106ms/step - loss: 0.0953 - accuracy: 0.9623 - precision: 0.8274 - recall: 0.7936 - auc_roc: 0.9804 - auc_pr: 0.8949 - true_positives: 5556.0000 - false_positives: 1159.0000 - true_negatives: 60880.0000 - false_negatives: 1445.0000 - val_loss: 0.1691 - val_accuracy: 0.9376 - val_precision: 0.8494 - val_recall: 0.6265 - val_auc_roc: 0.9622 - val_auc_pr: 0.8255 - val_true_positives: 1122.0000 - val_false_positives: 199.0000 - val_true_negatives: 11927.0000 - val_false_negatives: 669.0000\n",
      "4 fold started\n",
      "Epoch 1/6\n",
      "1988/1988 [==============================] - 202s 101ms/step - loss: 0.1773 - accuracy: 0.9323 - precision: 0.7575 - recall: 0.5664 - auc_roc: 0.9459 - auc_pr: 0.6991 - true_positives: 3967.0000 - false_positives: 1270.0000 - true_negatives: 55319.0000 - false_negatives: 3037.0000 - val_loss: 0.1876 - val_accuracy: 0.9203 - val_precision: 0.5480 - val_recall: 0.7791 - val_auc_roc: 0.9489 - val_auc_pr: 0.7121 - val_true_positives: 1393.0000 - val_false_positives: 1149.0000 - val_true_negatives: 16427.0000 - val_false_negatives: 395.0000\n",
      "Epoch 2/6\n",
      "1988/1988 [==============================] - 214s 107ms/step - loss: 0.1390 - accuracy: 0.9459 - precision: 0.7836 - recall: 0.7030 - auc_roc: 0.9646 - auc_pr: 0.8076 - true_positives: 4924.0000 - false_positives: 1360.0000 - true_negatives: 55229.0000 - false_negatives: 2080.0000 - val_loss: 0.1366 - val_accuracy: 0.9457 - val_precision: 0.7279 - val_recall: 0.6583 - val_auc_roc: 0.9587 - val_auc_pr: 0.7546 - val_true_positives: 1177.0000 - val_false_positives: 440.0000 - val_true_negatives: 17136.0000 - val_false_negatives: 611.0000\n",
      "Epoch 3/6\n",
      "1988/1988 [==============================] - 200s 101ms/step - loss: 0.1270 - accuracy: 0.9509 - precision: 0.8038 - recall: 0.7336 - auc_roc: 0.9689 - auc_pr: 0.8411 - true_positives: 5138.0000 - false_positives: 1254.0000 - true_negatives: 55335.0000 - false_negatives: 1866.0000 - val_loss: 0.1484 - val_accuracy: 0.9372 - val_precision: 0.6437 - val_recall: 0.7153 - val_auc_roc: 0.9568 - val_auc_pr: 0.7386 - val_true_positives: 1279.0000 - val_false_positives: 708.0000 - val_true_negatives: 16868.0000 - val_false_negatives: 509.0000\n",
      "Epoch 4/6\n",
      "1988/1988 [==============================] - 207s 104ms/step - loss: 0.1176 - accuracy: 0.9533 - precision: 0.8114 - recall: 0.7507 - auc_roc: 0.9741 - auc_pr: 0.8621 - true_positives: 5258.0000 - false_positives: 1222.0000 - true_negatives: 55367.0000 - false_negatives: 1746.0000 - val_loss: 0.1540 - val_accuracy: 0.9378 - val_precision: 0.6592 - val_recall: 0.6751 - val_auc_roc: 0.9503 - val_auc_pr: 0.7243 - val_true_positives: 1207.0000 - val_false_positives: 624.0000 - val_true_negatives: 16952.0000 - val_false_negatives: 581.0000\n",
      "Epoch 5/6\n",
      "1988/1988 [==============================] - 238s 120ms/step - loss: 0.1064 - accuracy: 0.9578 - precision: 0.8304 - recall: 0.7753 - auc_roc: 0.9786 - auc_pr: 0.8862 - true_positives: 5430.0000 - false_positives: 1109.0000 - true_negatives: 55480.0000 - false_negatives: 1574.0000 - val_loss: 0.1663 - val_accuracy: 0.9311 - val_precision: 0.6197 - val_recall: 0.6572 - val_auc_roc: 0.9440 - val_auc_pr: 0.6804 - val_true_positives: 1175.0000 - val_false_positives: 721.0000 - val_true_negatives: 16855.0000 - val_false_negatives: 613.0000\n",
      "Epoch 6/6\n",
      "1988/1988 [==============================] - 219s 110ms/step - loss: 0.0969 - accuracy: 0.9610 - precision: 0.8434 - recall: 0.7935 - auc_roc: 0.9820 - auc_pr: 0.9061 - true_positives: 5558.0000 - false_positives: 1032.0000 - true_negatives: 55557.0000 - false_negatives: 1446.0000 - val_loss: 0.1583 - val_accuracy: 0.9426 - val_precision: 0.6944 - val_recall: 0.6762 - val_auc_roc: 0.9487 - val_auc_pr: 0.7197 - val_true_positives: 1209.0000 - val_false_positives: 532.0000 - val_true_negatives: 17044.0000 - val_false_negatives: 579.0000\n",
      "5 fold started\n",
      "Epoch 1/6\n",
      "2120/2120 [==============================] - 263s 120ms/step - loss: 0.1804 - accuracy: 0.9361 - precision: 0.7635 - recall: 0.5937 - auc_roc: 0.9457 - auc_pr: 0.6894 - true_positives: 4361.0000 - false_positives: 1351.0000 - true_negatives: 59139.0000 - false_negatives: 2985.0000 - val_loss: 0.1525 - val_accuracy: 0.9460 - val_precision: 0.8393 - val_recall: 0.5380 - val_auc_roc: 0.9495 - val_auc_pr: 0.7511 - val_true_positives: 778.0000 - val_false_positives: 149.0000 - val_true_negatives: 13526.0000 - val_false_negatives: 668.0000\n",
      "Epoch 2/6\n",
      "2120/2120 [==============================] - 272s 128ms/step - loss: 0.1463 - accuracy: 0.9454 - precision: 0.7825 - recall: 0.6866 - auc_roc: 0.9606 - auc_pr: 0.7660 - true_positives: 5044.0000 - false_positives: 1402.0000 - true_negatives: 59088.0000 - false_negatives: 2302.0000 - val_loss: 0.1518 - val_accuracy: 0.9447 - val_precision: 0.7169 - val_recall: 0.6971 - val_auc_roc: 0.9481 - val_auc_pr: 0.7199 - val_true_positives: 1008.0000 - val_false_positives: 398.0000 - val_true_negatives: 13277.0000 - val_false_negatives: 438.0000\n",
      "Epoch 3/6\n",
      "2120/2120 [==============================] - 252s 119ms/step - loss: 0.1352 - accuracy: 0.9503 - precision: 0.7980 - recall: 0.7249 - auc_roc: 0.9655 - auc_pr: 0.7910 - true_positives: 5325.0000 - false_positives: 1348.0000 - true_negatives: 59142.0000 - false_negatives: 2021.0000 - val_loss: 0.1577 - val_accuracy: 0.9489 - val_precision: 0.7924 - val_recall: 0.6307 - val_auc_roc: 0.9407 - val_auc_pr: 0.7494 - val_true_positives: 912.0000 - val_false_positives: 239.0000 - val_true_negatives: 13436.0000 - val_false_negatives: 534.0000\n",
      "Epoch 4/6\n",
      "2120/2120 [==============================] - 224s 105ms/step - loss: 0.1232 - accuracy: 0.9534 - precision: 0.8076 - recall: 0.7475 - auc_roc: 0.9720 - auc_pr: 0.8158 - true_positives: 5491.0000 - false_positives: 1308.0000 - true_negatives: 59182.0000 - false_negatives: 1855.0000 - val_loss: 0.1464 - val_accuracy: 0.9504 - val_precision: 0.8494 - val_recall: 0.5851 - val_auc_roc: 0.9500 - val_auc_pr: 0.7861 - val_true_positives: 846.0000 - val_false_positives: 150.0000 - val_true_negatives: 13525.0000 - val_false_negatives: 600.0000\n",
      "Epoch 5/6\n",
      "2120/2120 [==============================] - 239s 113ms/step - loss: 0.1151 - accuracy: 0.9570 - precision: 0.8227 - recall: 0.7682 - auc_roc: 0.9748 - auc_pr: 0.8340 - true_positives: 5643.0000 - false_positives: 1216.0000 - true_negatives: 59274.0000 - false_negatives: 1703.0000 - val_loss: 0.1376 - val_accuracy: 0.9503 - val_precision: 0.8382 - val_recall: 0.5947 - val_auc_roc: 0.9528 - val_auc_pr: 0.7863 - val_true_positives: 860.0000 - val_false_positives: 166.0000 - val_true_negatives: 13509.0000 - val_false_negatives: 586.0000\n",
      "Epoch 6/6\n",
      "2120/2120 [==============================] - 238s 112ms/step - loss: 0.1073 - accuracy: 0.9603 - precision: 0.8353 - recall: 0.7893 - auc_roc: 0.9779 - auc_pr: 0.8525 - true_positives: 5798.0000 - false_positives: 1143.0000 - true_negatives: 59347.0000 - false_negatives: 1548.0000 - val_loss: 0.1313 - val_accuracy: 0.9514 - val_precision: 0.7801 - val_recall: 0.6846 - val_auc_roc: 0.9574 - val_auc_pr: 0.7901 - val_true_positives: 990.0000 - val_false_positives: 279.0000 - val_true_negatives: 13396.0000 - val_false_negatives: 456.0000\n"
     ]
    }
   ],
   "source": [
    "def train_with_cross_val_data():\n",
    "    cv_strat = CrossValSplit(df_single_frame=audio_df_with_mfccs, non_cough_keys=audio_df[audio_df['cough_start_end'].isna()].index)\n",
    "    cv_strat_data = cv_strat.cross_val(stratified=True, shuffle=True, plot=True, show_fold_info=False)\n",
    "\n",
    "    all_histories = []\n",
    "    count = 1\n",
    "\n",
    "    for fold in cv_strat_data:\n",
    "        print(f\"{count} fold started\")\n",
    "        model = create_cnn_model(input_shape=(64,16,1))\n",
    "\n",
    "        X_train = audio_mfcc[fold[0]]\n",
    "        y_train = audio_df_with_mfccs.loc[fold[0]][\"label\"].values\n",
    "        \n",
    "        X_val = audio_mfcc[fold[1]]\n",
    "        y_val = audio_df_with_mfccs.loc[fold[1]][\"label\"].values\n",
    "        history = model.fit(X_train, y_train, epochs=6, batch_size=32, validation_data=(X_val,y_val))\n",
    "        all_histories.append(history)\n",
    "        count += 1\n",
    "    return all_histories\n",
    "\n",
    "all_histories = train_with_cross_val_data()"
   ]
  },
  {
   "cell_type": "code",
   "execution_count": 71,
   "metadata": {},
   "outputs": [
    {
     "data": {
      "text/plain": [
       "[<keras.callbacks.History at 0x27e8521d3f0>,\n",
       " <keras.callbacks.History at 0x27e85cccd60>,\n",
       " <keras.callbacks.History at 0x27e86389ea0>,\n",
       " <keras.callbacks.History at 0x27eadcffaf0>,\n",
       " <keras.callbacks.History at 0x27e851016f0>]"
      ]
     },
     "execution_count": 71,
     "metadata": {},
     "output_type": "execute_result"
    }
   ],
   "source": [
    "all_histories_new = all_histories\n",
    "all_histories_new"
   ]
  },
  {
   "cell_type": "code",
   "execution_count": 35,
   "metadata": {},
   "outputs": [
    {
     "data": {
      "text/plain": [
       "{'loss': [0.1743447631597519,\n",
       "  0.13441553711891174,\n",
       "  0.12499874085187912,\n",
       "  0.11408466100692749,\n",
       "  0.10442425310611725,\n",
       "  0.09452555328607559],\n",
       " 'accuracy': [0.9361920356750488,\n",
       "  0.9477217197418213,\n",
       "  0.9518755674362183,\n",
       "  0.9553186297416687,\n",
       "  0.9598199725151062,\n",
       "  0.9640053510665894],\n",
       " 'precision': [0.7661074995994568,\n",
       "  0.7966644167900085,\n",
       "  0.812758207321167,\n",
       "  0.821010410785675,\n",
       "  0.8382770419120789,\n",
       "  0.8515830039978027],\n",
       " 'recall': [0.5882611274719238,\n",
       "  0.6921838521957397,\n",
       "  0.7198477983474731,\n",
       "  0.7492681741714478,\n",
       "  0.7776639461517334,\n",
       "  0.807084321975708],\n",
       " 'auc_roc': [0.9465693235397339,\n",
       "  0.964483916759491,\n",
       "  0.9695219993591309,\n",
       "  0.9742701649665833,\n",
       "  0.9778785109519958,\n",
       "  0.9814093112945557],\n",
       " 'auc_pr': [0.6888279914855957,\n",
       "  0.8147232532501221,\n",
       "  0.8394414186477661,\n",
       "  0.8680587410926819,\n",
       "  0.8886857032775879,\n",
       "  0.9075177907943726],\n",
       " 'true_positives': [4019.0, 4729.0, 4918.0, 5119.0, 5313.0, 5514.0],\n",
       " 'false_positives': [1227.0, 1207.0, 1133.0, 1116.0, 1025.0, 961.0],\n",
       " 'true_negatives': [55256.0, 55276.0, 55350.0, 55367.0, 55458.0, 55522.0],\n",
       " 'false_negatives': [2813.0, 2103.0, 1914.0, 1713.0, 1519.0, 1318.0],\n",
       " 'val_loss': [0.15687358379364014,\n",
       "  0.15266720950603485,\n",
       "  0.14702366292476654,\n",
       "  0.16283392906188965,\n",
       "  0.15416298806667328,\n",
       "  0.18631598353385925],\n",
       " 'val_accuracy': [0.9388046264648438,\n",
       "  0.9421138167381287,\n",
       "  0.9425211548805237,\n",
       "  0.9403828382492065,\n",
       "  0.9400264620780945,\n",
       "  0.9311169981956482],\n",
       " 'val_precision': [0.7509933710098267,\n",
       "  0.8032424449920654,\n",
       "  0.7451327443122864,\n",
       "  0.7292271852493286,\n",
       "  0.7487277388572693,\n",
       "  0.6639654040336609],\n",
       " 'val_recall': [0.5785714387893677,\n",
       "  0.5561224222183228,\n",
       "  0.6443877816200256,\n",
       "  0.6403061151504517,\n",
       "  0.6005101799964905,\n",
       "  0.6270408034324646],\n",
       " 'val_auc_roc': [0.9459673166275024,\n",
       "  0.9489325284957886,\n",
       "  0.9522489309310913,\n",
       "  0.9462074637413025,\n",
       "  0.9517896771430969,\n",
       "  0.937720537185669],\n",
       " 'val_auc_pr': [0.718664288520813,\n",
       "  0.7591341733932495,\n",
       "  0.760784387588501,\n",
       "  0.7386734485626221,\n",
       "  0.7407323122024536,\n",
       "  0.6866285800933838],\n",
       " 'val_true_positives': [1134.0, 1090.0, 1263.0, 1255.0, 1177.0, 1229.0],\n",
       " 'val_false_positives': [376.0, 267.0, 432.0, 466.0, 395.0, 622.0],\n",
       " 'val_true_negatives': [17306.0, 17415.0, 17250.0, 17216.0, 17287.0, 17060.0],\n",
       " 'val_false_negatives': [826.0, 870.0, 697.0, 705.0, 783.0, 731.0]}"
      ]
     },
     "execution_count": 35,
     "metadata": {},
     "output_type": "execute_result"
    }
   ],
   "source": [
    "all_histories[0].history"
   ]
  },
  {
   "cell_type": "code",
   "execution_count": 45,
   "metadata": {},
   "outputs": [],
   "source": [
    "all_fold_history = {\n",
    "    \"loss\" :[],\n",
    "    \"accuracy\":[],\n",
    "    \"precision\":[],\n",
    "    \"recall\":[],\n",
    "    \"auc_roc\":[],\n",
    "    \"val_loss\":[],\n",
    "    \"val_accuracy\":[],\n",
    "    \"val_precision\":[],\n",
    "    \"val_recall\":[],\n",
    "    \"val_auc_roc\":[],\n",
    "    \"true_positives\":[],\n",
    "    \"false_positives\":[],\n",
    "    \"true_negatives\":[],\n",
    "    \"false_negatives\":[],\n",
    "    \"val_true_positives\":[],\n",
    "    \"val_false_positives\":[],\n",
    "    \"val_true_negatives\":[],\n",
    "    \"val_false_negatives\":[],\n",
    "}\n",
    "# history_one = all_histories[0].history[\"recall\"][-1]\n"
   ]
  },
  {
   "cell_type": "code",
   "execution_count": 46,
   "metadata": {},
   "outputs": [],
   "source": [
    "for i in range(5):\n",
    "    for key,val in all_fold_history.items():\n",
    "        all_fold_history[key].append(all_histories[0].history[key][-1])"
   ]
  },
  {
   "cell_type": "code",
   "execution_count": 47,
   "metadata": {},
   "outputs": [
    {
     "data": {
      "text/plain": [
       "{'loss': [0.09452555328607559,\n",
       "  0.09452555328607559,\n",
       "  0.09452555328607559,\n",
       "  0.09452555328607559,\n",
       "  0.09452555328607559],\n",
       " 'accuracy': [0.9640053510665894,\n",
       "  0.9640053510665894,\n",
       "  0.9640053510665894,\n",
       "  0.9640053510665894,\n",
       "  0.9640053510665894],\n",
       " 'precision': [0.8515830039978027,\n",
       "  0.8515830039978027,\n",
       "  0.8515830039978027,\n",
       "  0.8515830039978027,\n",
       "  0.8515830039978027],\n",
       " 'recall': [0.807084321975708,\n",
       "  0.807084321975708,\n",
       "  0.807084321975708,\n",
       "  0.807084321975708,\n",
       "  0.807084321975708],\n",
       " 'auc_roc': [0.9814093112945557,\n",
       "  0.9814093112945557,\n",
       "  0.9814093112945557,\n",
       "  0.9814093112945557,\n",
       "  0.9814093112945557],\n",
       " 'val_loss': [0.18631598353385925,\n",
       "  0.18631598353385925,\n",
       "  0.18631598353385925,\n",
       "  0.18631598353385925,\n",
       "  0.18631598353385925],\n",
       " 'val_accuracy': [0.9311169981956482,\n",
       "  0.9311169981956482,\n",
       "  0.9311169981956482,\n",
       "  0.9311169981956482,\n",
       "  0.9311169981956482],\n",
       " 'val_precision': [0.6639654040336609,\n",
       "  0.6639654040336609,\n",
       "  0.6639654040336609,\n",
       "  0.6639654040336609,\n",
       "  0.6639654040336609],\n",
       " 'val_recall': [0.6270408034324646,\n",
       "  0.6270408034324646,\n",
       "  0.6270408034324646,\n",
       "  0.6270408034324646,\n",
       "  0.6270408034324646],\n",
       " 'val_auc_roc': [0.937720537185669,\n",
       "  0.937720537185669,\n",
       "  0.937720537185669,\n",
       "  0.937720537185669,\n",
       "  0.937720537185669],\n",
       " 'true_positives': [5514.0, 5514.0, 5514.0, 5514.0, 5514.0],\n",
       " 'false_positives': [961.0, 961.0, 961.0, 961.0, 961.0],\n",
       " 'true_negatives': [55522.0, 55522.0, 55522.0, 55522.0, 55522.0],\n",
       " 'false_negatives': [1318.0, 1318.0, 1318.0, 1318.0, 1318.0],\n",
       " 'val_true_positives': [1229.0, 1229.0, 1229.0, 1229.0, 1229.0],\n",
       " 'val_false_positives': [622.0, 622.0, 622.0, 622.0, 622.0],\n",
       " 'val_true_negatives': [17060.0, 17060.0, 17060.0, 17060.0, 17060.0],\n",
       " 'val_false_negatives': [731.0, 731.0, 731.0, 731.0, 731.0]}"
      ]
     },
     "execution_count": 47,
     "metadata": {},
     "output_type": "execute_result"
    }
   ],
   "source": [
    "all_fold_history"
   ]
  },
  {
   "cell_type": "code",
   "execution_count": 48,
   "metadata": {},
   "outputs": [
    {
     "name": "stdout",
     "output_type": "stream",
     "text": [
      "{'loss': 9.45255532860756, 'accuracy': 96.40053510665894, 'precision': 85.15830039978027, 'recall': 80.7084321975708, 'auc_roc': 98.14093112945557, 'val_loss': 18.631598353385925, 'val_accuracy': 93.11169981956482, 'val_precision': 66.39654040336609, 'val_recall': 62.70408034324646, 'val_auc_roc': 93.7720537185669, 'true_positives': 551400.0, 'false_positives': 96100.0, 'true_negatives': 5552200.0, 'false_negatives': 131800.0, 'val_true_positives': 122900.0, 'val_false_positives': 62200.0, 'val_true_negatives': 1706000.0, 'val_false_negatives': 73100.0}\n"
     ]
    }
   ],
   "source": [
    "# Calculate mean for each key\n",
    "mean_history = {key: np.mean(value)*100 for key, value in all_fold_history.items()}\n",
    "\n",
    "print(mean_history)"
   ]
  },
  {
   "cell_type": "markdown",
   "metadata": {},
   "source": []
  },
  {
   "cell_type": "code",
   "execution_count": 89,
   "metadata": {},
   "outputs": [
    {
     "data": {
      "text/plain": [
       "64.49750558733109"
      ]
     },
     "execution_count": 89,
     "metadata": {},
     "output_type": "execute_result"
    }
   ],
   "source": [
    "f1_score = 2 * (mean_history[\"val_precision\"] * mean_history[\"val_recall\"])/(mean_history[\"val_precision\"] + mean_history[\"val_recall\"])\n",
    "f1_score"
   ]
  },
  {
   "cell_type": "code",
   "execution_count": 88,
   "metadata": {},
   "outputs": [
    {
     "data": {
      "text/plain": [
       "0.9648229838253591"
      ]
     },
     "execution_count": 88,
     "metadata": {},
     "output_type": "execute_result"
    }
   ],
   "source": [
    "specificity = mean_history[\"val_true_negatives\"]/(mean_history[\"val_true_negatives\"] + mean_history[\"val_false_positives\"])\n",
    "specificity"
   ]
  },
  {
   "cell_type": "code",
   "execution_count": null,
   "metadata": {},
   "outputs": [],
   "source": []
  },
  {
   "cell_type": "code",
   "execution_count": null,
   "metadata": {},
   "outputs": [],
   "source": []
  },
  {
   "cell_type": "code",
   "execution_count": null,
   "metadata": {},
   "outputs": [],
   "source": []
  },
  {
   "cell_type": "code",
   "execution_count": 63,
   "metadata": {},
   "outputs": [
    {
     "data": {
      "text/plain": [
       "[0.9459691643714905,\n",
       " 0.9447126388549805,\n",
       " 0.948879063129425,\n",
       " 0.9504001140594482,\n",
       " 0.9502678513526917,\n",
       " 0.9513921141624451]"
      ]
     },
     "execution_count": 63,
     "metadata": {},
     "output_type": "execute_result"
    }
   ],
   "source": [
    "all_histories[4].history[\"val_accuracy\"]"
   ]
  },
  {
   "cell_type": "code",
   "execution_count": 70,
   "metadata": {},
   "outputs": [
    {
     "data": {
      "image/png": "[encoded data removed]",
      "text/plain": [
       "<Figure size 640x480 with 1 Axes>"
      ]
     },
     "metadata": {},
     "output_type": "display_data"
    }
   ],
   "source": [
    "plt.plot(all_histories[2].history[\"auc_roc\"],\"go-\",label=\"accuracy\")\n",
    "plt.plot(all_histories[2].history[\"val_auc_roc\"],\"bo-\",label=\"val_accuracy\")\n",
    "plt.legend()\n",
    "plt.show()"
   ]
  },
  {
   "cell_type": "code",
   "execution_count": 78,
   "metadata": {},
   "outputs": [
    {
     "data": {
      "image/png": "[encoded data removed]",
      "text/plain": [
       "<Figure size 640x480 with 1 Axes>"
      ]
     },
     "metadata": {},
     "output_type": "display_data"
    }
   ],
   "source": [
    "plt.plot(all_histories[4].history[\"accuracy\"],\"go-\",label=\"accuracy\")\n",
    "plt.plot(all_histories[4].history[\"val_accuracy\"],\"bo-\",label=\"val_accuracy\")\n",
    "plt.legend()\n",
    "plt.show()"
   ]
  },
  {
   "cell_type": "code",
   "execution_count": 85,
   "metadata": {},
   "outputs": [
    {
     "name": "stdout",
     "output_type": "stream",
     "text": [
      "TPR: [0.62704082 0.62704082 0.62704082 0.62704082 0.62704082]\n",
      "FPR: [0.03517702 0.03517702 0.03517702 0.03517702 0.03517702]\n",
      "Mean TPR: 0.6270408163265306\n",
      "Mean FPR: 0.03517701617464088\n"
     ]
    }
   ],
   "source": [
    "import numpy as np\n",
    "\n",
    "# Assuming all_fold_history is already defined as given in the previous examples\n",
    "\n",
    "# Extract values from the history\n",
    "val_tp = np.array(all_fold_history['val_true_positives'])\n",
    "val_fp = np.array(all_fold_history['val_false_positives'])\n",
    "val_tn = np.array(all_fold_history['val_true_negatives'])\n",
    "val_fn = np.array(all_fold_history['val_false_negatives'])\n",
    "\n",
    "# Compute TPR and FPR\n",
    "tpr = val_tp / (val_tp + val_fn)  # True Positive Rate\n",
    "fpr = val_fp / (val_fp + val_tn)  # False Positive Rate\n",
    "\n",
    "# Calculate mean TPR and FPR across folds\n",
    "mean_tpr = np.mean(tpr)\n",
    "mean_fpr = np.mean(fpr)\n",
    "\n",
    "# Print TPR and FPR for debugging\n",
    "print(f'TPR: {tpr}')\n",
    "print(f'FPR: {fpr}')\n",
    "print(f'Mean TPR: {mean_tpr}')\n",
    "print(f'Mean FPR: {mean_fpr}')\n"
   ]
  },
  {
   "cell_type": "code",
   "execution_count": 86,
   "metadata": {},
   "outputs": [
    {
     "data": {
      "image/png": "[encoded data removed]",
      "text/plain": [
       "<Figure size 800x600 with 1 Axes>"
      ]
     },
     "metadata": {},
     "output_type": "display_data"
    }
   ],
   "source": [
    "import matplotlib.pyplot as plt\n",
    "\n",
    "# Plot the ROC curve\n",
    "plt.figure(figsize=(8, 6))\n",
    "plt.plot(fpr, tpr, marker='o', linestyle='--', label='ROC curve (area = %0.2f)' % mean_tpr)\n",
    "plt.plot([0, 1], [0, 1], color='navy', linestyle='--')\n",
    "plt.xlabel('False Positive Rate')\n",
    "plt.ylabel('True Positive Rate')\n",
    "plt.title('Receiver Operating Characteristic (ROC) Curve')\n",
    "plt.legend(loc=\"lower right\")\n",
    "plt.show()"
   ]
  },
  {
   "cell_type": "markdown",
   "metadata": {},
   "source": [
    "# MFCC with Delta"
   ]
  },
  {
   "cell_type": "code",
   "execution_count": 82,
   "metadata": {},
   "outputs": [
    {
     "name": "stdout",
     "output_type": "stream",
     "text": [
      "Model: \"sequential_18\"\n",
      "_________________________________________________________________\n",
      " Layer (type)                Output Shape              Param #   \n",
      "=================================================================\n",
      " conv2d_36 (Conv2D)          (None, 64, 14, 64)        832       \n",
      "                                                                 \n",
      " max_pooling2d_36 (MaxPoolin  (None, 32, 7, 64)        0         \n",
      " g2D)                                                            \n",
      "                                                                 \n",
      " dropout_10 (Dropout)        (None, 32, 7, 64)         0         \n",
      "                                                                 \n",
      " conv2d_37 (Conv2D)          (None, 32, 7, 128)        32896     \n",
      "                                                                 \n",
      " max_pooling2d_37 (MaxPoolin  (None, 16, 3, 128)       0         \n",
      " g2D)                                                            \n",
      "                                                                 \n",
      " flatten_18 (Flatten)        (None, 6144)              0         \n",
      "                                                                 \n",
      " dense_54 (Dense)            (None, 128)               786560    \n",
      "                                                                 \n",
      " dropout_11 (Dropout)        (None, 128)               0         \n",
      "                                                                 \n",
      " dense_55 (Dense)            (None, 8)                 1032      \n",
      "                                                                 \n",
      " dense_56 (Dense)            (None, 1)                 9         \n",
      "                                                                 \n",
      "=================================================================\n",
      "Total params: 821,329\n",
      "Trainable params: 821,329\n",
      "Non-trainable params: 0\n",
      "_________________________________________________________________\n"
     ]
    }
   ],
   "source": [
    "def create_cnn_model(input_shape):\n",
    "    model = Sequential([\n",
    "        Conv2D(64, kernel_size=(2, 2), activation='relu', input_shape=input_shape,padding=\"same\"),\n",
    "        MaxPooling2D(pool_size=(2,2)),\n",
    "        Dropout(0.2),\n",
    "        Conv2D(128, kernel_size=(2, 2), activation='relu', input_shape=input_shape,padding=\"same\"),\n",
    "        MaxPooling2D(pool_size=(2,2)),\n",
    "        Flatten(),\n",
    "        Dense(128, activation='relu'),\n",
    "        Dropout(0.2),\n",
    "        Dense(8, activation='relu'),\n",
    "        Dense(1, activation='sigmoid')\n",
    "    ])\n",
    "    model.compile(loss=\"binary_crossentropy\", optimizer=\"adam\",\n",
    "    metrics=[\n",
    "            \"accuracy\",\n",
    "            metrics.Precision(name='precision'),\n",
    "            metrics.Recall(name='recall'),\n",
    "            metrics.AUC(name='auc_roc', curve='ROC'),\n",
    "            metrics.AUC(name='auc_pr', curve='PR'),\n",
    "            metrics.TruePositives(name='true_positives'),\n",
    "            metrics.FalsePositives(name='false_positives'),\n",
    "            metrics.TrueNegatives(name='true_negatives'),\n",
    "            metrics.FalseNegatives(name='false_negatives'),\n",
    "])\n",
    "    return model\n",
    "\n",
    "model = create_cnn_model(input_shape=(64,14,3))\n",
    "model.summary()"
   ]
  },
  {
   "cell_type": "code",
   "execution_count": 84,
   "metadata": {},
   "outputs": [
    {
     "name": "stdout",
     "output_type": "stream",
     "text": [
      "Sono Cross Val Split\n",
      " StratifiedKFold(n_splits=5, random_state=6, shuffle=True) \tTotal Audio Files: 300\n"
     ]
    },
    {
     "data": {
      "image/png": "[encoded data removed]",
      "text/plain": [
       "<Figure size 1600x600 with 1 Axes>"
      ]
     },
     "metadata": {},
     "output_type": "display_data"
    },
    {
     "name": "stdout",
     "output_type": "stream",
     "text": [
      "1 fold started\n",
      "Epoch 1/6\n",
      "1979/1979 [==============================] - 267s 133ms/step - loss: 0.2759 - accuracy: 0.8935 - precision: 0.5560 - recall: 0.0632 - auc_roc: 0.8144 - auc_pr: 0.3465 - true_positives: 432.0000 - false_positives: 345.0000 - true_negatives: 56138.0000 - false_negatives: 6400.0000 - val_loss: 0.2496 - val_accuracy: 0.9003 - val_precision: 0.5026 - val_recall: 0.0485 - val_auc_roc: 0.8434 - val_auc_pr: 0.3512 - val_true_positives: 95.0000 - val_false_positives: 94.0000 - val_true_negatives: 17588.0000 - val_false_negatives: 1865.0000\n",
      "Epoch 2/6\n",
      "1979/1979 [==============================] - 268s 135ms/step - loss: 0.2546 - accuracy: 0.8969 - precision: 0.5817 - recall: 0.1594 - auc_roc: 0.8533 - auc_pr: 0.4172 - true_positives: 1089.0000 - false_positives: 783.0000 - true_negatives: 55700.0000 - false_negatives: 5743.0000 - val_loss: 0.2515 - val_accuracy: 0.9009 - val_precision: 0.5528 - val_recall: 0.0347 - val_auc_roc: 0.8513 - val_auc_pr: 0.3722 - val_true_positives: 68.0000 - val_false_positives: 55.0000 - val_true_negatives: 17627.0000 - val_false_negatives: 1892.0000\n",
      "Epoch 3/6\n",
      "1979/1979 [==============================] - 222s 112ms/step - loss: 0.2454 - accuracy: 0.8985 - precision: 0.5917 - recall: 0.1913 - auc_roc: 0.8671 - auc_pr: 0.4482 - true_positives: 1307.0000 - false_positives: 902.0000 - true_negatives: 55581.0000 - false_negatives: 5525.0000 - val_loss: 0.2474 - val_accuracy: 0.9009 - val_precision: 0.5143 - val_recall: 0.1189 - val_auc_roc: 0.8489 - val_auc_pr: 0.3687 - val_true_positives: 233.0000 - val_false_positives: 220.0000 - val_true_negatives: 17462.0000 - val_false_negatives: 1727.0000\n",
      "Epoch 4/6\n",
      "1979/1979 [==============================] - 290s 147ms/step - loss: 0.2382 - accuracy: 0.9004 - precision: 0.6029 - recall: 0.2251 - auc_roc: 0.8774 - auc_pr: 0.4736 - true_positives: 1538.0000 - false_positives: 1013.0000 - true_negatives: 55470.0000 - false_negatives: 5294.0000 - val_loss: 0.2827 - val_accuracy: 0.9013 - val_precision: 0.5459 - val_recall: 0.0638 - val_auc_roc: 0.8445 - val_auc_pr: 0.3733 - val_true_positives: 125.0000 - val_false_positives: 104.0000 - val_true_negatives: 17578.0000 - val_false_negatives: 1835.0000\n",
      "Epoch 5/6\n",
      "1979/1979 [==============================] - 257s 130ms/step - loss: 0.2312 - accuracy: 0.9033 - precision: 0.6221 - recall: 0.2636 - auc_roc: 0.8866 - auc_pr: 0.5034 - true_positives: 1801.0000 - false_positives: 1094.0000 - true_negatives: 55389.0000 - false_negatives: 5031.0000 - val_loss: 0.2412 - val_accuracy: 0.9016 - val_precision: 0.5216 - val_recall: 0.1724 - val_auc_roc: 0.8577 - val_auc_pr: 0.3930 - val_true_positives: 338.0000 - val_false_positives: 310.0000 - val_true_negatives: 17372.0000 - val_false_negatives: 1622.0000\n",
      "Epoch 6/6\n",
      "1979/1979 [==============================] - 279s 141ms/step - loss: 0.2235 - accuracy: 0.9071 - precision: 0.6543 - recall: 0.2945 - auc_roc: 0.8955 - auc_pr: 0.5320 - true_positives: 2012.0000 - false_positives: 1063.0000 - true_negatives: 55420.0000 - false_negatives: 4820.0000 - val_loss: 0.2393 - val_accuracy: 0.9024 - val_precision: 0.5304 - val_recall: 0.1913 - val_auc_roc: 0.8614 - val_auc_pr: 0.3985 - val_true_positives: 375.0000 - val_false_positives: 332.0000 - val_true_negatives: 17350.0000 - val_false_negatives: 1585.0000\n",
      "2 fold started\n",
      "Epoch 1/6\n",
      " 757/2127 [=========>....................] - ETA: 2:52 - loss: 0.2865 - accuracy: 0.8961 - precision: 0.3594 - recall: 0.0092 - auc_roc: 0.7722 - auc_pr: 0.2612 - true_positives: 23.0000 - false_positives: 41.0000 - true_negatives: 21685.0000 - false_negatives: 2475.0000"
     ]
    },
    {
     "ename": "KeyboardInterrupt",
     "evalue": "",
     "output_type": "error",
     "traceback": [
      "\u001b[1;31m---------------------------------------------------------------------------\u001b[0m",
      "\u001b[1;31mKeyboardInterrupt\u001b[0m                         Traceback (most recent call last)",
      "Cell \u001b[1;32mIn[84], line 22\u001b[0m\n\u001b[0;32m     19\u001b[0m         count \u001b[38;5;241m+\u001b[39m\u001b[38;5;241m=\u001b[39m \u001b[38;5;241m1\u001b[39m\n\u001b[0;32m     20\u001b[0m     \u001b[38;5;28;01mreturn\u001b[39;00m all_histories_delta\n\u001b[1;32m---> 22\u001b[0m all_histories_delta \u001b[38;5;241m=\u001b[39m \u001b[43mtrain_with_cross_val_data\u001b[49m\u001b[43m(\u001b[49m\u001b[43m)\u001b[49m\n",
      "Cell \u001b[1;32mIn[84], line 17\u001b[0m, in \u001b[0;36mtrain_with_cross_val_data\u001b[1;34m()\u001b[0m\n\u001b[0;32m     15\u001b[0m X_val \u001b[38;5;241m=\u001b[39m final_mfcc_data[fold[\u001b[38;5;241m1\u001b[39m]]\n\u001b[0;32m     16\u001b[0m y_val \u001b[38;5;241m=\u001b[39m audio_df_with_mfccs\u001b[38;5;241m.\u001b[39mloc[fold[\u001b[38;5;241m1\u001b[39m]][\u001b[38;5;124m\"\u001b[39m\u001b[38;5;124mlabel\u001b[39m\u001b[38;5;124m\"\u001b[39m]\u001b[38;5;241m.\u001b[39mvalues\n\u001b[1;32m---> 17\u001b[0m history \u001b[38;5;241m=\u001b[39m \u001b[43mmodel\u001b[49m\u001b[38;5;241;43m.\u001b[39;49m\u001b[43mfit\u001b[49m\u001b[43m(\u001b[49m\u001b[43mX_train\u001b[49m\u001b[43m,\u001b[49m\u001b[43m \u001b[49m\u001b[43my_train\u001b[49m\u001b[43m,\u001b[49m\u001b[43m \u001b[49m\u001b[43mepochs\u001b[49m\u001b[38;5;241;43m=\u001b[39;49m\u001b[38;5;241;43m6\u001b[39;49m\u001b[43m,\u001b[49m\u001b[43m \u001b[49m\u001b[43mbatch_size\u001b[49m\u001b[38;5;241;43m=\u001b[39;49m\u001b[38;5;241;43m32\u001b[39;49m\u001b[43m,\u001b[49m\u001b[43m \u001b[49m\u001b[43mvalidation_data\u001b[49m\u001b[38;5;241;43m=\u001b[39;49m\u001b[43m(\u001b[49m\u001b[43mX_val\u001b[49m\u001b[43m,\u001b[49m\u001b[43my_val\u001b[49m\u001b[43m)\u001b[49m\u001b[43m)\u001b[49m\n\u001b[0;32m     18\u001b[0m all_histories_delta\u001b[38;5;241m.\u001b[39mappend(history)\n\u001b[0;32m     19\u001b[0m count \u001b[38;5;241m+\u001b[39m\u001b[38;5;241m=\u001b[39m \u001b[38;5;241m1\u001b[39m\n",
      "File \u001b[1;32mf:\\Data Science and ML\\End To End ML\\CE 903 - Group Project\\23-24_CE903-SU_team06\\venv-team06\\lib\\site-packages\\keras\\utils\\traceback_utils.py:65\u001b[0m, in \u001b[0;36mfilter_traceback.<locals>.error_handler\u001b[1;34m(*args, **kwargs)\u001b[0m\n\u001b[0;32m     63\u001b[0m filtered_tb \u001b[38;5;241m=\u001b[39m \u001b[38;5;28;01mNone\u001b[39;00m\n\u001b[0;32m     64\u001b[0m \u001b[38;5;28;01mtry\u001b[39;00m:\n\u001b[1;32m---> 65\u001b[0m     \u001b[38;5;28;01mreturn\u001b[39;00m fn(\u001b[38;5;241m*\u001b[39margs, \u001b[38;5;241m*\u001b[39m\u001b[38;5;241m*\u001b[39mkwargs)\n\u001b[0;32m     66\u001b[0m \u001b[38;5;28;01mexcept\u001b[39;00m \u001b[38;5;167;01mException\u001b[39;00m \u001b[38;5;28;01mas\u001b[39;00m e:\n\u001b[0;32m     67\u001b[0m     filtered_tb \u001b[38;5;241m=\u001b[39m _process_traceback_frames(e\u001b[38;5;241m.\u001b[39m__traceback__)\n",
      "File \u001b[1;32mf:\\Data Science and ML\\End To End ML\\CE 903 - Group Project\\23-24_CE903-SU_team06\\venv-team06\\lib\\site-packages\\keras\\engine\\training.py:1564\u001b[0m, in \u001b[0;36mModel.fit\u001b[1;34m(self, x, y, batch_size, epochs, verbose, callbacks, validation_split, validation_data, shuffle, class_weight, sample_weight, initial_epoch, steps_per_epoch, validation_steps, validation_batch_size, validation_freq, max_queue_size, workers, use_multiprocessing)\u001b[0m\n\u001b[0;32m   1556\u001b[0m \u001b[38;5;28;01mwith\u001b[39;00m tf\u001b[38;5;241m.\u001b[39mprofiler\u001b[38;5;241m.\u001b[39mexperimental\u001b[38;5;241m.\u001b[39mTrace(\n\u001b[0;32m   1557\u001b[0m     \u001b[38;5;124m\"\u001b[39m\u001b[38;5;124mtrain\u001b[39m\u001b[38;5;124m\"\u001b[39m,\n\u001b[0;32m   1558\u001b[0m     epoch_num\u001b[38;5;241m=\u001b[39mepoch,\n\u001b[1;32m   (...)\u001b[0m\n\u001b[0;32m   1561\u001b[0m     _r\u001b[38;5;241m=\u001b[39m\u001b[38;5;241m1\u001b[39m,\n\u001b[0;32m   1562\u001b[0m ):\n\u001b[0;32m   1563\u001b[0m     callbacks\u001b[38;5;241m.\u001b[39mon_train_batch_begin(step)\n\u001b[1;32m-> 1564\u001b[0m     tmp_logs \u001b[38;5;241m=\u001b[39m \u001b[38;5;28;43mself\u001b[39;49m\u001b[38;5;241;43m.\u001b[39;49m\u001b[43mtrain_function\u001b[49m\u001b[43m(\u001b[49m\u001b[43miterator\u001b[49m\u001b[43m)\u001b[49m\n\u001b[0;32m   1565\u001b[0m     \u001b[38;5;28;01mif\u001b[39;00m data_handler\u001b[38;5;241m.\u001b[39mshould_sync:\n\u001b[0;32m   1566\u001b[0m         context\u001b[38;5;241m.\u001b[39masync_wait()\n",
      "File \u001b[1;32mf:\\Data Science and ML\\End To End ML\\CE 903 - Group Project\\23-24_CE903-SU_team06\\venv-team06\\lib\\site-packages\\tensorflow\\python\\util\\traceback_utils.py:150\u001b[0m, in \u001b[0;36mfilter_traceback.<locals>.error_handler\u001b[1;34m(*args, **kwargs)\u001b[0m\n\u001b[0;32m    148\u001b[0m filtered_tb \u001b[38;5;241m=\u001b[39m \u001b[38;5;28;01mNone\u001b[39;00m\n\u001b[0;32m    149\u001b[0m \u001b[38;5;28;01mtry\u001b[39;00m:\n\u001b[1;32m--> 150\u001b[0m   \u001b[38;5;28;01mreturn\u001b[39;00m fn(\u001b[38;5;241m*\u001b[39margs, \u001b[38;5;241m*\u001b[39m\u001b[38;5;241m*\u001b[39mkwargs)\n\u001b[0;32m    151\u001b[0m \u001b[38;5;28;01mexcept\u001b[39;00m \u001b[38;5;167;01mException\u001b[39;00m \u001b[38;5;28;01mas\u001b[39;00m e:\n\u001b[0;32m    152\u001b[0m   filtered_tb \u001b[38;5;241m=\u001b[39m _process_traceback_frames(e\u001b[38;5;241m.\u001b[39m__traceback__)\n",
      "File \u001b[1;32mf:\\Data Science and ML\\End To End ML\\CE 903 - Group Project\\23-24_CE903-SU_team06\\venv-team06\\lib\\site-packages\\tensorflow\\python\\eager\\def_function.py:915\u001b[0m, in \u001b[0;36mFunction.__call__\u001b[1;34m(self, *args, **kwds)\u001b[0m\n\u001b[0;32m    912\u001b[0m compiler \u001b[38;5;241m=\u001b[39m \u001b[38;5;124m\"\u001b[39m\u001b[38;5;124mxla\u001b[39m\u001b[38;5;124m\"\u001b[39m \u001b[38;5;28;01mif\u001b[39;00m \u001b[38;5;28mself\u001b[39m\u001b[38;5;241m.\u001b[39m_jit_compile \u001b[38;5;28;01melse\u001b[39;00m \u001b[38;5;124m\"\u001b[39m\u001b[38;5;124mnonXla\u001b[39m\u001b[38;5;124m\"\u001b[39m\n\u001b[0;32m    914\u001b[0m \u001b[38;5;28;01mwith\u001b[39;00m OptionalXlaContext(\u001b[38;5;28mself\u001b[39m\u001b[38;5;241m.\u001b[39m_jit_compile):\n\u001b[1;32m--> 915\u001b[0m   result \u001b[38;5;241m=\u001b[39m \u001b[38;5;28mself\u001b[39m\u001b[38;5;241m.\u001b[39m_call(\u001b[38;5;241m*\u001b[39margs, \u001b[38;5;241m*\u001b[39m\u001b[38;5;241m*\u001b[39mkwds)\n\u001b[0;32m    917\u001b[0m new_tracing_count \u001b[38;5;241m=\u001b[39m \u001b[38;5;28mself\u001b[39m\u001b[38;5;241m.\u001b[39mexperimental_get_tracing_count()\n\u001b[0;32m    918\u001b[0m without_tracing \u001b[38;5;241m=\u001b[39m (tracing_count \u001b[38;5;241m==\u001b[39m new_tracing_count)\n",
      "File \u001b[1;32mf:\\Data Science and ML\\End To End ML\\CE 903 - Group Project\\23-24_CE903-SU_team06\\venv-team06\\lib\\site-packages\\tensorflow\\python\\eager\\def_function.py:947\u001b[0m, in \u001b[0;36mFunction._call\u001b[1;34m(self, *args, **kwds)\u001b[0m\n\u001b[0;32m    944\u001b[0m   \u001b[38;5;28mself\u001b[39m\u001b[38;5;241m.\u001b[39m_lock\u001b[38;5;241m.\u001b[39mrelease()\n\u001b[0;32m    945\u001b[0m   \u001b[38;5;66;03m# In this case we have created variables on the first call, so we run the\u001b[39;00m\n\u001b[0;32m    946\u001b[0m   \u001b[38;5;66;03m# defunned version which is guaranteed to never create variables.\u001b[39;00m\n\u001b[1;32m--> 947\u001b[0m   \u001b[38;5;28;01mreturn\u001b[39;00m \u001b[38;5;28mself\u001b[39m\u001b[38;5;241m.\u001b[39m_stateless_fn(\u001b[38;5;241m*\u001b[39margs, \u001b[38;5;241m*\u001b[39m\u001b[38;5;241m*\u001b[39mkwds)  \u001b[38;5;66;03m# pylint: disable=not-callable\u001b[39;00m\n\u001b[0;32m    948\u001b[0m \u001b[38;5;28;01melif\u001b[39;00m \u001b[38;5;28mself\u001b[39m\u001b[38;5;241m.\u001b[39m_stateful_fn \u001b[38;5;129;01mis\u001b[39;00m \u001b[38;5;129;01mnot\u001b[39;00m \u001b[38;5;28;01mNone\u001b[39;00m:\n\u001b[0;32m    949\u001b[0m   \u001b[38;5;66;03m# Release the lock early so that multiple threads can perform the call\u001b[39;00m\n\u001b[0;32m    950\u001b[0m   \u001b[38;5;66;03m# in parallel.\u001b[39;00m\n\u001b[0;32m    951\u001b[0m   \u001b[38;5;28mself\u001b[39m\u001b[38;5;241m.\u001b[39m_lock\u001b[38;5;241m.\u001b[39mrelease()\n",
      "File \u001b[1;32mf:\\Data Science and ML\\End To End ML\\CE 903 - Group Project\\23-24_CE903-SU_team06\\venv-team06\\lib\\site-packages\\tensorflow\\python\\eager\\function.py:2496\u001b[0m, in \u001b[0;36mFunction.__call__\u001b[1;34m(self, *args, **kwargs)\u001b[0m\n\u001b[0;32m   2493\u001b[0m \u001b[38;5;28;01mwith\u001b[39;00m \u001b[38;5;28mself\u001b[39m\u001b[38;5;241m.\u001b[39m_lock:\n\u001b[0;32m   2494\u001b[0m   (graph_function,\n\u001b[0;32m   2495\u001b[0m    filtered_flat_args) \u001b[38;5;241m=\u001b[39m \u001b[38;5;28mself\u001b[39m\u001b[38;5;241m.\u001b[39m_maybe_define_function(args, kwargs)\n\u001b[1;32m-> 2496\u001b[0m \u001b[38;5;28;01mreturn\u001b[39;00m \u001b[43mgraph_function\u001b[49m\u001b[38;5;241;43m.\u001b[39;49m\u001b[43m_call_flat\u001b[49m\u001b[43m(\u001b[49m\n\u001b[0;32m   2497\u001b[0m \u001b[43m    \u001b[49m\u001b[43mfiltered_flat_args\u001b[49m\u001b[43m,\u001b[49m\u001b[43m \u001b[49m\u001b[43mcaptured_inputs\u001b[49m\u001b[38;5;241;43m=\u001b[39;49m\u001b[43mgraph_function\u001b[49m\u001b[38;5;241;43m.\u001b[39;49m\u001b[43mcaptured_inputs\u001b[49m\u001b[43m)\u001b[49m\n",
      "File \u001b[1;32mf:\\Data Science and ML\\End To End ML\\CE 903 - Group Project\\23-24_CE903-SU_team06\\venv-team06\\lib\\site-packages\\tensorflow\\python\\eager\\function.py:1862\u001b[0m, in \u001b[0;36mConcreteFunction._call_flat\u001b[1;34m(self, args, captured_inputs, cancellation_manager)\u001b[0m\n\u001b[0;32m   1858\u001b[0m possible_gradient_type \u001b[38;5;241m=\u001b[39m gradients_util\u001b[38;5;241m.\u001b[39mPossibleTapeGradientTypes(args)\n\u001b[0;32m   1859\u001b[0m \u001b[38;5;28;01mif\u001b[39;00m (possible_gradient_type \u001b[38;5;241m==\u001b[39m gradients_util\u001b[38;5;241m.\u001b[39mPOSSIBLE_GRADIENT_TYPES_NONE\n\u001b[0;32m   1860\u001b[0m     \u001b[38;5;129;01mand\u001b[39;00m executing_eagerly):\n\u001b[0;32m   1861\u001b[0m   \u001b[38;5;66;03m# No tape is watching; skip to running the function.\u001b[39;00m\n\u001b[1;32m-> 1862\u001b[0m   \u001b[38;5;28;01mreturn\u001b[39;00m \u001b[38;5;28mself\u001b[39m\u001b[38;5;241m.\u001b[39m_build_call_outputs(\u001b[38;5;28;43mself\u001b[39;49m\u001b[38;5;241;43m.\u001b[39;49m\u001b[43m_inference_function\u001b[49m\u001b[38;5;241;43m.\u001b[39;49m\u001b[43mcall\u001b[49m\u001b[43m(\u001b[49m\n\u001b[0;32m   1863\u001b[0m \u001b[43m      \u001b[49m\u001b[43mctx\u001b[49m\u001b[43m,\u001b[49m\u001b[43m \u001b[49m\u001b[43margs\u001b[49m\u001b[43m,\u001b[49m\u001b[43m \u001b[49m\u001b[43mcancellation_manager\u001b[49m\u001b[38;5;241;43m=\u001b[39;49m\u001b[43mcancellation_manager\u001b[49m\u001b[43m)\u001b[49m)\n\u001b[0;32m   1864\u001b[0m forward_backward \u001b[38;5;241m=\u001b[39m \u001b[38;5;28mself\u001b[39m\u001b[38;5;241m.\u001b[39m_select_forward_and_backward_functions(\n\u001b[0;32m   1865\u001b[0m     args,\n\u001b[0;32m   1866\u001b[0m     possible_gradient_type,\n\u001b[0;32m   1867\u001b[0m     executing_eagerly)\n\u001b[0;32m   1868\u001b[0m forward_function, args_with_tangents \u001b[38;5;241m=\u001b[39m forward_backward\u001b[38;5;241m.\u001b[39mforward()\n",
      "File \u001b[1;32mf:\\Data Science and ML\\End To End ML\\CE 903 - Group Project\\23-24_CE903-SU_team06\\venv-team06\\lib\\site-packages\\tensorflow\\python\\eager\\function.py:499\u001b[0m, in \u001b[0;36m_EagerDefinedFunction.call\u001b[1;34m(self, ctx, args, cancellation_manager)\u001b[0m\n\u001b[0;32m    497\u001b[0m \u001b[38;5;28;01mwith\u001b[39;00m _InterpolateFunctionError(\u001b[38;5;28mself\u001b[39m):\n\u001b[0;32m    498\u001b[0m   \u001b[38;5;28;01mif\u001b[39;00m cancellation_manager \u001b[38;5;129;01mis\u001b[39;00m \u001b[38;5;28;01mNone\u001b[39;00m:\n\u001b[1;32m--> 499\u001b[0m     outputs \u001b[38;5;241m=\u001b[39m \u001b[43mexecute\u001b[49m\u001b[38;5;241;43m.\u001b[39;49m\u001b[43mexecute\u001b[49m\u001b[43m(\u001b[49m\n\u001b[0;32m    500\u001b[0m \u001b[43m        \u001b[49m\u001b[38;5;28;43mstr\u001b[39;49m\u001b[43m(\u001b[49m\u001b[38;5;28;43mself\u001b[39;49m\u001b[38;5;241;43m.\u001b[39;49m\u001b[43msignature\u001b[49m\u001b[38;5;241;43m.\u001b[39;49m\u001b[43mname\u001b[49m\u001b[43m)\u001b[49m\u001b[43m,\u001b[49m\n\u001b[0;32m    501\u001b[0m \u001b[43m        \u001b[49m\u001b[43mnum_outputs\u001b[49m\u001b[38;5;241;43m=\u001b[39;49m\u001b[38;5;28;43mself\u001b[39;49m\u001b[38;5;241;43m.\u001b[39;49m\u001b[43m_num_outputs\u001b[49m\u001b[43m,\u001b[49m\n\u001b[0;32m    502\u001b[0m \u001b[43m        \u001b[49m\u001b[43minputs\u001b[49m\u001b[38;5;241;43m=\u001b[39;49m\u001b[43margs\u001b[49m\u001b[43m,\u001b[49m\n\u001b[0;32m    503\u001b[0m \u001b[43m        \u001b[49m\u001b[43mattrs\u001b[49m\u001b[38;5;241;43m=\u001b[39;49m\u001b[43mattrs\u001b[49m\u001b[43m,\u001b[49m\n\u001b[0;32m    504\u001b[0m \u001b[43m        \u001b[49m\u001b[43mctx\u001b[49m\u001b[38;5;241;43m=\u001b[39;49m\u001b[43mctx\u001b[49m\u001b[43m)\u001b[49m\n\u001b[0;32m    505\u001b[0m   \u001b[38;5;28;01melse\u001b[39;00m:\n\u001b[0;32m    506\u001b[0m     outputs \u001b[38;5;241m=\u001b[39m execute\u001b[38;5;241m.\u001b[39mexecute_with_cancellation(\n\u001b[0;32m    507\u001b[0m         \u001b[38;5;28mstr\u001b[39m(\u001b[38;5;28mself\u001b[39m\u001b[38;5;241m.\u001b[39msignature\u001b[38;5;241m.\u001b[39mname),\n\u001b[0;32m    508\u001b[0m         num_outputs\u001b[38;5;241m=\u001b[39m\u001b[38;5;28mself\u001b[39m\u001b[38;5;241m.\u001b[39m_num_outputs,\n\u001b[1;32m   (...)\u001b[0m\n\u001b[0;32m    511\u001b[0m         ctx\u001b[38;5;241m=\u001b[39mctx,\n\u001b[0;32m    512\u001b[0m         cancellation_manager\u001b[38;5;241m=\u001b[39mcancellation_manager)\n",
      "File \u001b[1;32mf:\\Data Science and ML\\End To End ML\\CE 903 - Group Project\\23-24_CE903-SU_team06\\venv-team06\\lib\\site-packages\\tensorflow\\python\\eager\\execute.py:54\u001b[0m, in \u001b[0;36mquick_execute\u001b[1;34m(op_name, num_outputs, inputs, attrs, ctx, name)\u001b[0m\n\u001b[0;32m     52\u001b[0m \u001b[38;5;28;01mtry\u001b[39;00m:\n\u001b[0;32m     53\u001b[0m   ctx\u001b[38;5;241m.\u001b[39mensure_initialized()\n\u001b[1;32m---> 54\u001b[0m   tensors \u001b[38;5;241m=\u001b[39m \u001b[43mpywrap_tfe\u001b[49m\u001b[38;5;241;43m.\u001b[39;49m\u001b[43mTFE_Py_Execute\u001b[49m\u001b[43m(\u001b[49m\u001b[43mctx\u001b[49m\u001b[38;5;241;43m.\u001b[39;49m\u001b[43m_handle\u001b[49m\u001b[43m,\u001b[49m\u001b[43m \u001b[49m\u001b[43mdevice_name\u001b[49m\u001b[43m,\u001b[49m\u001b[43m \u001b[49m\u001b[43mop_name\u001b[49m\u001b[43m,\u001b[49m\n\u001b[0;32m     55\u001b[0m \u001b[43m                                      \u001b[49m\u001b[43minputs\u001b[49m\u001b[43m,\u001b[49m\u001b[43m \u001b[49m\u001b[43mattrs\u001b[49m\u001b[43m,\u001b[49m\u001b[43m \u001b[49m\u001b[43mnum_outputs\u001b[49m\u001b[43m)\u001b[49m\n\u001b[0;32m     56\u001b[0m \u001b[38;5;28;01mexcept\u001b[39;00m core\u001b[38;5;241m.\u001b[39m_NotOkStatusException \u001b[38;5;28;01mas\u001b[39;00m e:\n\u001b[0;32m     57\u001b[0m   \u001b[38;5;28;01mif\u001b[39;00m name \u001b[38;5;129;01mis\u001b[39;00m \u001b[38;5;129;01mnot\u001b[39;00m \u001b[38;5;28;01mNone\u001b[39;00m:\n",
      "\u001b[1;31mKeyboardInterrupt\u001b[0m: "
     ]
    }
   ],
   "source": [
    "def train_with_cross_val_data():\n",
    "    cv_strat = CrossValSplit(df_single_frame=audio_df_with_mfccs, non_cough_keys=audio_df[audio_df['cough_start_end'].isna()].index)\n",
    "    cv_strat_data = cv_strat.cross_val(stratified=True, shuffle=True, plot=True, show_fold_info=False)\n",
    "\n",
    "    all_histories_delta = []\n",
    "    count = 1\n",
    "\n",
    "    for fold in cv_strat_data:\n",
    "        print(f\"{count} fold started\")\n",
    "        model = create_cnn_model(input_shape=(64,16,3))\n",
    "\n",
    "        X_train = final_mfcc_data[fold[0]]\n",
    "        y_train = audio_df_with_mfccs.loc[fold[0]][\"label\"].values\n",
    "        \n",
    "        X_val = final_mfcc_data[fold[1]]\n",
    "        y_val = audio_df_with_mfccs.loc[fold[1]][\"label\"].values\n",
    "        history = model.fit(X_train, y_train, epochs=6, batch_size=32, validation_data=(X_val,y_val))\n",
    "        all_histories_delta.append(history)\n",
    "        count += 1\n",
    "    return all_histories_delta\n",
    "\n",
    "all_histories_delta = train_with_cross_val_data()"
   ]
  },
  {
   "cell_type": "code",
   "execution_count": null,
   "metadata": {},
   "outputs": [],
   "source": []
  }
 ],
 "metadata": {
  "kernelspec": {
   "display_name": ".venv",
   "language": "python",
   "name": "python3"
  },
  "language_info": {
   "codemirror_mode": {
    "name": "ipython",
    "version": 3
   },
   "file_extension": ".py",
   "mimetype": "text/x-python",
   "name": "python",
   "nbconvert_exporter": "python",
   "pygments_lexer": "ipython3",
   "version": "3.10.0"
  }
 },
 "nbformat": 4,
 "nbformat_minor": 2
}
